{
 "cells": [
  {
   "cell_type": "markdown",
   "id": "postal-andorra",
   "metadata": {
    "papermill": {
     "duration": 0.013591,
     "end_time": "2021-05-26T13:45:37.387974",
     "exception": false,
     "start_time": "2021-05-26T13:45:37.374383",
     "status": "completed"
    },
    "tags": []
   },
   "source": [
    "**Link to Training Notebook** [ https://www.kaggle.com/virajkadam/plant-pathology-apple-leaf-diseases ]"
   ]
  },
  {
   "cell_type": "markdown",
   "id": "surprised-enforcement",
   "metadata": {
    "papermill": {
     "duration": 0.012091,
     "end_time": "2021-05-26T13:45:37.412571",
     "exception": false,
     "start_time": "2021-05-26T13:45:37.400480",
     "status": "completed"
    },
    "tags": []
   },
   "source": [
    "# Imports"
   ]
  },
  {
   "cell_type": "code",
   "execution_count": 1,
   "id": "requested-mills",
   "metadata": {
    "execution": {
     "iopub.execute_input": "2021-05-26T13:45:37.451184Z",
     "iopub.status.busy": "2021-05-26T13:45:37.450601Z",
     "iopub.status.idle": "2021-05-26T13:45:42.771686Z",
     "shell.execute_reply": "2021-05-26T13:45:42.770956Z",
     "shell.execute_reply.started": "2021-05-26T13:42:46.664436Z"
    },
    "papermill": {
     "duration": 5.347141,
     "end_time": "2021-05-26T13:45:42.771846",
     "exception": false,
     "start_time": "2021-05-26T13:45:37.424705",
     "status": "completed"
    },
    "tags": []
   },
   "outputs": [],
   "source": [
    "import pandas as pd\n",
    "import numpy as np\n",
    "import os \n",
    "import gc \n",
    "from PIL import Image\n",
    "\n",
    "\n",
    "from tensorflow.keras.models import load_model\n",
    "from keras.preprocessing.image import load_img,img_to_array\n",
    "\n",
    "from tensorflow_addons.metrics import F1Score"
   ]
  },
  {
   "cell_type": "markdown",
   "id": "thick-albany",
   "metadata": {
    "papermill": {
     "duration": 0.012937,
     "end_time": "2021-05-26T13:45:42.799298",
     "exception": false,
     "start_time": "2021-05-26T13:45:42.786361",
     "status": "completed"
    },
    "tags": []
   },
   "source": [
    "**test Directory**"
   ]
  },
  {
   "cell_type": "code",
   "execution_count": 2,
   "id": "later-demographic",
   "metadata": {
    "execution": {
     "iopub.execute_input": "2021-05-26T13:45:42.829487Z",
     "iopub.status.busy": "2021-05-26T13:45:42.828857Z",
     "iopub.status.idle": "2021-05-26T13:45:42.831594Z",
     "shell.execute_reply": "2021-05-26T13:45:42.831136Z",
     "shell.execute_reply.started": "2021-05-26T13:42:53.790543Z"
    },
    "papermill": {
     "duration": 0.01965,
     "end_time": "2021-05-26T13:45:42.831714",
     "exception": false,
     "start_time": "2021-05-26T13:45:42.812064",
     "status": "completed"
    },
    "tags": []
   },
   "outputs": [],
   "source": [
    "test_dir='../input/plant-pathology-2021-fgvc8/test_images'\n",
    "\n",
    "img_size=(256,256)"
   ]
  },
  {
   "cell_type": "code",
   "execution_count": 3,
   "id": "amateur-finance",
   "metadata": {
    "execution": {
     "iopub.execute_input": "2021-05-26T13:45:42.860847Z",
     "iopub.status.busy": "2021-05-26T13:45:42.859960Z",
     "iopub.status.idle": "2021-05-26T13:45:42.891738Z",
     "shell.execute_reply": "2021-05-26T13:45:42.891229Z",
     "shell.execute_reply.started": "2021-05-26T13:42:53.796569Z"
    },
    "papermill": {
     "duration": 0.047295,
     "end_time": "2021-05-26T13:45:42.891860",
     "exception": false,
     "start_time": "2021-05-26T13:45:42.844565",
     "status": "completed"
    },
    "tags": []
   },
   "outputs": [
    {
     "data": {
      "text/html": [
       "<div>\n",
       "<style scoped>\n",
       "    .dataframe tbody tr th:only-of-type {\n",
       "        vertical-align: middle;\n",
       "    }\n",
       "\n",
       "    .dataframe tbody tr th {\n",
       "        vertical-align: top;\n",
       "    }\n",
       "\n",
       "    .dataframe thead th {\n",
       "        text-align: right;\n",
       "    }\n",
       "</style>\n",
       "<table border=\"1\" class=\"dataframe\">\n",
       "  <thead>\n",
       "    <tr style=\"text-align: right;\">\n",
       "      <th></th>\n",
       "      <th>image</th>\n",
       "      <th>labels</th>\n",
       "    </tr>\n",
       "  </thead>\n",
       "  <tbody>\n",
       "    <tr>\n",
       "      <th>0</th>\n",
       "      <td>85f8cb619c66b863.jpg</td>\n",
       "      <td>healthy</td>\n",
       "    </tr>\n",
       "    <tr>\n",
       "      <th>1</th>\n",
       "      <td>ad8770db05586b59.jpg</td>\n",
       "      <td>healthy</td>\n",
       "    </tr>\n",
       "    <tr>\n",
       "      <th>2</th>\n",
       "      <td>c7b03e718489f3ca.jpg</td>\n",
       "      <td>healthy</td>\n",
       "    </tr>\n",
       "  </tbody>\n",
       "</table>\n",
       "</div>"
      ],
      "text/plain": [
       "                  image   labels\n",
       "0  85f8cb619c66b863.jpg  healthy\n",
       "1  ad8770db05586b59.jpg  healthy\n",
       "2  c7b03e718489f3ca.jpg  healthy"
      ]
     },
     "execution_count": 3,
     "metadata": {},
     "output_type": "execute_result"
    }
   ],
   "source": [
    "sample_sub=pd.read_csv('../input/plant-pathology-2021-fgvc8/sample_submission.csv')\n",
    "sample_sub"
   ]
  },
  {
   "cell_type": "markdown",
   "id": "worthy-cambodia",
   "metadata": {
    "papermill": {
     "duration": 0.012789,
     "end_time": "2021-05-26T13:45:42.917541",
     "exception": false,
     "start_time": "2021-05-26T13:45:42.904752",
     "status": "completed"
    },
    "tags": []
   },
   "source": [
    "**metric**"
   ]
  },
  {
   "cell_type": "code",
   "execution_count": 4,
   "id": "underlying-calculation",
   "metadata": {
    "execution": {
     "iopub.execute_input": "2021-05-26T13:45:42.947017Z",
     "iopub.status.busy": "2021-05-26T13:45:42.946303Z",
     "iopub.status.idle": "2021-05-26T13:45:42.989464Z",
     "shell.execute_reply": "2021-05-26T13:45:42.988925Z",
     "shell.execute_reply.started": "2021-05-26T13:42:53.850305Z"
    },
    "papermill": {
     "duration": 0.059623,
     "end_time": "2021-05-26T13:45:42.989598",
     "exception": false,
     "start_time": "2021-05-26T13:45:42.929975",
     "status": "completed"
    },
    "tags": []
   },
   "outputs": [],
   "source": [
    "f1_score=F1Score(num_classes=6,average='macro',name='f1_score')"
   ]
  },
  {
   "cell_type": "markdown",
   "id": "affiliated-harris",
   "metadata": {
    "papermill": {
     "duration": 0.012922,
     "end_time": "2021-05-26T13:45:43.015530",
     "exception": false,
     "start_time": "2021-05-26T13:45:43.002608",
     "status": "completed"
    },
    "tags": []
   },
   "source": [
    "# **Load Image**"
   ]
  },
  {
   "cell_type": "code",
   "execution_count": 5,
   "id": "strange-combining",
   "metadata": {
    "execution": {
     "iopub.execute_input": "2021-05-26T13:45:43.047394Z",
     "iopub.status.busy": "2021-05-26T13:45:43.046491Z",
     "iopub.status.idle": "2021-05-26T13:45:43.049247Z",
     "shell.execute_reply": "2021-05-26T13:45:43.048704Z",
     "shell.execute_reply.started": "2021-05-26T13:42:53.904022Z"
    },
    "papermill": {
     "duration": 0.020716,
     "end_time": "2021-05-26T13:45:43.049394",
     "exception": false,
     "start_time": "2021-05-26T13:45:43.028678",
     "status": "completed"
    },
    "tags": []
   },
   "outputs": [],
   "source": [
    "def load_images(test_path,image):\n",
    "    '''load image from given path'''\n",
    "    img=load_img(test_path +'/' + image)\n",
    "    img=img.resize(img_size)\n",
    "    img=img_to_array(img)\n",
    "    img=np.expand_dims(img,axis=0)\n",
    "    img=img/255\n",
    "    \n",
    "    return img"
   ]
  },
  {
   "cell_type": "code",
   "execution_count": 6,
   "id": "cognitive-gnome",
   "metadata": {
    "execution": {
     "iopub.execute_input": "2021-05-26T13:45:43.078309Z",
     "iopub.status.busy": "2021-05-26T13:45:43.077803Z",
     "iopub.status.idle": "2021-05-26T13:45:43.081040Z",
     "shell.execute_reply": "2021-05-26T13:45:43.081498Z",
     "shell.execute_reply.started": "2021-05-26T13:42:53.911382Z"
    },
    "papermill": {
     "duration": 0.019182,
     "end_time": "2021-05-26T13:45:43.081629",
     "exception": false,
     "start_time": "2021-05-26T13:45:43.062447",
     "status": "completed"
    },
    "tags": []
   },
   "outputs": [],
   "source": [
    "label_classes=['complex', 'frog_eye_leaf_spot', 'healthy', 'powdery_mildew', 'rust', 'scab']"
   ]
  },
  {
   "cell_type": "markdown",
   "id": "inside-devices",
   "metadata": {
    "papermill": {
     "duration": 0.013019,
     "end_time": "2021-05-26T13:45:43.107585",
     "exception": false,
     "start_time": "2021-05-26T13:45:43.094566",
     "status": "completed"
    },
    "tags": []
   },
   "source": [
    "# Loading pre-trained models (on folds)"
   ]
  },
  {
   "cell_type": "code",
   "execution_count": 7,
   "id": "attractive-broad",
   "metadata": {
    "execution": {
     "iopub.execute_input": "2021-05-26T13:45:43.136488Z",
     "iopub.status.busy": "2021-05-26T13:45:43.135890Z",
     "iopub.status.idle": "2021-05-26T13:46:09.910422Z",
     "shell.execute_reply": "2021-05-26T13:46:09.909872Z",
     "shell.execute_reply.started": "2021-05-26T13:42:53.927261Z"
    },
    "papermill": {
     "duration": 26.790014,
     "end_time": "2021-05-26T13:46:09.910561",
     "exception": false,
     "start_time": "2021-05-26T13:45:43.120547",
     "status": "completed"
    },
    "tags": []
   },
   "outputs": [],
   "source": [
    "# loading pretrained models\n",
    "model1=load_model('../input/plant-pathology-apple-leaf-diseases/model_0.h5')\n",
    "model2=load_model('../input/plant-pathology-apple-leaf-diseases/model_1.h5')\n",
    "model3=load_model('../input/plant-pathology-apple-leaf-diseases/model_2.h5')"
   ]
  },
  {
   "cell_type": "code",
   "execution_count": 8,
   "id": "adjusted-cannon",
   "metadata": {
    "execution": {
     "iopub.execute_input": "2021-05-26T13:46:09.941042Z",
     "iopub.status.busy": "2021-05-26T13:46:09.940545Z",
     "iopub.status.idle": "2021-05-26T13:46:09.944348Z",
     "shell.execute_reply": "2021-05-26T13:46:09.943943Z",
     "shell.execute_reply.started": "2021-05-26T13:43:22.927208Z"
    },
    "papermill": {
     "duration": 0.021039,
     "end_time": "2021-05-26T13:46:09.944463",
     "exception": false,
     "start_time": "2021-05-26T13:46:09.923424",
     "status": "completed"
    },
    "tags": []
   },
   "outputs": [],
   "source": [
    "def get_label(prediction_prob,thresh=0.3):\n",
    "    '''get label for a class that satisfies given threshold'''\n",
    "    \n",
    "    prediction_prob=prediction_prob[0]\n",
    "    prediction_prob=list(prediction_prob)\n",
    "    labels=[label_classes[x] for x,prob in enumerate(prediction_prob) if prob >=thresh]\n",
    "    \n",
    "    labels=' '.join(labels)\n",
    "    \n",
    "    return labels"
   ]
  },
  {
   "cell_type": "code",
   "execution_count": 9,
   "id": "silent-washer",
   "metadata": {
    "execution": {
     "iopub.execute_input": "2021-05-26T13:46:09.975858Z",
     "iopub.status.busy": "2021-05-26T13:46:09.974980Z",
     "iopub.status.idle": "2021-05-26T13:46:09.977497Z",
     "shell.execute_reply": "2021-05-26T13:46:09.977984Z",
     "shell.execute_reply.started": "2021-05-26T13:43:22.938101Z"
    },
    "papermill": {
     "duration": 0.021585,
     "end_time": "2021-05-26T13:46:09.978131",
     "exception": false,
     "start_time": "2021-05-26T13:46:09.956546",
     "status": "completed"
    },
    "tags": []
   },
   "outputs": [],
   "source": [
    "def predict(test_path,threshold):\n",
    "    '''predict on test set, using given threshold'''\n",
    "    \n",
    "    images,labels=[],[]\n",
    "    \n",
    "    for image in os.listdir(test_path):\n",
    "        \n",
    "        #loading images         \n",
    "        img=load_images(test_path,image)\n",
    "        \n",
    "        #mean prediction from 3 models\n",
    "        pred_prob=(1/3* model1.predict(img)) + (1/3* model2.predict(img)) + (1/3* model3.predict(img))\n",
    "        \n",
    "        #getting prediction\n",
    "        preds=get_label(pred_prob,thresh=threshold)\n",
    "        \n",
    "        #saving image name and predicted label\n",
    "        images.append(image)\n",
    "        labels.append(preds)\n",
    "        \n",
    "    return images,labels\n",
    "        \n"
   ]
  },
  {
   "cell_type": "code",
   "execution_count": 10,
   "id": "framed-contamination",
   "metadata": {
    "execution": {
     "iopub.execute_input": "2021-05-26T13:46:10.007202Z",
     "iopub.status.busy": "2021-05-26T13:46:10.006635Z",
     "iopub.status.idle": "2021-05-26T13:46:21.155979Z",
     "shell.execute_reply": "2021-05-26T13:46:21.155333Z",
     "shell.execute_reply.started": "2021-05-26T13:44:58.723555Z"
    },
    "papermill": {
     "duration": 11.165183,
     "end_time": "2021-05-26T13:46:21.156101",
     "exception": false,
     "start_time": "2021-05-26T13:46:09.990918",
     "status": "completed"
    },
    "tags": []
   },
   "outputs": [],
   "source": [
    "#predicting using above func\n",
    "image_ids,labels=predict(test_dir,threshold=0.2)"
   ]
  },
  {
   "cell_type": "code",
   "execution_count": 11,
   "id": "conscious-aberdeen",
   "metadata": {
    "execution": {
     "iopub.execute_input": "2021-05-26T13:46:21.187575Z",
     "iopub.status.busy": "2021-05-26T13:46:21.186958Z",
     "iopub.status.idle": "2021-05-26T13:46:21.191182Z",
     "shell.execute_reply": "2021-05-26T13:46:21.191674Z",
     "shell.execute_reply.started": "2021-05-26T13:44:48.673394Z"
    },
    "papermill": {
     "duration": 0.022161,
     "end_time": "2021-05-26T13:46:21.191815",
     "exception": false,
     "start_time": "2021-05-26T13:46:21.169654",
     "status": "completed"
    },
    "tags": []
   },
   "outputs": [],
   "source": [
    "#submission file:\n",
    "submission_file=pd.DataFrame({'image':image_ids,'labels':labels})\n",
    "\n",
    "#saving submissions\n",
    "submission_file.to_csv('submission.csv',index=False)"
   ]
  },
  {
   "cell_type": "code",
   "execution_count": 12,
   "id": "muslim-effort",
   "metadata": {
    "execution": {
     "iopub.execute_input": "2021-05-26T13:46:21.219295Z",
     "iopub.status.busy": "2021-05-26T13:46:21.218748Z",
     "iopub.status.idle": "2021-05-26T13:46:21.225693Z",
     "shell.execute_reply": "2021-05-26T13:46:21.226112Z",
     "shell.execute_reply.started": "2021-05-26T13:44:48.685661Z"
    },
    "papermill": {
     "duration": 0.021899,
     "end_time": "2021-05-26T13:46:21.226232",
     "exception": false,
     "start_time": "2021-05-26T13:46:21.204333",
     "status": "completed"
    },
    "tags": []
   },
   "outputs": [
    {
     "data": {
      "text/html": [
       "<div>\n",
       "<style scoped>\n",
       "    .dataframe tbody tr th:only-of-type {\n",
       "        vertical-align: middle;\n",
       "    }\n",
       "\n",
       "    .dataframe tbody tr th {\n",
       "        vertical-align: top;\n",
       "    }\n",
       "\n",
       "    .dataframe thead th {\n",
       "        text-align: right;\n",
       "    }\n",
       "</style>\n",
       "<table border=\"1\" class=\"dataframe\">\n",
       "  <thead>\n",
       "    <tr style=\"text-align: right;\">\n",
       "      <th></th>\n",
       "      <th>image</th>\n",
       "      <th>labels</th>\n",
       "    </tr>\n",
       "  </thead>\n",
       "  <tbody>\n",
       "    <tr>\n",
       "      <th>0</th>\n",
       "      <td>ad8770db05586b59.jpg</td>\n",
       "      <td>complex frog_eye_leaf_spot rust</td>\n",
       "    </tr>\n",
       "    <tr>\n",
       "      <th>1</th>\n",
       "      <td>c7b03e718489f3ca.jpg</td>\n",
       "      <td>complex frog_eye_leaf_spot rust</td>\n",
       "    </tr>\n",
       "    <tr>\n",
       "      <th>2</th>\n",
       "      <td>85f8cb619c66b863.jpg</td>\n",
       "      <td>complex frog_eye_leaf_spot rust</td>\n",
       "    </tr>\n",
       "  </tbody>\n",
       "</table>\n",
       "</div>"
      ],
      "text/plain": [
       "                  image                           labels\n",
       "0  ad8770db05586b59.jpg  complex frog_eye_leaf_spot rust\n",
       "1  c7b03e718489f3ca.jpg  complex frog_eye_leaf_spot rust\n",
       "2  85f8cb619c66b863.jpg  complex frog_eye_leaf_spot rust"
      ]
     },
     "execution_count": 12,
     "metadata": {},
     "output_type": "execute_result"
    }
   ],
   "source": [
    "submission_file"
   ]
  },
  {
   "cell_type": "code",
   "execution_count": null,
   "id": "present-ladder",
   "metadata": {
    "papermill": {
     "duration": 0.012862,
     "end_time": "2021-05-26T13:46:21.252087",
     "exception": false,
     "start_time": "2021-05-26T13:46:21.239225",
     "status": "completed"
    },
    "tags": []
   },
   "outputs": [],
   "source": []
  }
 ],
 "metadata": {
  "kernelspec": {
   "display_name": "Python 3",
   "language": "python",
   "name": "python3"
  },
  "language_info": {
   "codemirror_mode": {
    "name": "ipython",
    "version": 3
   },
   "file_extension": ".py",
   "mimetype": "text/x-python",
   "name": "python",
   "nbconvert_exporter": "python",
   "pygments_lexer": "ipython3",
   "version": "3.7.10"
  },
  "papermill": {
   "default_parameters": {},
   "duration": 52.735357,
   "end_time": "2021-05-26T13:46:23.013015",
   "environment_variables": {},
   "exception": null,
   "input_path": "__notebook__.ipynb",
   "output_path": "__notebook__.ipynb",
   "parameters": {},
   "start_time": "2021-05-26T13:45:30.277658",
   "version": "2.3.3"
  }
 },
 "nbformat": 4,
 "nbformat_minor": 5
}
