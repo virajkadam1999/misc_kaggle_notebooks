{
 "cells": [
  {
   "cell_type": "code",
   "execution_count": 1,
   "metadata": {
    "_cell_guid": "b1076dfc-b9ad-4769-8c92-a6c4dae69d19",
    "_uuid": "8f2839f25d086af736a60e9eeb907d3b93b6e0e5",
    "execution": {
     "iopub.execute_input": "2020-12-30T11:12:04.754005Z",
     "iopub.status.busy": "2020-12-30T11:12:04.753330Z",
     "iopub.status.idle": "2020-12-30T11:12:04.766018Z",
     "shell.execute_reply": "2020-12-30T11:12:04.766675Z"
    },
    "papermill": {
     "duration": 0.042698,
     "end_time": "2020-12-30T11:12:04.766828",
     "exception": false,
     "start_time": "2020-12-30T11:12:04.724130",
     "status": "completed"
    },
    "tags": []
   },
   "outputs": [
    {
     "name": "stdout",
     "output_type": "stream",
     "text": [
      "/kaggle/input/creditcardfraud/creditcard.csv\n"
     ]
    }
   ],
   "source": [
    "# This Python 3 environment comes with many helpful analytics libraries installed\n",
    "# It is defined by the kaggle/python Docker image: https://github.com/kaggle/docker-python\n",
    "# For example, here's several helpful packages to load\n",
    "\n",
    "import numpy as np # linear algebra\n",
    "import pandas as pd # data processing, CSV file I/O (e.g. pd.read_csv)\n",
    "\n",
    "# Input data files are available in the read-only \"../input/\" directory\n",
    "# For example, running this (by clicking run or pressing Shift+Enter) will list all files under the input directory\n",
    "\n",
    "import os\n",
    "for dirname, _, filenames in os.walk('/kaggle/input'):\n",
    "    for filename in filenames:\n",
    "        print(os.path.join(dirname, filename))\n",
    "\n",
    "# You can write up to 20GB to the current directory (/kaggle/working/) that gets preserved as output when you create a version using \"Save & Run All\" \n",
    "# You can also write temporary files to /kaggle/temp/, but they won't be saved outside of the current session"
   ]
  },
  {
   "cell_type": "code",
   "execution_count": 2,
   "metadata": {
    "execution": {
     "iopub.execute_input": "2020-12-30T11:12:04.817521Z",
     "iopub.status.busy": "2020-12-30T11:12:04.816918Z",
     "iopub.status.idle": "2020-12-30T11:12:06.961731Z",
     "shell.execute_reply": "2020-12-30T11:12:06.961040Z"
    },
    "papermill": {
     "duration": 2.170383,
     "end_time": "2020-12-30T11:12:06.961847",
     "exception": false,
     "start_time": "2020-12-30T11:12:04.791464",
     "status": "completed"
    },
    "tags": []
   },
   "outputs": [],
   "source": [
    "import matplotlib.pyplot as plt\n",
    "import imblearn\n",
    "import random\n",
    "import seaborn as sns \n",
    "from sklearn.model_selection import train_test_split,StratifiedKFold,cross_val_score\n",
    "from sklearn.pipeline import Pipeline\n",
    "from sklearn.preprocessing import MinMaxScaler\n",
    "from sklearn.metrics import f1_score,make_scorer,confusion_matrix,ConfusionMatrixDisplay\n",
    "from sklearn.linear_model import LogisticRegression\n",
    "from sklearn.ensemble import RandomForestClassifier\n",
    "from sklearn.neighbors import KNeighborsClassifier,NeighborhoodComponentsAnalysis\n",
    "from xgboost import XGBClassifier"
   ]
  },
  {
   "cell_type": "code",
   "execution_count": 3,
   "metadata": {
    "execution": {
     "iopub.execute_input": "2020-12-30T11:12:07.011319Z",
     "iopub.status.busy": "2020-12-30T11:12:07.010709Z",
     "iopub.status.idle": "2020-12-30T11:12:07.012672Z",
     "shell.execute_reply": "2020-12-30T11:12:07.013083Z"
    },
    "papermill": {
     "duration": 0.028753,
     "end_time": "2020-12-30T11:12:07.013189",
     "exception": false,
     "start_time": "2020-12-30T11:12:06.984436",
     "status": "completed"
    },
    "tags": []
   },
   "outputs": [],
   "source": [
    "#setting random seed for reproducability:\n",
    "rs=7\n",
    "random.seed(rs)\n",
    "np.random.seed(rs)"
   ]
  },
  {
   "cell_type": "code",
   "execution_count": 4,
   "metadata": {
    "_cell_guid": "79c7e3d0-c299-4dcb-8224-4455121ee9b0",
    "_uuid": "d629ff2d2480ee46fbb7e2d37f6b5fab8052498a",
    "execution": {
     "iopub.execute_input": "2020-12-30T11:12:07.061144Z",
     "iopub.status.busy": "2020-12-30T11:12:07.060550Z",
     "iopub.status.idle": "2020-12-30T11:12:11.132446Z",
     "shell.execute_reply": "2020-12-30T11:12:11.132862Z"
    },
    "papermill": {
     "duration": 4.097677,
     "end_time": "2020-12-30T11:12:11.132991",
     "exception": false,
     "start_time": "2020-12-30T11:12:07.035314",
     "status": "completed"
    },
    "tags": []
   },
   "outputs": [
    {
     "data": {
      "text/html": [
       "<div>\n",
       "<style scoped>\n",
       "    .dataframe tbody tr th:only-of-type {\n",
       "        vertical-align: middle;\n",
       "    }\n",
       "\n",
       "    .dataframe tbody tr th {\n",
       "        vertical-align: top;\n",
       "    }\n",
       "\n",
       "    .dataframe thead th {\n",
       "        text-align: right;\n",
       "    }\n",
       "</style>\n",
       "<table border=\"1\" class=\"dataframe\">\n",
       "  <thead>\n",
       "    <tr style=\"text-align: right;\">\n",
       "      <th></th>\n",
       "      <th>Time</th>\n",
       "      <th>V1</th>\n",
       "      <th>V2</th>\n",
       "      <th>V3</th>\n",
       "      <th>V4</th>\n",
       "      <th>V5</th>\n",
       "      <th>V6</th>\n",
       "      <th>V7</th>\n",
       "      <th>V8</th>\n",
       "      <th>V9</th>\n",
       "      <th>...</th>\n",
       "      <th>V21</th>\n",
       "      <th>V22</th>\n",
       "      <th>V23</th>\n",
       "      <th>V24</th>\n",
       "      <th>V25</th>\n",
       "      <th>V26</th>\n",
       "      <th>V27</th>\n",
       "      <th>V28</th>\n",
       "      <th>Amount</th>\n",
       "      <th>Class</th>\n",
       "    </tr>\n",
       "  </thead>\n",
       "  <tbody>\n",
       "    <tr>\n",
       "      <th>0</th>\n",
       "      <td>0.0</td>\n",
       "      <td>-1.359807</td>\n",
       "      <td>-0.072781</td>\n",
       "      <td>2.536347</td>\n",
       "      <td>1.378155</td>\n",
       "      <td>-0.338321</td>\n",
       "      <td>0.462388</td>\n",
       "      <td>0.239599</td>\n",
       "      <td>0.098698</td>\n",
       "      <td>0.363787</td>\n",
       "      <td>...</td>\n",
       "      <td>-0.018307</td>\n",
       "      <td>0.277838</td>\n",
       "      <td>-0.110474</td>\n",
       "      <td>0.066928</td>\n",
       "      <td>0.128539</td>\n",
       "      <td>-0.189115</td>\n",
       "      <td>0.133558</td>\n",
       "      <td>-0.021053</td>\n",
       "      <td>149.62</td>\n",
       "      <td>0</td>\n",
       "    </tr>\n",
       "    <tr>\n",
       "      <th>1</th>\n",
       "      <td>0.0</td>\n",
       "      <td>1.191857</td>\n",
       "      <td>0.266151</td>\n",
       "      <td>0.166480</td>\n",
       "      <td>0.448154</td>\n",
       "      <td>0.060018</td>\n",
       "      <td>-0.082361</td>\n",
       "      <td>-0.078803</td>\n",
       "      <td>0.085102</td>\n",
       "      <td>-0.255425</td>\n",
       "      <td>...</td>\n",
       "      <td>-0.225775</td>\n",
       "      <td>-0.638672</td>\n",
       "      <td>0.101288</td>\n",
       "      <td>-0.339846</td>\n",
       "      <td>0.167170</td>\n",
       "      <td>0.125895</td>\n",
       "      <td>-0.008983</td>\n",
       "      <td>0.014724</td>\n",
       "      <td>2.69</td>\n",
       "      <td>0</td>\n",
       "    </tr>\n",
       "    <tr>\n",
       "      <th>2</th>\n",
       "      <td>1.0</td>\n",
       "      <td>-1.358354</td>\n",
       "      <td>-1.340163</td>\n",
       "      <td>1.773209</td>\n",
       "      <td>0.379780</td>\n",
       "      <td>-0.503198</td>\n",
       "      <td>1.800499</td>\n",
       "      <td>0.791461</td>\n",
       "      <td>0.247676</td>\n",
       "      <td>-1.514654</td>\n",
       "      <td>...</td>\n",
       "      <td>0.247998</td>\n",
       "      <td>0.771679</td>\n",
       "      <td>0.909412</td>\n",
       "      <td>-0.689281</td>\n",
       "      <td>-0.327642</td>\n",
       "      <td>-0.139097</td>\n",
       "      <td>-0.055353</td>\n",
       "      <td>-0.059752</td>\n",
       "      <td>378.66</td>\n",
       "      <td>0</td>\n",
       "    </tr>\n",
       "    <tr>\n",
       "      <th>3</th>\n",
       "      <td>1.0</td>\n",
       "      <td>-0.966272</td>\n",
       "      <td>-0.185226</td>\n",
       "      <td>1.792993</td>\n",
       "      <td>-0.863291</td>\n",
       "      <td>-0.010309</td>\n",
       "      <td>1.247203</td>\n",
       "      <td>0.237609</td>\n",
       "      <td>0.377436</td>\n",
       "      <td>-1.387024</td>\n",
       "      <td>...</td>\n",
       "      <td>-0.108300</td>\n",
       "      <td>0.005274</td>\n",
       "      <td>-0.190321</td>\n",
       "      <td>-1.175575</td>\n",
       "      <td>0.647376</td>\n",
       "      <td>-0.221929</td>\n",
       "      <td>0.062723</td>\n",
       "      <td>0.061458</td>\n",
       "      <td>123.50</td>\n",
       "      <td>0</td>\n",
       "    </tr>\n",
       "    <tr>\n",
       "      <th>4</th>\n",
       "      <td>2.0</td>\n",
       "      <td>-1.158233</td>\n",
       "      <td>0.877737</td>\n",
       "      <td>1.548718</td>\n",
       "      <td>0.403034</td>\n",
       "      <td>-0.407193</td>\n",
       "      <td>0.095921</td>\n",
       "      <td>0.592941</td>\n",
       "      <td>-0.270533</td>\n",
       "      <td>0.817739</td>\n",
       "      <td>...</td>\n",
       "      <td>-0.009431</td>\n",
       "      <td>0.798278</td>\n",
       "      <td>-0.137458</td>\n",
       "      <td>0.141267</td>\n",
       "      <td>-0.206010</td>\n",
       "      <td>0.502292</td>\n",
       "      <td>0.219422</td>\n",
       "      <td>0.215153</td>\n",
       "      <td>69.99</td>\n",
       "      <td>0</td>\n",
       "    </tr>\n",
       "  </tbody>\n",
       "</table>\n",
       "<p>5 rows × 31 columns</p>\n",
       "</div>"
      ],
      "text/plain": [
       "   Time        V1        V2        V3        V4        V5        V6        V7  \\\n",
       "0   0.0 -1.359807 -0.072781  2.536347  1.378155 -0.338321  0.462388  0.239599   \n",
       "1   0.0  1.191857  0.266151  0.166480  0.448154  0.060018 -0.082361 -0.078803   \n",
       "2   1.0 -1.358354 -1.340163  1.773209  0.379780 -0.503198  1.800499  0.791461   \n",
       "3   1.0 -0.966272 -0.185226  1.792993 -0.863291 -0.010309  1.247203  0.237609   \n",
       "4   2.0 -1.158233  0.877737  1.548718  0.403034 -0.407193  0.095921  0.592941   \n",
       "\n",
       "         V8        V9  ...       V21       V22       V23       V24       V25  \\\n",
       "0  0.098698  0.363787  ... -0.018307  0.277838 -0.110474  0.066928  0.128539   \n",
       "1  0.085102 -0.255425  ... -0.225775 -0.638672  0.101288 -0.339846  0.167170   \n",
       "2  0.247676 -1.514654  ...  0.247998  0.771679  0.909412 -0.689281 -0.327642   \n",
       "3  0.377436 -1.387024  ... -0.108300  0.005274 -0.190321 -1.175575  0.647376   \n",
       "4 -0.270533  0.817739  ... -0.009431  0.798278 -0.137458  0.141267 -0.206010   \n",
       "\n",
       "        V26       V27       V28  Amount  Class  \n",
       "0 -0.189115  0.133558 -0.021053  149.62      0  \n",
       "1  0.125895 -0.008983  0.014724    2.69      0  \n",
       "2 -0.139097 -0.055353 -0.059752  378.66      0  \n",
       "3 -0.221929  0.062723  0.061458  123.50      0  \n",
       "4  0.502292  0.219422  0.215153   69.99      0  \n",
       "\n",
       "[5 rows x 31 columns]"
      ]
     },
     "execution_count": 4,
     "metadata": {},
     "output_type": "execute_result"
    }
   ],
   "source": [
    "df=pd.read_csv('../input/creditcardfraud/creditcard.csv')\n",
    "df.head()"
   ]
  },
  {
   "cell_type": "code",
   "execution_count": 5,
   "metadata": {
    "execution": {
     "iopub.execute_input": "2020-12-30T11:12:11.189389Z",
     "iopub.status.busy": "2020-12-30T11:12:11.188149Z",
     "iopub.status.idle": "2020-12-30T11:12:11.228560Z",
     "shell.execute_reply": "2020-12-30T11:12:11.227989Z"
    },
    "papermill": {
     "duration": 0.070541,
     "end_time": "2020-12-30T11:12:11.228664",
     "exception": false,
     "start_time": "2020-12-30T11:12:11.158123",
     "status": "completed"
    },
    "tags": []
   },
   "outputs": [
    {
     "name": "stdout",
     "output_type": "stream",
     "text": [
      "<class 'pandas.core.frame.DataFrame'>\n",
      "RangeIndex: 284807 entries, 0 to 284806\n",
      "Data columns (total 31 columns):\n",
      " #   Column  Non-Null Count   Dtype  \n",
      "---  ------  --------------   -----  \n",
      " 0   Time    284807 non-null  float64\n",
      " 1   V1      284807 non-null  float64\n",
      " 2   V2      284807 non-null  float64\n",
      " 3   V3      284807 non-null  float64\n",
      " 4   V4      284807 non-null  float64\n",
      " 5   V5      284807 non-null  float64\n",
      " 6   V6      284807 non-null  float64\n",
      " 7   V7      284807 non-null  float64\n",
      " 8   V8      284807 non-null  float64\n",
      " 9   V9      284807 non-null  float64\n",
      " 10  V10     284807 non-null  float64\n",
      " 11  V11     284807 non-null  float64\n",
      " 12  V12     284807 non-null  float64\n",
      " 13  V13     284807 non-null  float64\n",
      " 14  V14     284807 non-null  float64\n",
      " 15  V15     284807 non-null  float64\n",
      " 16  V16     284807 non-null  float64\n",
      " 17  V17     284807 non-null  float64\n",
      " 18  V18     284807 non-null  float64\n",
      " 19  V19     284807 non-null  float64\n",
      " 20  V20     284807 non-null  float64\n",
      " 21  V21     284807 non-null  float64\n",
      " 22  V22     284807 non-null  float64\n",
      " 23  V23     284807 non-null  float64\n",
      " 24  V24     284807 non-null  float64\n",
      " 25  V25     284807 non-null  float64\n",
      " 26  V26     284807 non-null  float64\n",
      " 27  V27     284807 non-null  float64\n",
      " 28  V28     284807 non-null  float64\n",
      " 29  Amount  284807 non-null  float64\n",
      " 30  Class   284807 non-null  int64  \n",
      "dtypes: float64(30), int64(1)\n",
      "memory usage: 67.4 MB\n"
     ]
    }
   ],
   "source": [
    "#info\n",
    "df.info()"
   ]
  },
  {
   "cell_type": "code",
   "execution_count": 6,
   "metadata": {
    "execution": {
     "iopub.execute_input": "2020-12-30T11:12:11.313006Z",
     "iopub.status.busy": "2020-12-30T11:12:11.311550Z",
     "iopub.status.idle": "2020-12-30T11:12:11.663848Z",
     "shell.execute_reply": "2020-12-30T11:12:11.663277Z"
    },
    "papermill": {
     "duration": 0.410282,
     "end_time": "2020-12-30T11:12:11.663950",
     "exception": false,
     "start_time": "2020-12-30T11:12:11.253668",
     "status": "completed"
    },
    "tags": []
   },
   "outputs": [
    {
     "data": {
      "text/html": [
       "<div>\n",
       "<style scoped>\n",
       "    .dataframe tbody tr th:only-of-type {\n",
       "        vertical-align: middle;\n",
       "    }\n",
       "\n",
       "    .dataframe tbody tr th {\n",
       "        vertical-align: top;\n",
       "    }\n",
       "\n",
       "    .dataframe thead th {\n",
       "        text-align: right;\n",
       "    }\n",
       "</style>\n",
       "<table border=\"1\" class=\"dataframe\">\n",
       "  <thead>\n",
       "    <tr style=\"text-align: right;\">\n",
       "      <th></th>\n",
       "      <th>Time</th>\n",
       "      <th>V1</th>\n",
       "      <th>V2</th>\n",
       "      <th>V3</th>\n",
       "      <th>V4</th>\n",
       "      <th>V5</th>\n",
       "      <th>V6</th>\n",
       "      <th>V7</th>\n",
       "      <th>V8</th>\n",
       "      <th>V9</th>\n",
       "      <th>...</th>\n",
       "      <th>V21</th>\n",
       "      <th>V22</th>\n",
       "      <th>V23</th>\n",
       "      <th>V24</th>\n",
       "      <th>V25</th>\n",
       "      <th>V26</th>\n",
       "      <th>V27</th>\n",
       "      <th>V28</th>\n",
       "      <th>Amount</th>\n",
       "      <th>Class</th>\n",
       "    </tr>\n",
       "  </thead>\n",
       "  <tbody>\n",
       "    <tr>\n",
       "      <th>count</th>\n",
       "      <td>284807.000000</td>\n",
       "      <td>2.848070e+05</td>\n",
       "      <td>2.848070e+05</td>\n",
       "      <td>2.848070e+05</td>\n",
       "      <td>2.848070e+05</td>\n",
       "      <td>2.848070e+05</td>\n",
       "      <td>2.848070e+05</td>\n",
       "      <td>2.848070e+05</td>\n",
       "      <td>2.848070e+05</td>\n",
       "      <td>2.848070e+05</td>\n",
       "      <td>...</td>\n",
       "      <td>2.848070e+05</td>\n",
       "      <td>2.848070e+05</td>\n",
       "      <td>2.848070e+05</td>\n",
       "      <td>2.848070e+05</td>\n",
       "      <td>2.848070e+05</td>\n",
       "      <td>2.848070e+05</td>\n",
       "      <td>2.848070e+05</td>\n",
       "      <td>2.848070e+05</td>\n",
       "      <td>284807.000000</td>\n",
       "      <td>284807.000000</td>\n",
       "    </tr>\n",
       "    <tr>\n",
       "      <th>mean</th>\n",
       "      <td>94813.859575</td>\n",
       "      <td>3.919560e-15</td>\n",
       "      <td>5.688174e-16</td>\n",
       "      <td>-8.769071e-15</td>\n",
       "      <td>2.782312e-15</td>\n",
       "      <td>-1.552563e-15</td>\n",
       "      <td>2.010663e-15</td>\n",
       "      <td>-1.694249e-15</td>\n",
       "      <td>-1.927028e-16</td>\n",
       "      <td>-3.137024e-15</td>\n",
       "      <td>...</td>\n",
       "      <td>1.537294e-16</td>\n",
       "      <td>7.959909e-16</td>\n",
       "      <td>5.367590e-16</td>\n",
       "      <td>4.458112e-15</td>\n",
       "      <td>1.453003e-15</td>\n",
       "      <td>1.699104e-15</td>\n",
       "      <td>-3.660161e-16</td>\n",
       "      <td>-1.206049e-16</td>\n",
       "      <td>88.349619</td>\n",
       "      <td>0.001727</td>\n",
       "    </tr>\n",
       "    <tr>\n",
       "      <th>std</th>\n",
       "      <td>47488.145955</td>\n",
       "      <td>1.958696e+00</td>\n",
       "      <td>1.651309e+00</td>\n",
       "      <td>1.516255e+00</td>\n",
       "      <td>1.415869e+00</td>\n",
       "      <td>1.380247e+00</td>\n",
       "      <td>1.332271e+00</td>\n",
       "      <td>1.237094e+00</td>\n",
       "      <td>1.194353e+00</td>\n",
       "      <td>1.098632e+00</td>\n",
       "      <td>...</td>\n",
       "      <td>7.345240e-01</td>\n",
       "      <td>7.257016e-01</td>\n",
       "      <td>6.244603e-01</td>\n",
       "      <td>6.056471e-01</td>\n",
       "      <td>5.212781e-01</td>\n",
       "      <td>4.822270e-01</td>\n",
       "      <td>4.036325e-01</td>\n",
       "      <td>3.300833e-01</td>\n",
       "      <td>250.120109</td>\n",
       "      <td>0.041527</td>\n",
       "    </tr>\n",
       "    <tr>\n",
       "      <th>min</th>\n",
       "      <td>0.000000</td>\n",
       "      <td>-5.640751e+01</td>\n",
       "      <td>-7.271573e+01</td>\n",
       "      <td>-4.832559e+01</td>\n",
       "      <td>-5.683171e+00</td>\n",
       "      <td>-1.137433e+02</td>\n",
       "      <td>-2.616051e+01</td>\n",
       "      <td>-4.355724e+01</td>\n",
       "      <td>-7.321672e+01</td>\n",
       "      <td>-1.343407e+01</td>\n",
       "      <td>...</td>\n",
       "      <td>-3.483038e+01</td>\n",
       "      <td>-1.093314e+01</td>\n",
       "      <td>-4.480774e+01</td>\n",
       "      <td>-2.836627e+00</td>\n",
       "      <td>-1.029540e+01</td>\n",
       "      <td>-2.604551e+00</td>\n",
       "      <td>-2.256568e+01</td>\n",
       "      <td>-1.543008e+01</td>\n",
       "      <td>0.000000</td>\n",
       "      <td>0.000000</td>\n",
       "    </tr>\n",
       "    <tr>\n",
       "      <th>25%</th>\n",
       "      <td>54201.500000</td>\n",
       "      <td>-9.203734e-01</td>\n",
       "      <td>-5.985499e-01</td>\n",
       "      <td>-8.903648e-01</td>\n",
       "      <td>-8.486401e-01</td>\n",
       "      <td>-6.915971e-01</td>\n",
       "      <td>-7.682956e-01</td>\n",
       "      <td>-5.540759e-01</td>\n",
       "      <td>-2.086297e-01</td>\n",
       "      <td>-6.430976e-01</td>\n",
       "      <td>...</td>\n",
       "      <td>-2.283949e-01</td>\n",
       "      <td>-5.423504e-01</td>\n",
       "      <td>-1.618463e-01</td>\n",
       "      <td>-3.545861e-01</td>\n",
       "      <td>-3.171451e-01</td>\n",
       "      <td>-3.269839e-01</td>\n",
       "      <td>-7.083953e-02</td>\n",
       "      <td>-5.295979e-02</td>\n",
       "      <td>5.600000</td>\n",
       "      <td>0.000000</td>\n",
       "    </tr>\n",
       "    <tr>\n",
       "      <th>50%</th>\n",
       "      <td>84692.000000</td>\n",
       "      <td>1.810880e-02</td>\n",
       "      <td>6.548556e-02</td>\n",
       "      <td>1.798463e-01</td>\n",
       "      <td>-1.984653e-02</td>\n",
       "      <td>-5.433583e-02</td>\n",
       "      <td>-2.741871e-01</td>\n",
       "      <td>4.010308e-02</td>\n",
       "      <td>2.235804e-02</td>\n",
       "      <td>-5.142873e-02</td>\n",
       "      <td>...</td>\n",
       "      <td>-2.945017e-02</td>\n",
       "      <td>6.781943e-03</td>\n",
       "      <td>-1.119293e-02</td>\n",
       "      <td>4.097606e-02</td>\n",
       "      <td>1.659350e-02</td>\n",
       "      <td>-5.213911e-02</td>\n",
       "      <td>1.342146e-03</td>\n",
       "      <td>1.124383e-02</td>\n",
       "      <td>22.000000</td>\n",
       "      <td>0.000000</td>\n",
       "    </tr>\n",
       "    <tr>\n",
       "      <th>75%</th>\n",
       "      <td>139320.500000</td>\n",
       "      <td>1.315642e+00</td>\n",
       "      <td>8.037239e-01</td>\n",
       "      <td>1.027196e+00</td>\n",
       "      <td>7.433413e-01</td>\n",
       "      <td>6.119264e-01</td>\n",
       "      <td>3.985649e-01</td>\n",
       "      <td>5.704361e-01</td>\n",
       "      <td>3.273459e-01</td>\n",
       "      <td>5.971390e-01</td>\n",
       "      <td>...</td>\n",
       "      <td>1.863772e-01</td>\n",
       "      <td>5.285536e-01</td>\n",
       "      <td>1.476421e-01</td>\n",
       "      <td>4.395266e-01</td>\n",
       "      <td>3.507156e-01</td>\n",
       "      <td>2.409522e-01</td>\n",
       "      <td>9.104512e-02</td>\n",
       "      <td>7.827995e-02</td>\n",
       "      <td>77.165000</td>\n",
       "      <td>0.000000</td>\n",
       "    </tr>\n",
       "    <tr>\n",
       "      <th>max</th>\n",
       "      <td>172792.000000</td>\n",
       "      <td>2.454930e+00</td>\n",
       "      <td>2.205773e+01</td>\n",
       "      <td>9.382558e+00</td>\n",
       "      <td>1.687534e+01</td>\n",
       "      <td>3.480167e+01</td>\n",
       "      <td>7.330163e+01</td>\n",
       "      <td>1.205895e+02</td>\n",
       "      <td>2.000721e+01</td>\n",
       "      <td>1.559499e+01</td>\n",
       "      <td>...</td>\n",
       "      <td>2.720284e+01</td>\n",
       "      <td>1.050309e+01</td>\n",
       "      <td>2.252841e+01</td>\n",
       "      <td>4.584549e+00</td>\n",
       "      <td>7.519589e+00</td>\n",
       "      <td>3.517346e+00</td>\n",
       "      <td>3.161220e+01</td>\n",
       "      <td>3.384781e+01</td>\n",
       "      <td>25691.160000</td>\n",
       "      <td>1.000000</td>\n",
       "    </tr>\n",
       "  </tbody>\n",
       "</table>\n",
       "<p>8 rows × 31 columns</p>\n",
       "</div>"
      ],
      "text/plain": [
       "                Time            V1            V2            V3            V4  \\\n",
       "count  284807.000000  2.848070e+05  2.848070e+05  2.848070e+05  2.848070e+05   \n",
       "mean    94813.859575  3.919560e-15  5.688174e-16 -8.769071e-15  2.782312e-15   \n",
       "std     47488.145955  1.958696e+00  1.651309e+00  1.516255e+00  1.415869e+00   \n",
       "min         0.000000 -5.640751e+01 -7.271573e+01 -4.832559e+01 -5.683171e+00   \n",
       "25%     54201.500000 -9.203734e-01 -5.985499e-01 -8.903648e-01 -8.486401e-01   \n",
       "50%     84692.000000  1.810880e-02  6.548556e-02  1.798463e-01 -1.984653e-02   \n",
       "75%    139320.500000  1.315642e+00  8.037239e-01  1.027196e+00  7.433413e-01   \n",
       "max    172792.000000  2.454930e+00  2.205773e+01  9.382558e+00  1.687534e+01   \n",
       "\n",
       "                 V5            V6            V7            V8            V9  \\\n",
       "count  2.848070e+05  2.848070e+05  2.848070e+05  2.848070e+05  2.848070e+05   \n",
       "mean  -1.552563e-15  2.010663e-15 -1.694249e-15 -1.927028e-16 -3.137024e-15   \n",
       "std    1.380247e+00  1.332271e+00  1.237094e+00  1.194353e+00  1.098632e+00   \n",
       "min   -1.137433e+02 -2.616051e+01 -4.355724e+01 -7.321672e+01 -1.343407e+01   \n",
       "25%   -6.915971e-01 -7.682956e-01 -5.540759e-01 -2.086297e-01 -6.430976e-01   \n",
       "50%   -5.433583e-02 -2.741871e-01  4.010308e-02  2.235804e-02 -5.142873e-02   \n",
       "75%    6.119264e-01  3.985649e-01  5.704361e-01  3.273459e-01  5.971390e-01   \n",
       "max    3.480167e+01  7.330163e+01  1.205895e+02  2.000721e+01  1.559499e+01   \n",
       "\n",
       "       ...           V21           V22           V23           V24  \\\n",
       "count  ...  2.848070e+05  2.848070e+05  2.848070e+05  2.848070e+05   \n",
       "mean   ...  1.537294e-16  7.959909e-16  5.367590e-16  4.458112e-15   \n",
       "std    ...  7.345240e-01  7.257016e-01  6.244603e-01  6.056471e-01   \n",
       "min    ... -3.483038e+01 -1.093314e+01 -4.480774e+01 -2.836627e+00   \n",
       "25%    ... -2.283949e-01 -5.423504e-01 -1.618463e-01 -3.545861e-01   \n",
       "50%    ... -2.945017e-02  6.781943e-03 -1.119293e-02  4.097606e-02   \n",
       "75%    ...  1.863772e-01  5.285536e-01  1.476421e-01  4.395266e-01   \n",
       "max    ...  2.720284e+01  1.050309e+01  2.252841e+01  4.584549e+00   \n",
       "\n",
       "                V25           V26           V27           V28         Amount  \\\n",
       "count  2.848070e+05  2.848070e+05  2.848070e+05  2.848070e+05  284807.000000   \n",
       "mean   1.453003e-15  1.699104e-15 -3.660161e-16 -1.206049e-16      88.349619   \n",
       "std    5.212781e-01  4.822270e-01  4.036325e-01  3.300833e-01     250.120109   \n",
       "min   -1.029540e+01 -2.604551e+00 -2.256568e+01 -1.543008e+01       0.000000   \n",
       "25%   -3.171451e-01 -3.269839e-01 -7.083953e-02 -5.295979e-02       5.600000   \n",
       "50%    1.659350e-02 -5.213911e-02  1.342146e-03  1.124383e-02      22.000000   \n",
       "75%    3.507156e-01  2.409522e-01  9.104512e-02  7.827995e-02      77.165000   \n",
       "max    7.519589e+00  3.517346e+00  3.161220e+01  3.384781e+01   25691.160000   \n",
       "\n",
       "               Class  \n",
       "count  284807.000000  \n",
       "mean        0.001727  \n",
       "std         0.041527  \n",
       "min         0.000000  \n",
       "25%         0.000000  \n",
       "50%         0.000000  \n",
       "75%         0.000000  \n",
       "max         1.000000  \n",
       "\n",
       "[8 rows x 31 columns]"
      ]
     },
     "execution_count": 6,
     "metadata": {},
     "output_type": "execute_result"
    }
   ],
   "source": [
    "\n",
    "df.describe()"
   ]
  },
  {
   "cell_type": "code",
   "execution_count": 7,
   "metadata": {
    "execution": {
     "iopub.execute_input": "2020-12-30T11:12:11.722840Z",
     "iopub.status.busy": "2020-12-30T11:12:11.722142Z",
     "iopub.status.idle": "2020-12-30T11:12:11.993186Z",
     "shell.execute_reply": "2020-12-30T11:12:11.993711Z"
    },
    "papermill": {
     "duration": 0.304109,
     "end_time": "2020-12-30T11:12:11.993848",
     "exception": false,
     "start_time": "2020-12-30T11:12:11.689739",
     "status": "completed"
    },
    "tags": []
   },
   "outputs": [
    {
     "data": {
      "image/png": "[encoded data removed]",
      "text/plain": [
       "<Figure size 1008x432 with 1 Axes>"
      ]
     },
     "metadata": {},
     "output_type": "display_data"
    }
   ],
   "source": [
    "#lets plot the distributions of continous variables that make sense(i.e Time and Amount).\n",
    "plt.style.use('seaborn')\n",
    "def Dist(df,col):\n",
    "    fig,ax=plt.subplots(figsize=(14,6))\n",
    "    for key,grp in df.groupby('Class'):\n",
    "        sns.distplot(grp[col],hist=False,ax=ax,label=f'Class {key}')\n",
    "    plt.xlabel(col)\n",
    "    plt.ylabel('Distribution')\n",
    "    plt.legend()\n",
    "    plt.show()\n",
    "\n",
    "Dist(df,'Time')    "
   ]
  },
  {
   "cell_type": "code",
   "execution_count": 8,
   "metadata": {
    "execution": {
     "iopub.execute_input": "2020-12-30T11:12:12.064420Z",
     "iopub.status.busy": "2020-12-30T11:12:12.063780Z",
     "iopub.status.idle": "2020-12-30T11:12:12.300439Z",
     "shell.execute_reply": "2020-12-30T11:12:12.300864Z"
    },
    "papermill": {
     "duration": 0.278556,
     "end_time": "2020-12-30T11:12:12.301021",
     "exception": false,
     "start_time": "2020-12-30T11:12:12.022465",
     "status": "completed"
    },
    "tags": []
   },
   "outputs": [
    {
     "data": {
      "image/png": "[encoded data removed]",
      "text/plain": [
       "<Figure size 1008x432 with 1 Axes>"
      ]
     },
     "metadata": {},
     "output_type": "display_data"
    }
   ],
   "source": [
    "fig,ax=plt.subplots(figsize=(14,6))\n",
    "for key,grp in df.groupby('Class'):\n",
    "    sns.distplot(grp['Amount'],hist=False,ax=ax,label=f'Class {key}')\n",
    "plt.xlabel('Amount')\n",
    "plt.ylabel('Distribution')\n",
    "plt.xlim(-100,5000)\n",
    "plt.legend()\n",
    "plt.show()"
   ]
  },
  {
   "cell_type": "code",
   "execution_count": 9,
   "metadata": {
    "execution": {
     "iopub.execute_input": "2020-12-30T11:12:12.363278Z",
     "iopub.status.busy": "2020-12-30T11:12:12.362648Z",
     "iopub.status.idle": "2020-12-30T11:12:12.366304Z",
     "shell.execute_reply": "2020-12-30T11:12:12.365650Z"
    },
    "papermill": {
     "duration": 0.037551,
     "end_time": "2020-12-30T11:12:12.366424",
     "exception": false,
     "start_time": "2020-12-30T11:12:12.328873",
     "status": "completed"
    },
    "tags": []
   },
   "outputs": [
    {
     "data": {
      "text/plain": [
       "122.21132113821133"
      ]
     },
     "execution_count": 9,
     "metadata": {},
     "output_type": "execute_result"
    }
   ],
   "source": [
    "\n",
    "#lets see what the mean fraud amount is.\n",
    "mean_fraud_amount=df[df['Class']==1]['Amount'].mean()\n",
    "mean_fraud_amount\n"
   ]
  },
  {
   "cell_type": "code",
   "execution_count": 10,
   "metadata": {
    "execution": {
     "iopub.execute_input": "2020-12-30T11:12:12.426840Z",
     "iopub.status.busy": "2020-12-30T11:12:12.426213Z",
     "iopub.status.idle": "2020-12-30T11:12:12.433401Z",
     "shell.execute_reply": "2020-12-30T11:12:12.433883Z"
    },
    "papermill": {
     "duration": 0.040281,
     "end_time": "2020-12-30T11:12:12.434027",
     "exception": false,
     "start_time": "2020-12-30T11:12:12.393746",
     "status": "completed"
    },
    "tags": []
   },
   "outputs": [
    {
     "data": {
      "text/plain": [
       "0    284315\n",
       "1       492\n",
       "Name: Class, dtype: int64"
      ]
     },
     "execution_count": 10,
     "metadata": {},
     "output_type": "execute_result"
    }
   ],
   "source": [
    "#lets check the class balance.\n",
    "df['Class'].value_counts()"
   ]
  },
  {
   "cell_type": "markdown",
   "metadata": {
    "papermill": {
     "duration": 0.028171,
     "end_time": "2020-12-30T11:12:12.490748",
     "exception": false,
     "start_time": "2020-12-30T11:12:12.462577",
     "status": "completed"
    },
    "tags": []
   },
   "source": [
    "There is a heavy imbalance in the class.This will most likely cause a inflated accuracy score(because the model will classify most instances as a 0 and still achive a high accuracy.).So we will train the model with the normal data and check the F1 score and confusion matrix and then oversample the minority class(i.e 1's) and then train the model."
   ]
  },
  {
   "cell_type": "code",
   "execution_count": 11,
   "metadata": {
    "execution": {
     "iopub.execute_input": "2020-12-30T11:12:12.583986Z",
     "iopub.status.busy": "2020-12-30T11:12:12.583376Z",
     "iopub.status.idle": "2020-12-30T11:12:12.586564Z",
     "shell.execute_reply": "2020-12-30T11:12:12.585986Z"
    },
    "papermill": {
     "duration": 0.066778,
     "end_time": "2020-12-30T11:12:12.586674",
     "exception": false,
     "start_time": "2020-12-30T11:12:12.519896",
     "status": "completed"
    },
    "tags": []
   },
   "outputs": [],
   "source": [
    "#Features.\n",
    "X=df.drop('Class',axis=1)\n",
    "#target variable\n",
    "y=df['Class']"
   ]
  },
  {
   "cell_type": "code",
   "execution_count": 12,
   "metadata": {
    "execution": {
     "iopub.execute_input": "2020-12-30T11:12:12.652092Z",
     "iopub.status.busy": "2020-12-30T11:12:12.651433Z",
     "iopub.status.idle": "2020-12-30T11:12:12.984644Z",
     "shell.execute_reply": "2020-12-30T11:12:12.985134Z"
    },
    "papermill": {
     "duration": 0.368702,
     "end_time": "2020-12-30T11:12:12.985258",
     "exception": false,
     "start_time": "2020-12-30T11:12:12.616556",
     "status": "completed"
    },
    "tags": []
   },
   "outputs": [],
   "source": [
    "#splitting train and test data .\n",
    "X_train,X_test,y_train,y_test=train_test_split(X,y,test_size=.2,random_state=rs,stratify=y)\n",
    "\n",
    "#Normalizing the data.\n",
    "minmax=MinMaxScaler()\n",
    "\n",
    "X_train=minmax.fit_transform(X_train)\n",
    "X_test=minmax.transform(X_test)"
   ]
  },
  {
   "cell_type": "code",
   "execution_count": 13,
   "metadata": {
    "execution": {
     "iopub.execute_input": "2020-12-30T11:12:13.047127Z",
     "iopub.status.busy": "2020-12-30T11:12:13.046533Z",
     "iopub.status.idle": "2020-12-30T11:12:13.843635Z",
     "shell.execute_reply": "2020-12-30T11:12:13.844279Z"
    },
    "papermill": {
     "duration": 0.829476,
     "end_time": "2020-12-30T11:12:13.844460",
     "exception": false,
     "start_time": "2020-12-30T11:12:13.014984",
     "status": "completed"
    },
    "tags": []
   },
   "outputs": [
    {
     "data": {
      "text/plain": [
       "(227845, 10)"
      ]
     },
     "execution_count": 13,
     "metadata": {},
     "output_type": "execute_result"
    }
   ],
   "source": [
    "#using pca to reduce dimensionality of the data .\n",
    "\n",
    "from sklearn.decomposition import PCA\n",
    "pca=PCA(n_components=10)\n",
    "X_train=pca.fit_transform(X_train)\n",
    "X_test=pca.transform(X_test)\n",
    "X_train.shape"
   ]
  },
  {
   "cell_type": "code",
   "execution_count": 14,
   "metadata": {
    "execution": {
     "iopub.execute_input": "2020-12-30T11:12:13.912042Z",
     "iopub.status.busy": "2020-12-30T11:12:13.910982Z",
     "iopub.status.idle": "2020-12-30T11:12:13.914884Z",
     "shell.execute_reply": "2020-12-30T11:12:13.915390Z"
    },
    "papermill": {
     "duration": 0.036919,
     "end_time": "2020-12-30T11:12:13.915503",
     "exception": false,
     "start_time": "2020-12-30T11:12:13.878584",
     "status": "completed"
    },
    "tags": []
   },
   "outputs": [],
   "source": [
    "#use f1 scorer as an alternative evaluation metric. \n",
    "f1_scorer=make_scorer(f1_score)"
   ]
  },
  {
   "cell_type": "code",
   "execution_count": 15,
   "metadata": {
    "execution": {
     "iopub.execute_input": "2020-12-30T11:12:13.977839Z",
     "iopub.status.busy": "2020-12-30T11:12:13.976990Z",
     "iopub.status.idle": "2020-12-30T11:12:13.983449Z",
     "shell.execute_reply": "2020-12-30T11:12:13.983985Z"
    },
    "papermill": {
     "duration": 0.039113,
     "end_time": "2020-12-30T11:12:13.984105",
     "exception": false,
     "start_time": "2020-12-30T11:12:13.944992",
     "status": "completed"
    },
    "tags": []
   },
   "outputs": [],
   "source": [
    "#Models\n",
    "Lr=LogisticRegression()\n",
    "Rfc=RandomForestClassifier(n_estimators=30,random_state=7,n_jobs=-1)\n",
    "Xgbc=XGBClassifier(n_estimators=30,random_state=7,n_jobs=-1)\n",
    "\n",
    "# nca = NeighborhoodComponentsAnalysis(random_state=7)\n",
    "knn = KNeighborsClassifier(n_neighbors=5)\n",
    "# nca_pipe = Pipeline([('nca', nca), ('knn', knn)])\n",
    "\n",
    "#Stratified K fold\n",
    "Skfold=StratifiedKFold(random_state=7,n_splits=5,shuffle=True)\n",
    "\n",
    "models=[Lr,knn,Rfc,Xgbc]"
   ]
  },
  {
   "cell_type": "code",
   "execution_count": 16,
   "metadata": {
    "execution": {
     "iopub.execute_input": "2020-12-30T11:12:14.046051Z",
     "iopub.status.busy": "2020-12-30T11:12:14.045191Z",
     "iopub.status.idle": "2020-12-30T11:12:27.551780Z",
     "shell.execute_reply": "2020-12-30T11:12:27.550743Z"
    },
    "papermill": {
     "duration": 13.538424,
     "end_time": "2020-12-30T11:12:27.551925",
     "exception": false,
     "start_time": "2020-12-30T11:12:14.013501",
     "status": "completed"
    },
    "tags": []
   },
   "outputs": [
    {
     "name": "stdout",
     "output_type": "stream",
     "text": [
      "score without oversampling is 0.999420666409185\n"
     ]
    }
   ],
   "source": [
    "Xgbc.fit(X_train,y_train)\n",
    "pred=Xgbc.predict(X_test)\n",
    "cm=confusion_matrix(pred,y_test,labels=Xgbc.classes_)\n",
    "Score=Xgbc.score(X_test,y_test)\n",
    "print(f'score without oversampling is {Score}')\n",
    "# ConfusionMatrixDisplay(confusion_matrix=cm,display_labels=knn.classes_).plot()\n"
   ]
  },
  {
   "cell_type": "markdown",
   "metadata": {
    "papermill": {
     "duration": 0.031382,
     "end_time": "2020-12-30T11:12:27.615413",
     "exception": false,
     "start_time": "2020-12-30T11:12:27.584031",
     "status": "completed"
    },
    "tags": []
   },
   "source": [
    "Although the score seems to be extraodinarily good, it is so because of the heavy class imbalance."
   ]
  },
  {
   "cell_type": "code",
   "execution_count": 17,
   "metadata": {
    "execution": {
     "iopub.execute_input": "2020-12-30T11:12:27.682935Z",
     "iopub.status.busy": "2020-12-30T11:12:27.682195Z",
     "iopub.status.idle": "2020-12-30T11:12:27.685665Z",
     "shell.execute_reply": "2020-12-30T11:12:27.686074Z"
    },
    "papermill": {
     "duration": 0.039871,
     "end_time": "2020-12-30T11:12:27.686251",
     "exception": false,
     "start_time": "2020-12-30T11:12:27.646380",
     "status": "completed"
    },
    "tags": []
   },
   "outputs": [
    {
     "name": "stdout",
     "output_type": "stream",
     "text": [
      "Confusion Matrix\n"
     ]
    },
    {
     "data": {
      "text/plain": [
       "array([[56861,    30],\n",
       "       [    3,    68]])"
      ]
     },
     "execution_count": 17,
     "metadata": {},
     "output_type": "execute_result"
    }
   ],
   "source": [
    "print('Confusion Matrix')\n",
    "cm"
   ]
  },
  {
   "cell_type": "markdown",
   "metadata": {
    "papermill": {
     "duration": 0.033683,
     "end_time": "2020-12-30T11:12:27.750466",
     "exception": false,
     "start_time": "2020-12-30T11:12:27.716783",
     "status": "completed"
    },
    "tags": []
   },
   "source": [
    "The model has predicted 68 instances of fraud correctly, while it has missed 30 instances. It has wrongly classified 3 instances as fraud."
   ]
  },
  {
   "cell_type": "code",
   "execution_count": 18,
   "metadata": {
    "execution": {
     "iopub.execute_input": "2020-12-30T11:12:27.815103Z",
     "iopub.status.busy": "2020-12-30T11:12:27.814589Z",
     "iopub.status.idle": "2020-12-30T11:12:36.145979Z",
     "shell.execute_reply": "2020-12-30T11:12:36.145435Z"
    },
    "papermill": {
     "duration": 8.364992,
     "end_time": "2020-12-30T11:12:36.146072",
     "exception": false,
     "start_time": "2020-12-30T11:12:27.781080",
     "status": "completed"
    },
    "tags": []
   },
   "outputs": [
    {
     "name": "stderr",
     "output_type": "stream",
     "text": [
      "/opt/conda/lib/python3.7/site-packages/sklearn/utils/deprecation.py:143: FutureWarning: The sklearn.metrics.scorer module is  deprecated in version 0.22 and will be removed in version 0.24. The corresponding classes / functions should instead be imported from sklearn.metrics. Anything that cannot be imported from sklearn.metrics is now part of the private API.\n",
      "  warnings.warn(message, FutureWarning)\n",
      "/opt/conda/lib/python3.7/site-packages/sklearn/utils/deprecation.py:143: FutureWarning: The sklearn.feature_selection.base module is  deprecated in version 0.22 and will be removed in version 0.24. The corresponding classes / functions should instead be imported from sklearn.feature_selection. Anything that cannot be imported from sklearn.feature_selection is now part of the private API.\n",
      "  warnings.warn(message, FutureWarning)\n"
     ]
    },
    {
     "data": {
      "text/html": [
       "<style type='text/css'>\n",
       ".datatable table.frame { margin-bottom: 0; }\n",
       ".datatable table.frame thead { border-bottom: none; }\n",
       ".datatable table.frame tr.coltypes td {  color: #FFFFFF;  line-height: 6px;  padding: 0 0.5em;}\n",
       ".datatable .bool    { background: #DDDD99; }\n",
       ".datatable .object  { background: #565656; }\n",
       ".datatable .int     { background: #5D9E5D; }\n",
       ".datatable .float   { background: #4040CC; }\n",
       ".datatable .str     { background: #CC4040; }\n",
       ".datatable .row_index {  background: var(--jp-border-color3);  border-right: 1px solid var(--jp-border-color0);  color: var(--jp-ui-font-color3);  font-size: 9px;}\n",
       ".datatable .frame tr.coltypes .row_index {  background: var(--jp-border-color0);}\n",
       ".datatable th:nth-child(2) { padding-left: 12px; }\n",
       ".datatable .hellipsis {  color: var(--jp-cell-editor-border-color);}\n",
       ".datatable .vellipsis {  background: var(--jp-layout-color0);  color: var(--jp-cell-editor-border-color);}\n",
       ".datatable .na {  color: var(--jp-cell-editor-border-color);  font-size: 80%;}\n",
       ".datatable .footer { font-size: 9px; }\n",
       ".datatable .frame_dimensions {  background: var(--jp-border-color3);  border-top: 1px solid var(--jp-border-color0);  color: var(--jp-ui-font-color3);  display: inline-block;  opacity: 0.6;  padding: 1px 10px 1px 5px;}\n",
       ".datatable .frame thead tr.colnames {  background-image: url('data:image/png;base64,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');  background-repeat: repeat-x;  background-size: 14px;  height: 28px;}\n",
       "</style>\n"
      ],
      "text/plain": [
       "<IPython.core.display.HTML object>"
      ]
     },
     "metadata": {},
     "output_type": "display_data"
    },
    {
     "data": {
      "text/html": [
       "\n",
       "    <style>\n",
       "    table.eli5-weights tr:hover {\n",
       "        filter: brightness(85%);\n",
       "    }\n",
       "</style>\n",
       "\n",
       "\n",
       "\n",
       "    \n",
       "\n",
       "    \n",
       "\n",
       "    \n",
       "\n",
       "    \n",
       "\n",
       "    \n",
       "\n",
       "    \n",
       "\n",
       "\n",
       "    \n",
       "\n",
       "    \n",
       "\n",
       "    \n",
       "\n",
       "    \n",
       "\n",
       "    \n",
       "\n",
       "    \n",
       "\n",
       "\n",
       "    \n",
       "\n",
       "    \n",
       "\n",
       "    \n",
       "\n",
       "    \n",
       "\n",
       "    \n",
       "        <table class=\"eli5-weights eli5-feature-importances\" style=\"border-collapse: collapse; border: none; margin-top: 0em; table-layout: auto;\">\n",
       "    <thead>\n",
       "    <tr style=\"border: none;\">\n",
       "        <th style=\"padding: 0 1em 0 0.5em; text-align: right; border: none;\">Weight</th>\n",
       "        <th style=\"padding: 0 0.5em 0 0.5em; text-align: left; border: none;\">Feature</th>\n",
       "    </tr>\n",
       "    </thead>\n",
       "    <tbody>\n",
       "    \n",
       "        <tr style=\"background-color: hsl(120, 100.00%, 80.00%); border: none;\">\n",
       "            <td style=\"padding: 0 1em 0 0.5em; text-align: right; border: none;\">\n",
       "                0.0012\n",
       "                \n",
       "                    &plusmn; 0.0001\n",
       "                \n",
       "            </td>\n",
       "            <td style=\"padding: 0 0.5em 0 0.5em; text-align: left; border: none;\">\n",
       "                x8\n",
       "            </td>\n",
       "        </tr>\n",
       "    \n",
       "        <tr style=\"background-color: hsl(120, 100.00%, 89.58%); border: none;\">\n",
       "            <td style=\"padding: 0 1em 0 0.5em; text-align: right; border: none;\">\n",
       "                0.0005\n",
       "                \n",
       "                    &plusmn; 0.0002\n",
       "                \n",
       "            </td>\n",
       "            <td style=\"padding: 0 0.5em 0 0.5em; text-align: left; border: none;\">\n",
       "                x7\n",
       "            </td>\n",
       "        </tr>\n",
       "    \n",
       "        <tr style=\"background-color: hsl(120, 100.00%, 91.67%); border: none;\">\n",
       "            <td style=\"padding: 0 1em 0 0.5em; text-align: right; border: none;\">\n",
       "                0.0004\n",
       "                \n",
       "                    &plusmn; 0.0001\n",
       "                \n",
       "            </td>\n",
       "            <td style=\"padding: 0 0.5em 0 0.5em; text-align: left; border: none;\">\n",
       "                x9\n",
       "            </td>\n",
       "        </tr>\n",
       "    \n",
       "        <tr style=\"background-color: hsl(120, 100.00%, 96.52%); border: none;\">\n",
       "            <td style=\"padding: 0 1em 0 0.5em; text-align: right; border: none;\">\n",
       "                0.0001\n",
       "                \n",
       "                    &plusmn; 0.0001\n",
       "                \n",
       "            </td>\n",
       "            <td style=\"padding: 0 0.5em 0 0.5em; text-align: left; border: none;\">\n",
       "                x6\n",
       "            </td>\n",
       "        </tr>\n",
       "    \n",
       "        <tr style=\"background-color: hsl(120, 100.00%, 96.61%); border: none;\">\n",
       "            <td style=\"padding: 0 1em 0 0.5em; text-align: right; border: none;\">\n",
       "                0.0001\n",
       "                \n",
       "                    &plusmn; 0.0001\n",
       "                \n",
       "            </td>\n",
       "            <td style=\"padding: 0 0.5em 0 0.5em; text-align: left; border: none;\">\n",
       "                x4\n",
       "            </td>\n",
       "        </tr>\n",
       "    \n",
       "        <tr style=\"background-color: hsl(120, 100.00%, 97.91%); border: none;\">\n",
       "            <td style=\"padding: 0 1em 0 0.5em; text-align: right; border: none;\">\n",
       "                0.0000\n",
       "                \n",
       "                    &plusmn; 0.0000\n",
       "                \n",
       "            </td>\n",
       "            <td style=\"padding: 0 0.5em 0 0.5em; text-align: left; border: none;\">\n",
       "                x5\n",
       "            </td>\n",
       "        </tr>\n",
       "    \n",
       "        <tr style=\"background-color: hsl(120, 100.00%, 98.02%); border: none;\">\n",
       "            <td style=\"padding: 0 1em 0 0.5em; text-align: right; border: none;\">\n",
       "                0.0000\n",
       "                \n",
       "                    &plusmn; 0.0001\n",
       "                \n",
       "            </td>\n",
       "            <td style=\"padding: 0 0.5em 0 0.5em; text-align: left; border: none;\">\n",
       "                x1\n",
       "            </td>\n",
       "        </tr>\n",
       "    \n",
       "        <tr style=\"background-color: hsl(120, 100.00%, 98.35%); border: none;\">\n",
       "            <td style=\"padding: 0 1em 0 0.5em; text-align: right; border: none;\">\n",
       "                0.0000\n",
       "                \n",
       "                    &plusmn; 0.0000\n",
       "                \n",
       "            </td>\n",
       "            <td style=\"padding: 0 0.5em 0 0.5em; text-align: left; border: none;\">\n",
       "                x2\n",
       "            </td>\n",
       "        </tr>\n",
       "    \n",
       "        <tr style=\"background-color: hsl(120, 100.00%, 98.85%); border: none;\">\n",
       "            <td style=\"padding: 0 1em 0 0.5em; text-align: right; border: none;\">\n",
       "                0.0000\n",
       "                \n",
       "                    &plusmn; 0.0000\n",
       "                \n",
       "            </td>\n",
       "            <td style=\"padding: 0 0.5em 0 0.5em; text-align: left; border: none;\">\n",
       "                x3\n",
       "            </td>\n",
       "        </tr>\n",
       "    \n",
       "        <tr style=\"background-color: hsl(120, 100.00%, 99.13%); border: none;\">\n",
       "            <td style=\"padding: 0 1em 0 0.5em; text-align: right; border: none;\">\n",
       "                0.0000\n",
       "                \n",
       "                    &plusmn; 0.0000\n",
       "                \n",
       "            </td>\n",
       "            <td style=\"padding: 0 0.5em 0 0.5em; text-align: left; border: none;\">\n",
       "                x0\n",
       "            </td>\n",
       "        </tr>\n",
       "    \n",
       "    \n",
       "    </tbody>\n",
       "</table>\n",
       "    \n",
       "\n",
       "    \n",
       "\n",
       "\n",
       "    \n",
       "\n",
       "    \n",
       "\n",
       "    \n",
       "\n",
       "    \n",
       "\n",
       "    \n",
       "\n",
       "    \n",
       "\n",
       "\n",
       "\n"
      ],
      "text/plain": [
       "<IPython.core.display.HTML object>"
      ]
     },
     "execution_count": 18,
     "metadata": {},
     "output_type": "execute_result"
    }
   ],
   "source": [
    "#feature importance.\n",
    "import eli5\n",
    "from eli5.sklearn import PermutationImportance\n",
    "perm=PermutationImportance(Xgbc,random_state=7).fit(X_test,y_test)\n",
    "eli5.show_weights(perm)"
   ]
  },
  {
   "cell_type": "code",
   "execution_count": 19,
   "metadata": {
    "execution": {
     "iopub.execute_input": "2020-12-30T11:12:36.220019Z",
     "iopub.status.busy": "2020-12-30T11:12:36.219436Z",
     "iopub.status.idle": "2020-12-30T11:12:36.222339Z",
     "shell.execute_reply": "2020-12-30T11:12:36.221892Z"
    },
    "papermill": {
     "duration": 0.041077,
     "end_time": "2020-12-30T11:12:36.222464",
     "exception": false,
     "start_time": "2020-12-30T11:12:36.181387",
     "status": "completed"
    },
    "tags": []
   },
   "outputs": [],
   "source": [
    "# Crossval scores:\n",
    "# for model in models:\n",
    "#     acc=cross_val_score(model,X_train,y_train,cv=Skfold,scoring=f1_scorer)\n",
    "#     print(f'Mean f1 score with {model} is {acc.mean()} +/- {acc.std()}')\n",
    "\n",
    "\n",
    "#skipping this part because the dataset is big and it takes significant time to train."
   ]
  },
  {
   "cell_type": "code",
   "execution_count": 20,
   "metadata": {
    "execution": {
     "iopub.execute_input": "2020-12-30T11:12:36.295667Z",
     "iopub.status.busy": "2020-12-30T11:12:36.295048Z",
     "iopub.status.idle": "2020-12-30T11:12:36.299734Z",
     "shell.execute_reply": "2020-12-30T11:12:36.299176Z"
    },
    "papermill": {
     "duration": 0.042999,
     "end_time": "2020-12-30T11:12:36.299846",
     "exception": false,
     "start_time": "2020-12-30T11:12:36.256847",
     "status": "completed"
    },
    "tags": []
   },
   "outputs": [],
   "source": [
    "\n",
    "\n",
    "# from sklearn.model_selection import learning_curve\n",
    "\n",
    "# #lets plot a learning curve.\n",
    "\n",
    "# def plot_learning_curve(estimator,X,y,train_sizes,scoring,cv=5):\n",
    "#     train_sizes,train_scores,valid_scores=learning_curve(\n",
    "#     estimator=estimator,\n",
    "#     X=X,y=y,\n",
    "#     cv=cv,scoring=f1_scorer)\n",
    "\n",
    "#     #calc mean cv score and plotting.\n",
    "#     mean_training_scores=train_scores.mean(axis=1)\n",
    "#     mean_valid_scores=valid_scores.mean(axis=1)\n",
    "#     plt.figure(figsize=(16,10))\n",
    "#     plt.plot(train_sizes,mean_training_scores,label='training_score')\n",
    "#     plt.plot(train_sizes,mean_valid_scores,label='Validation score')\n",
    "#     plt.xlabel('training set size')\n",
    "#     plt.ylabel('f1 score')\n",
    "#     plt.legend()\n",
    "#     plt.title('Learning curve for XGB Classifier')\n",
    "#     plt.show()"
   ]
  },
  {
   "cell_type": "code",
   "execution_count": 21,
   "metadata": {
    "execution": {
     "iopub.execute_input": "2020-12-30T11:12:36.368681Z",
     "iopub.status.busy": "2020-12-30T11:12:36.368062Z",
     "iopub.status.idle": "2020-12-30T11:12:36.370649Z",
     "shell.execute_reply": "2020-12-30T11:12:36.370075Z"
    },
    "papermill": {
     "duration": 0.038319,
     "end_time": "2020-12-30T11:12:36.370742",
     "exception": false,
     "start_time": "2020-12-30T11:12:36.332423",
     "status": "completed"
    },
    "tags": []
   },
   "outputs": [],
   "source": [
    "# train_sizes=[round(len(X_train)/8),round(len(X_train)/4),round(len(X_train)/2),len(X)]\n",
    "\n",
    "# plot_learning_curve(estimator=Lr,X=X_train,y=y_train, train_sizes=train_sizes, scoring=f1_scorer,cv=Skfold)"
   ]
  },
  {
   "cell_type": "markdown",
   "metadata": {
    "papermill": {
     "duration": 0.033652,
     "end_time": "2020-12-30T11:12:36.436777",
     "exception": false,
     "start_time": "2020-12-30T11:12:36.403125",
     "status": "completed"
    },
    "tags": []
   },
   "source": [
    "# Over Sampling using SMOTE(Synthetic Minority Oversampling Technique)."
   ]
  },
  {
   "cell_type": "markdown",
   "metadata": {
    "papermill": {
     "duration": 0.031774,
     "end_time": "2020-12-30T11:12:36.501024",
     "exception": false,
     "start_time": "2020-12-30T11:12:36.469250",
     "status": "completed"
    },
    "tags": []
   },
   "source": [
    "Now lets improve the class imbalance by over sampling the data with the minority class(i.e 1's)."
   ]
  },
  {
   "cell_type": "code",
   "execution_count": 22,
   "metadata": {
    "execution": {
     "iopub.execute_input": "2020-12-30T11:12:36.571526Z",
     "iopub.status.busy": "2020-12-30T11:12:36.570746Z",
     "iopub.status.idle": "2020-12-30T11:12:36.826020Z",
     "shell.execute_reply": "2020-12-30T11:12:36.825183Z"
    },
    "papermill": {
     "duration": 0.293138,
     "end_time": "2020-12-30T11:12:36.826155",
     "exception": false,
     "start_time": "2020-12-30T11:12:36.533017",
     "status": "completed"
    },
    "tags": []
   },
   "outputs": [],
   "source": [
    "#splitting train and test data .\n",
    "X_train,X_test,y_train,y_test=train_test_split(X,y,test_size=.2,random_state=7,stratify=y)"
   ]
  },
  {
   "cell_type": "code",
   "execution_count": 23,
   "metadata": {
    "execution": {
     "iopub.execute_input": "2020-12-30T11:12:36.896835Z",
     "iopub.status.busy": "2020-12-30T11:12:36.895889Z",
     "iopub.status.idle": "2020-12-30T11:12:37.377146Z",
     "shell.execute_reply": "2020-12-30T11:12:37.376554Z"
    },
    "papermill": {
     "duration": 0.517561,
     "end_time": "2020-12-30T11:12:37.377257",
     "exception": false,
     "start_time": "2020-12-30T11:12:36.859696",
     "status": "completed"
    },
    "tags": []
   },
   "outputs": [
    {
     "name": "stdout",
     "output_type": "stream",
     "text": [
      "before SMOTE \n",
      " 0    227451\n",
      "1       394\n",
      "Name: Class, dtype: int64\n",
      "After SMOTE \n",
      " 1    227451\n",
      "0    227451\n",
      "Name: Class, dtype: int64\n"
     ]
    }
   ],
   "source": [
    "#over sampling using SMOTE\n",
    "smote=imblearn.over_sampling.SMOTE()\n",
    "print('before SMOTE \\n'  , y_train.value_counts())\n",
    "\n",
    "X_smote,y_smote=smote.fit_resample(X_train,y_train)\n",
    "print('After SMOTE \\n',y_smote.value_counts())"
   ]
  },
  {
   "cell_type": "code",
   "execution_count": 24,
   "metadata": {
    "execution": {
     "iopub.execute_input": "2020-12-30T11:12:37.454608Z",
     "iopub.status.busy": "2020-12-30T11:12:37.453449Z",
     "iopub.status.idle": "2020-12-30T11:12:37.577746Z",
     "shell.execute_reply": "2020-12-30T11:12:37.577126Z"
    },
    "papermill": {
     "duration": 0.165978,
     "end_time": "2020-12-30T11:12:37.577847",
     "exception": false,
     "start_time": "2020-12-30T11:12:37.411869",
     "status": "completed"
    },
    "tags": []
   },
   "outputs": [],
   "source": [
    "#Normalizing the data.\n",
    "minmax=MinMaxScaler()\n",
    "\n",
    "X_smote=minmax.fit_transform(X_smote)\n",
    "X_test=minmax.transform(X_test)\n"
   ]
  },
  {
   "cell_type": "code",
   "execution_count": 25,
   "metadata": {
    "execution": {
     "iopub.execute_input": "2020-12-30T11:12:37.651510Z",
     "iopub.status.busy": "2020-12-30T11:12:37.650916Z",
     "iopub.status.idle": "2020-12-30T11:12:39.564186Z",
     "shell.execute_reply": "2020-12-30T11:12:39.563469Z"
    },
    "papermill": {
     "duration": 1.952022,
     "end_time": "2020-12-30T11:12:39.564296",
     "exception": false,
     "start_time": "2020-12-30T11:12:37.612274",
     "status": "completed"
    },
    "tags": []
   },
   "outputs": [],
   "source": [
    "#dimensionality reduction.\n",
    "from sklearn.decomposition import PCA \n",
    "pca=PCA(n_components=10)\n",
    "X_smote=pca.fit_transform(X_smote)\n",
    "X_test=pca.transform(X_test)"
   ]
  },
  {
   "cell_type": "code",
   "execution_count": 26,
   "metadata": {
    "execution": {
     "iopub.execute_input": "2020-12-30T11:12:39.639078Z",
     "iopub.status.busy": "2020-12-30T11:12:39.638208Z",
     "iopub.status.idle": "2020-12-30T11:13:11.265682Z",
     "shell.execute_reply": "2020-12-30T11:13:11.266226Z"
    },
    "papermill": {
     "duration": 31.668015,
     "end_time": "2020-12-30T11:13:11.266420",
     "exception": false,
     "start_time": "2020-12-30T11:12:39.598405",
     "status": "completed"
    },
    "tags": []
   },
   "outputs": [
    {
     "name": "stdout",
     "output_type": "stream",
     "text": [
      "Score using SMOTE is 0.995031775569678\n"
     ]
    }
   ],
   "source": [
    "Xgbc.fit(X_smote,y_smote)\n",
    "cm=confusion_matrix(Xgbc.predict(X_test),y_test,labels=Xgbc.classes_)\n",
    "Score=Xgbc.score(X_test,y_test)\n",
    "print(f'Score using SMOTE is {Score}')\n",
    "\n",
    "# ConfusionMatrixDisplay(confusion_matrix=cm,display_labels=knn.classes_).plot()\n"
   ]
  },
  {
   "cell_type": "markdown",
   "metadata": {
    "papermill": {
     "duration": 0.033519,
     "end_time": "2020-12-30T11:13:11.334396",
     "exception": false,
     "start_time": "2020-12-30T11:13:11.300877",
     "status": "completed"
    },
    "tags": []
   },
   "source": [
    "The score is still un-reliable as we have heavy class imbalance in the test set which is driving the score up."
   ]
  },
  {
   "cell_type": "code",
   "execution_count": 27,
   "metadata": {
    "execution": {
     "iopub.execute_input": "2020-12-30T11:13:11.409012Z",
     "iopub.status.busy": "2020-12-30T11:13:11.408301Z",
     "iopub.status.idle": "2020-12-30T11:13:11.413483Z",
     "shell.execute_reply": "2020-12-30T11:13:11.412885Z"
    },
    "papermill": {
     "duration": 0.044463,
     "end_time": "2020-12-30T11:13:11.413583",
     "exception": false,
     "start_time": "2020-12-30T11:13:11.369120",
     "status": "completed"
    },
    "tags": []
   },
   "outputs": [
    {
     "name": "stdout",
     "output_type": "stream",
     "text": [
      "Confusion Matrix\n"
     ]
    },
    {
     "data": {
      "text/plain": [
       "array([[56596,    15],\n",
       "       [  268,    83]])"
      ]
     },
     "execution_count": 27,
     "metadata": {},
     "output_type": "execute_result"
    }
   ],
   "source": [
    "print('Confusion Matrix')\n",
    "cm"
   ]
  },
  {
   "cell_type": "markdown",
   "metadata": {
    "papermill": {
     "duration": 0.034561,
     "end_time": "2020-12-30T11:13:11.483871",
     "exception": false,
     "start_time": "2020-12-30T11:13:11.449310",
     "status": "completed"
    },
    "tags": []
   },
   "source": [
    "The model is now correctly identifying 83 instances of fraud, while it is missing 15 instances. It is wrongly classifying 268 instances of not-fraud as fraud. The oversampling is giving a better result in terms of detecting fraud, but at the cost of wrongly classifying some examples."
   ]
  },
  {
   "cell_type": "markdown",
   "metadata": {
    "papermill": {
     "duration": 0.034578,
     "end_time": "2020-12-30T11:13:11.553779",
     "exception": false,
     "start_time": "2020-12-30T11:13:11.519201",
     "status": "completed"
    },
    "tags": []
   },
   "source": [
    "# Oversampling using SMOTE + ENN.\n"
   ]
  },
  {
   "cell_type": "code",
   "execution_count": 28,
   "metadata": {
    "execution": {
     "iopub.execute_input": "2020-12-30T11:13:11.630183Z",
     "iopub.status.busy": "2020-12-30T11:13:11.629609Z",
     "iopub.status.idle": "2020-12-30T11:13:11.872990Z",
     "shell.execute_reply": "2020-12-30T11:13:11.872450Z"
    },
    "papermill": {
     "duration": 0.284337,
     "end_time": "2020-12-30T11:13:11.873100",
     "exception": false,
     "start_time": "2020-12-30T11:13:11.588763",
     "status": "completed"
    },
    "tags": []
   },
   "outputs": [],
   "source": [
    "#splitting train and test data .\n",
    "X_train,X_test,y_train,y_test=train_test_split(X,y,test_size=.2,random_state=7,stratify=y)"
   ]
  },
  {
   "cell_type": "code",
   "execution_count": 29,
   "metadata": {
    "execution": {
     "iopub.execute_input": "2020-12-30T11:13:11.947983Z",
     "iopub.status.busy": "2020-12-30T11:13:11.947292Z",
     "iopub.status.idle": "2020-12-30T11:13:28.623146Z",
     "shell.execute_reply": "2020-12-30T11:13:28.622693Z"
    },
    "papermill": {
     "duration": 16.715203,
     "end_time": "2020-12-30T11:13:28.623248",
     "exception": false,
     "start_time": "2020-12-30T11:13:11.908045",
     "status": "completed"
    },
    "tags": []
   },
   "outputs": [
    {
     "name": "stdout",
     "output_type": "stream",
     "text": [
      "Before SMOTEENN \n",
      " 0    227451\n",
      "1       394\n",
      "Name: Class, dtype: int64\n",
      "After \n",
      " 1    219604\n",
      "0    210705\n",
      "Name: Class, dtype: int64\n"
     ]
    }
   ],
   "source": [
    "#SMOTE + ENN:\n",
    "smoteenn=imblearn.combine.SMOTEENN()\n",
    "print('Before SMOTEENN \\n', y_train.value_counts())\n",
    "\n",
    "X_smoteenn,y_smoteenn=smoteenn.fit_resample(X_train,y_train)\n",
    "print('After \\n', y_smoteenn.value_counts())"
   ]
  },
  {
   "cell_type": "code",
   "execution_count": 30,
   "metadata": {
    "execution": {
     "iopub.execute_input": "2020-12-30T11:13:28.704362Z",
     "iopub.status.busy": "2020-12-30T11:13:28.703775Z",
     "iopub.status.idle": "2020-12-30T11:13:28.820007Z",
     "shell.execute_reply": "2020-12-30T11:13:28.819421Z"
    },
    "papermill": {
     "duration": 0.1597,
     "end_time": "2020-12-30T11:13:28.820126",
     "exception": false,
     "start_time": "2020-12-30T11:13:28.660426",
     "status": "completed"
    },
    "tags": []
   },
   "outputs": [],
   "source": [
    "#Normalizing the data.\n",
    "minmax=MinMaxScaler()\n",
    "\n",
    "X_smoteenn=minmax.fit_transform(X_smoteenn)\n",
    "X_test=minmax.transform(X_test)"
   ]
  },
  {
   "cell_type": "code",
   "execution_count": 31,
   "metadata": {
    "execution": {
     "iopub.execute_input": "2020-12-30T11:13:28.902047Z",
     "iopub.status.busy": "2020-12-30T11:13:28.901406Z",
     "iopub.status.idle": "2020-12-30T11:13:30.735315Z",
     "shell.execute_reply": "2020-12-30T11:13:30.734793Z"
    },
    "papermill": {
     "duration": 1.877282,
     "end_time": "2020-12-30T11:13:30.735435",
     "exception": false,
     "start_time": "2020-12-30T11:13:28.858153",
     "status": "completed"
    },
    "tags": []
   },
   "outputs": [],
   "source": [
    "#dimensionality reduction.\n",
    "X_smoteenn=pca.fit_transform(X_smoteenn)\n",
    "X_test=pca.transform(X_test)"
   ]
  },
  {
   "cell_type": "code",
   "execution_count": 32,
   "metadata": {
    "execution": {
     "iopub.execute_input": "2020-12-30T11:13:30.814415Z",
     "iopub.status.busy": "2020-12-30T11:13:30.813790Z",
     "iopub.status.idle": "2020-12-30T11:14:00.452697Z",
     "shell.execute_reply": "2020-12-30T11:14:00.451861Z"
    },
    "papermill": {
     "duration": 29.681142,
     "end_time": "2020-12-30T11:14:00.452807",
     "exception": false,
     "start_time": "2020-12-30T11:13:30.771665",
     "status": "completed"
    },
    "tags": []
   },
   "outputs": [
    {
     "name": "stdout",
     "output_type": "stream",
     "text": [
      "Score using SMOTEENN is 0.9947157754292335\n"
     ]
    }
   ],
   "source": [
    "Xgbc.fit(X_smoteenn,y_smoteenn)\n",
    "pred=Xgbc.predict(X_test)\n",
    "cm=confusion_matrix(pred,y_test)\n",
    "score=Xgbc.score(X_test,y_test)\n",
    "print(f'Score using SMOTEENN is {score}')\n"
   ]
  },
  {
   "cell_type": "code",
   "execution_count": 33,
   "metadata": {
    "execution": {
     "iopub.execute_input": "2020-12-30T11:14:00.535212Z",
     "iopub.status.busy": "2020-12-30T11:14:00.534277Z",
     "iopub.status.idle": "2020-12-30T11:14:00.540533Z",
     "shell.execute_reply": "2020-12-30T11:14:00.539628Z"
    },
    "papermill": {
     "duration": 0.049775,
     "end_time": "2020-12-30T11:14:00.540714",
     "exception": false,
     "start_time": "2020-12-30T11:14:00.490939",
     "status": "completed"
    },
    "tags": []
   },
   "outputs": [
    {
     "name": "stdout",
     "output_type": "stream",
     "text": [
      "Confusion Matrix\n"
     ]
    },
    {
     "data": {
      "text/plain": [
       "array([[56578,    15],\n",
       "       [  286,    83]])"
      ]
     },
     "execution_count": 33,
     "metadata": {},
     "output_type": "execute_result"
    }
   ],
   "source": [
    "print('Confusion Matrix')\n",
    "cm"
   ]
  },
  {
   "cell_type": "markdown",
   "metadata": {
    "papermill": {
     "duration": 0.04645,
     "end_time": "2020-12-30T11:14:00.636094",
     "exception": false,
     "start_time": "2020-12-30T11:14:00.589644",
     "status": "completed"
    },
    "tags": []
   },
   "source": [
    "Similar to using SMOTE, using SMOTEENN has resulted in correct classification of 83 instances of fraud,has missed 15 instances and wrongly classified 286 instances as fraud. Thus with oversampling, the probablity of detecting a fraud increases, but it also classifying some examples incorrectly."
   ]
  }
 ],
 "metadata": {
  "kernelspec": {
   "display_name": "Python 3",
   "language": "python",
   "name": "python3"
  },
  "language_info": {
   "codemirror_mode": {
    "name": "ipython",
    "version": 3
   },
   "file_extension": ".py",
   "mimetype": "text/x-python",
   "name": "python",
   "nbconvert_exporter": "python",
   "pygments_lexer": "ipython3",
   "version": "3.7.6"
  },
  "papermill": {
   "duration": 120.393195,
   "end_time": "2020-12-30T11:14:00.784931",
   "environment_variables": {},
   "exception": null,
   "input_path": "__notebook__.ipynb",
   "output_path": "__notebook__.ipynb",
   "parameters": {},
   "start_time": "2020-12-30T11:12:00.391736",
   "version": "2.1.0"
  }
 },
 "nbformat": 4,
 "nbformat_minor": 4
}
