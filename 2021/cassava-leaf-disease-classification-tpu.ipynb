{
 "cells": [
  {
   "cell_type": "markdown",
   "metadata": {
    "papermill": {
     "duration": 0.006958,
     "end_time": "2021-02-09T17:45:38.211111",
     "exception": false,
     "start_time": "2021-02-09T17:45:38.204153",
     "status": "completed"
    },
    "tags": []
   },
   "source": [
    "# Importing Libraries."
   ]
  },
  {
   "cell_type": "code",
   "execution_count": 1,
   "metadata": {
    "execution": {
     "iopub.execute_input": "2021-02-09T17:45:38.229463Z",
     "iopub.status.busy": "2021-02-09T17:45:38.228784Z",
     "iopub.status.idle": "2021-02-09T17:45:43.441816Z",
     "shell.execute_reply": "2021-02-09T17:45:43.440757Z"
    },
    "papermill": {
     "duration": 5.224856,
     "end_time": "2021-02-09T17:45:43.441941",
     "exception": false,
     "start_time": "2021-02-09T17:45:38.217085",
     "status": "completed"
    },
    "tags": []
   },
   "outputs": [],
   "source": [
    "import os\n",
    "import tensorflow as tf \n",
    "from tensorflow import keras \n",
    "from keras.preprocessing.image import load_img,img_to_array,smart_resize\n",
    "import matplotlib.pyplot as plt\n",
    "import cv2\n",
    "import pandas as pd\n",
    "import json\n",
    "import numpy as np \n"
   ]
  },
  {
   "cell_type": "markdown",
   "metadata": {
    "papermill": {
     "duration": 0.006353,
     "end_time": "2021-02-09T17:45:43.454814",
     "exception": false,
     "start_time": "2021-02-09T17:45:43.448461",
     "status": "completed"
    },
    "tags": []
   },
   "source": [
    "# Loading Pretrained model.\n",
    "**For the un-initiated, the model that you saved in the training kernel(if you commmited and saved the kernel) can be accessed by clicking the 'Add data' option in the upper right corner and then accesing the 'notebook output files' option. Otherwise you can also choose to download the saved model from the output directory of training kernel.**"
   ]
  },
  {
   "cell_type": "code",
   "execution_count": 2,
   "metadata": {
    "_cell_guid": "79c7e3d0-c299-4dcb-8224-4455121ee9b0",
    "_uuid": "d629ff2d2480ee46fbb7e2d37f6b5fab8052498a",
    "execution": {
     "iopub.execute_input": "2021-02-09T17:45:43.471226Z",
     "iopub.status.busy": "2021-02-09T17:45:43.470704Z",
     "iopub.status.idle": "2021-02-09T17:46:25.446582Z",
     "shell.execute_reply": "2021-02-09T17:46:25.445726Z"
    },
    "papermill": {
     "duration": 41.985483,
     "end_time": "2021-02-09T17:46:25.446707",
     "exception": false,
     "start_time": "2021-02-09T17:45:43.461224",
     "status": "completed"
    },
    "tags": []
   },
   "outputs": [],
   "source": [
    "#loading pretarined model.\n",
    "model1=keras.models.load_model('../input/notebook841c84bbfb/IncepResNetV2.h5')\n",
    "model2=keras.models.load_model('../input/notebook841c84bbfb/EfficientNetB_V2.h5')"
   ]
  },
  {
   "cell_type": "code",
   "execution_count": 3,
   "metadata": {
    "execution": {
     "iopub.execute_input": "2021-02-09T17:46:25.466658Z",
     "iopub.status.busy": "2021-02-09T17:46:25.466103Z",
     "iopub.status.idle": "2021-02-09T17:46:25.503578Z",
     "shell.execute_reply": "2021-02-09T17:46:25.504004Z"
    },
    "papermill": {
     "duration": 0.050668,
     "end_time": "2021-02-09T17:46:25.504111",
     "exception": false,
     "start_time": "2021-02-09T17:46:25.453443",
     "status": "completed"
    },
    "tags": []
   },
   "outputs": [
    {
     "data": {
      "text/html": [
       "<div>\n",
       "<style scoped>\n",
       "    .dataframe tbody tr th:only-of-type {\n",
       "        vertical-align: middle;\n",
       "    }\n",
       "\n",
       "    .dataframe tbody tr th {\n",
       "        vertical-align: top;\n",
       "    }\n",
       "\n",
       "    .dataframe thead th {\n",
       "        text-align: right;\n",
       "    }\n",
       "</style>\n",
       "<table border=\"1\" class=\"dataframe\">\n",
       "  <thead>\n",
       "    <tr style=\"text-align: right;\">\n",
       "      <th></th>\n",
       "      <th>image_id</th>\n",
       "      <th>label</th>\n",
       "    </tr>\n",
       "  </thead>\n",
       "  <tbody>\n",
       "    <tr>\n",
       "      <th>0</th>\n",
       "      <td>2216849948.jpg</td>\n",
       "      <td>4</td>\n",
       "    </tr>\n",
       "  </tbody>\n",
       "</table>\n",
       "</div>"
      ],
      "text/plain": [
       "         image_id  label\n",
       "0  2216849948.jpg      4"
      ]
     },
     "execution_count": 3,
     "metadata": {},
     "output_type": "execute_result"
    }
   ],
   "source": [
    "train_dir='../input/cassava-leaf-disease-classification/train_images'\n",
    "test_dir='../input/cassava-leaf-disease-classification/test_images'\n",
    "train=pd.read_csv('../input/cassava-leaf-disease-classification/train.csv')\n",
    "sample_sub=pd.read_csv('../input/cassava-leaf-disease-classification/sample_submission.csv')\n",
    "\n",
    "sample_sub"
   ]
  },
  {
   "cell_type": "markdown",
   "metadata": {
    "papermill": {
     "duration": 0.006497,
     "end_time": "2021-02-09T17:46:25.517508",
     "exception": false,
     "start_time": "2021-02-09T17:46:25.511011",
     "status": "completed"
    },
    "tags": []
   },
   "source": [
    "# Testing the trained model on randomly selected examples from the training set."
   ]
  },
  {
   "cell_type": "code",
   "execution_count": 4,
   "metadata": {
    "execution": {
     "iopub.execute_input": "2021-02-09T17:46:25.539666Z",
     "iopub.status.busy": "2021-02-09T17:46:25.538917Z",
     "iopub.status.idle": "2021-02-09T17:46:43.782080Z",
     "shell.execute_reply": "2021-02-09T17:46:43.781556Z"
    },
    "papermill": {
     "duration": 18.257996,
     "end_time": "2021-02-09T17:46:43.782195",
     "exception": false,
     "start_time": "2021-02-09T17:46:25.524199",
     "status": "completed"
    },
    "tags": []
   },
   "outputs": [],
   "source": [
    "def sample_df(sample_size=100):\n",
    "    df= train.sample(sample_size)\n",
    "    df=df.reset_index()\n",
    "    return df\n",
    "\n",
    "dfs=sample_df(sample_size=50)\n",
    "\n",
    "preds=[]\n",
    "y_true=dfs['label']\n",
    "for im_id in dfs.image_id: \n",
    "    img=load_img(train_dir + '/' + im_id)\n",
    "    img=img_to_array(img)\n",
    "    img=smart_resize(img,(512,512))\n",
    "    img=np.expand_dims(img,axis=0)\n",
    "    img=img/255\n",
    "    pred=np.argmax((0.5*model1.predict(img)) + (0.5 * model2.predict(img)))\n",
    "    preds.append(pred)\n"
   ]
  },
  {
   "cell_type": "code",
   "execution_count": 5,
   "metadata": {
    "execution": {
     "iopub.execute_input": "2021-02-09T17:46:43.808276Z",
     "iopub.status.busy": "2021-02-09T17:46:43.806695Z",
     "iopub.status.idle": "2021-02-09T17:46:43.811127Z",
     "shell.execute_reply": "2021-02-09T17:46:43.811541Z"
    },
    "papermill": {
     "duration": 0.02229,
     "end_time": "2021-02-09T17:46:43.811669",
     "exception": false,
     "start_time": "2021-02-09T17:46:43.789379",
     "status": "completed"
    },
    "tags": []
   },
   "outputs": [
    {
     "data": {
      "text/html": [
       "<div>\n",
       "<style scoped>\n",
       "    .dataframe tbody tr th:only-of-type {\n",
       "        vertical-align: middle;\n",
       "    }\n",
       "\n",
       "    .dataframe tbody tr th {\n",
       "        vertical-align: top;\n",
       "    }\n",
       "\n",
       "    .dataframe thead th {\n",
       "        text-align: right;\n",
       "    }\n",
       "</style>\n",
       "<table border=\"1\" class=\"dataframe\">\n",
       "  <thead>\n",
       "    <tr style=\"text-align: right;\">\n",
       "      <th></th>\n",
       "      <th>Prediction</th>\n",
       "      <th>Actual</th>\n",
       "    </tr>\n",
       "  </thead>\n",
       "  <tbody>\n",
       "    <tr>\n",
       "      <th>0</th>\n",
       "      <td>3</td>\n",
       "      <td>3</td>\n",
       "    </tr>\n",
       "    <tr>\n",
       "      <th>1</th>\n",
       "      <td>0</td>\n",
       "      <td>1</td>\n",
       "    </tr>\n",
       "    <tr>\n",
       "      <th>2</th>\n",
       "      <td>3</td>\n",
       "      <td>3</td>\n",
       "    </tr>\n",
       "    <tr>\n",
       "      <th>3</th>\n",
       "      <td>3</td>\n",
       "      <td>3</td>\n",
       "    </tr>\n",
       "    <tr>\n",
       "      <th>4</th>\n",
       "      <td>3</td>\n",
       "      <td>3</td>\n",
       "    </tr>\n",
       "    <tr>\n",
       "      <th>5</th>\n",
       "      <td>2</td>\n",
       "      <td>2</td>\n",
       "    </tr>\n",
       "    <tr>\n",
       "      <th>6</th>\n",
       "      <td>3</td>\n",
       "      <td>3</td>\n",
       "    </tr>\n",
       "    <tr>\n",
       "      <th>7</th>\n",
       "      <td>3</td>\n",
       "      <td>3</td>\n",
       "    </tr>\n",
       "    <tr>\n",
       "      <th>8</th>\n",
       "      <td>3</td>\n",
       "      <td>3</td>\n",
       "    </tr>\n",
       "    <tr>\n",
       "      <th>9</th>\n",
       "      <td>3</td>\n",
       "      <td>3</td>\n",
       "    </tr>\n",
       "    <tr>\n",
       "      <th>10</th>\n",
       "      <td>3</td>\n",
       "      <td>3</td>\n",
       "    </tr>\n",
       "    <tr>\n",
       "      <th>11</th>\n",
       "      <td>3</td>\n",
       "      <td>3</td>\n",
       "    </tr>\n",
       "    <tr>\n",
       "      <th>12</th>\n",
       "      <td>3</td>\n",
       "      <td>3</td>\n",
       "    </tr>\n",
       "    <tr>\n",
       "      <th>13</th>\n",
       "      <td>3</td>\n",
       "      <td>3</td>\n",
       "    </tr>\n",
       "    <tr>\n",
       "      <th>14</th>\n",
       "      <td>3</td>\n",
       "      <td>3</td>\n",
       "    </tr>\n",
       "    <tr>\n",
       "      <th>15</th>\n",
       "      <td>3</td>\n",
       "      <td>3</td>\n",
       "    </tr>\n",
       "    <tr>\n",
       "      <th>16</th>\n",
       "      <td>3</td>\n",
       "      <td>3</td>\n",
       "    </tr>\n",
       "    <tr>\n",
       "      <th>17</th>\n",
       "      <td>3</td>\n",
       "      <td>3</td>\n",
       "    </tr>\n",
       "    <tr>\n",
       "      <th>18</th>\n",
       "      <td>3</td>\n",
       "      <td>3</td>\n",
       "    </tr>\n",
       "    <tr>\n",
       "      <th>19</th>\n",
       "      <td>3</td>\n",
       "      <td>3</td>\n",
       "    </tr>\n",
       "    <tr>\n",
       "      <th>20</th>\n",
       "      <td>4</td>\n",
       "      <td>4</td>\n",
       "    </tr>\n",
       "    <tr>\n",
       "      <th>21</th>\n",
       "      <td>3</td>\n",
       "      <td>3</td>\n",
       "    </tr>\n",
       "    <tr>\n",
       "      <th>22</th>\n",
       "      <td>3</td>\n",
       "      <td>3</td>\n",
       "    </tr>\n",
       "    <tr>\n",
       "      <th>23</th>\n",
       "      <td>3</td>\n",
       "      <td>3</td>\n",
       "    </tr>\n",
       "    <tr>\n",
       "      <th>24</th>\n",
       "      <td>3</td>\n",
       "      <td>3</td>\n",
       "    </tr>\n",
       "    <tr>\n",
       "      <th>25</th>\n",
       "      <td>3</td>\n",
       "      <td>3</td>\n",
       "    </tr>\n",
       "    <tr>\n",
       "      <th>26</th>\n",
       "      <td>3</td>\n",
       "      <td>3</td>\n",
       "    </tr>\n",
       "    <tr>\n",
       "      <th>27</th>\n",
       "      <td>3</td>\n",
       "      <td>3</td>\n",
       "    </tr>\n",
       "    <tr>\n",
       "      <th>28</th>\n",
       "      <td>2</td>\n",
       "      <td>2</td>\n",
       "    </tr>\n",
       "    <tr>\n",
       "      <th>29</th>\n",
       "      <td>1</td>\n",
       "      <td>1</td>\n",
       "    </tr>\n",
       "  </tbody>\n",
       "</table>\n",
       "</div>"
      ],
      "text/plain": [
       "    Prediction  Actual\n",
       "0            3       3\n",
       "1            0       1\n",
       "2            3       3\n",
       "3            3       3\n",
       "4            3       3\n",
       "5            2       2\n",
       "6            3       3\n",
       "7            3       3\n",
       "8            3       3\n",
       "9            3       3\n",
       "10           3       3\n",
       "11           3       3\n",
       "12           3       3\n",
       "13           3       3\n",
       "14           3       3\n",
       "15           3       3\n",
       "16           3       3\n",
       "17           3       3\n",
       "18           3       3\n",
       "19           3       3\n",
       "20           4       4\n",
       "21           3       3\n",
       "22           3       3\n",
       "23           3       3\n",
       "24           3       3\n",
       "25           3       3\n",
       "26           3       3\n",
       "27           3       3\n",
       "28           2       2\n",
       "29           1       1"
      ]
     },
     "execution_count": 5,
     "metadata": {},
     "output_type": "execute_result"
    }
   ],
   "source": [
    "sample_test=pd.DataFrame({'Prediction':preds, 'Actual':y_true})\n",
    "sample_test.head(30)"
   ]
  },
  {
   "cell_type": "markdown",
   "metadata": {
    "papermill": {
     "duration": 0.007043,
     "end_time": "2021-02-09T17:46:43.826047",
     "exception": false,
     "start_time": "2021-02-09T17:46:43.819004",
     "status": "completed"
    },
    "tags": []
   },
   "source": [
    "**The model is doing pretty well with the data it has probably seen.Lets see what score it gets on the test set.**"
   ]
  },
  {
   "cell_type": "markdown",
   "metadata": {
    "papermill": {
     "duration": 0.007024,
     "end_time": "2021-02-09T17:46:43.840377",
     "exception": false,
     "start_time": "2021-02-09T17:46:43.833353",
     "status": "completed"
    },
    "tags": []
   },
   "source": [
    "# Predictions."
   ]
  },
  {
   "cell_type": "code",
   "execution_count": 6,
   "metadata": {
    "execution": {
     "iopub.execute_input": "2021-02-09T17:46:43.862468Z",
     "iopub.status.busy": "2021-02-09T17:46:43.861824Z",
     "iopub.status.idle": "2021-02-09T17:46:44.230913Z",
     "shell.execute_reply": "2021-02-09T17:46:44.230421Z"
    },
    "papermill": {
     "duration": 0.383178,
     "end_time": "2021-02-09T17:46:44.231018",
     "exception": false,
     "start_time": "2021-02-09T17:46:43.847840",
     "status": "completed"
    },
    "tags": []
   },
   "outputs": [
    {
     "name": "stdout",
     "output_type": "stream",
     "text": [
      "         image_id  label\n",
      "0  2216849948.jpg      4\n"
     ]
    }
   ],
   "source": [
    "#Prediction\n",
    "\n",
    "predictions=[]\n",
    "for img_id in sample_sub.image_id:\n",
    "    img=load_img(test_dir + '/' + img_id)   #loading image\n",
    "    img=img_to_array(img)                   #image to array\n",
    "    img=smart_resize(img,(512,512))         #resizing image (size used in training model)\n",
    "    img=np.expand_dims(img,axis=0)\n",
    "    img=img/255                                             \n",
    "    #predicting:\n",
    "    lab=np.argmax((model1.predict(img) * 0.5) + (model2.predict(img)*0.5))                                \n",
    "    predictions.append(lab)\n",
    "\n",
    "submission=pd.DataFrame({'image_id':sample_sub.image_id , 'label':predictions})\n",
    "print(submission)\n",
    "submission.to_csv('submission.csv',index=False)    "
   ]
  }
 ],
 "metadata": {
  "kernelspec": {
   "display_name": "Python 3",
   "language": "python",
   "name": "python3"
  },
  "language_info": {
   "codemirror_mode": {
    "name": "ipython",
    "version": 3
   },
   "file_extension": ".py",
   "mimetype": "text/x-python",
   "name": "python",
   "nbconvert_exporter": "python",
   "pygments_lexer": "ipython3",
   "version": "3.7.6"
  },
  "papermill": {
   "duration": 71.786011,
   "end_time": "2021-02-09T17:46:45.987605",
   "environment_variables": {},
   "exception": null,
   "input_path": "__notebook__.ipynb",
   "output_path": "__notebook__.ipynb",
   "parameters": {},
   "start_time": "2021-02-09T17:45:34.201594",
   "version": "2.1.0"
  }
 },
 "nbformat": 4,
 "nbformat_minor": 4
}
