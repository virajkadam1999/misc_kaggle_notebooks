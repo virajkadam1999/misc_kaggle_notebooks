{
 "cells": [
  {
   "cell_type": "markdown",
   "id": "645b8f76",
   "metadata": {
    "papermill": {
     "duration": 0.048462,
     "end_time": "2022-02-25T10:42:29.150079",
     "exception": false,
     "start_time": "2022-02-25T10:42:29.101617",
     "status": "completed"
    },
    "tags": []
   },
   "source": [
    "# Imports"
   ]
  },
  {
   "cell_type": "code",
   "execution_count": 1,
   "id": "f0f3a9d8",
   "metadata": {
    "execution": {
     "iopub.execute_input": "2022-02-25T10:42:29.258122Z",
     "iopub.status.busy": "2022-02-25T10:42:29.253552Z",
     "iopub.status.idle": "2022-02-25T10:42:31.866154Z",
     "shell.execute_reply": "2022-02-25T10:42:31.865412Z",
     "shell.execute_reply.started": "2022-02-25T10:20:18.635301Z"
    },
    "papermill": {
     "duration": 2.667617,
     "end_time": "2022-02-25T10:42:31.866332",
     "exception": false,
     "start_time": "2022-02-25T10:42:29.198715",
     "status": "completed"
    },
    "tags": []
   },
   "outputs": [],
   "source": [
    "import pandas as pd \n",
    "import numpy as np \n",
    "import matplotlib.pyplot as plt \n",
    "import seaborn as sns \n",
    "\n",
    "import os \n",
    "import gc\n",
    "\n",
    "\n",
    "#preprocessing :\n",
    "from sklearn.preprocessing import scale,StandardScaler\n",
    "from sklearn.impute import SimpleImputer \n",
    "# from sklearn.preprocessing import LabelEncoder\n",
    "from sklearn.model_selection import train_test_split,KFold\n",
    "from sklearn.pipeline import Pipeline\n",
    "from sklearn.utils.class_weight import compute_class_weight\n",
    "\n",
    "#clustering \n",
    "# from sklearn.cluster import KMeans \n",
    "from sklearn.mixture import GaussianMixture as GMM\n",
    "\n",
    "#base functionality \n",
    "from sklearn.base import BaseEstimator, TransformerMixin\n",
    "\n",
    "# feature selection \n",
    "from sklearn.feature_selection import VarianceThreshold,RFECV,mutual_info_regression\n",
    "\n",
    "#catboost\n",
    "from catboost import Pool, CatBoostRegressor\n",
    "\n",
    "#optimization \n",
    "import optuna \n",
    "from optuna import Trial as trial\n",
    "#metrics \n",
    "from sklearn.metrics import r2_score,mean_squared_error\n",
    "\n",
    "pd.set_option('display.max_columns',None)"
   ]
  },
  {
   "cell_type": "code",
   "execution_count": 2,
   "id": "8e3fdaf0",
   "metadata": {
    "execution": {
     "iopub.execute_input": "2022-02-25T10:42:31.965991Z",
     "iopub.status.busy": "2022-02-25T10:42:31.965317Z",
     "iopub.status.idle": "2022-02-25T10:42:31.970110Z",
     "shell.execute_reply": "2022-02-25T10:42:31.969565Z",
     "shell.execute_reply.started": "2022-02-25T10:20:20.830016Z"
    },
    "papermill": {
     "duration": 0.054545,
     "end_time": "2022-02-25T10:42:31.970255",
     "exception": false,
     "start_time": "2022-02-25T10:42:31.915710",
     "status": "completed"
    },
    "tags": []
   },
   "outputs": [],
   "source": [
    "class config:\n",
    "    def __init__(self,seed):\n",
    "        self.seed = seed\n",
    "        \n",
    "                \n",
    "#cfg \n",
    "cfg = config(seed=7)"
   ]
  },
  {
   "cell_type": "markdown",
   "id": "77afbc0c",
   "metadata": {
    "papermill": {
     "duration": 0.046125,
     "end_time": "2022-02-25T10:42:32.063371",
     "exception": false,
     "start_time": "2022-02-25T10:42:32.017246",
     "status": "completed"
    },
    "tags": []
   },
   "source": [
    "# Loading data "
   ]
  },
  {
   "cell_type": "markdown",
   "id": "d8d5cd9c",
   "metadata": {
    "papermill": {
     "duration": 0.046583,
     "end_time": "2022-02-25T10:42:32.156341",
     "exception": false,
     "start_time": "2022-02-25T10:42:32.109758",
     "status": "completed"
    },
    "tags": []
   },
   "source": [
    "# Training data \n",
    "\n",
    "    id: building id\n",
    "\n",
    "    Year_Factor: anonymized year in which the weather and energy usage factors were observed\n",
    "\n",
    "    State_Factor: anonymized state in which the building is located\n",
    "\n",
    "    building_class: building classification\n",
    "\n",
    "    facility_type: building usage type\n",
    "\n",
    "    floor_area: floor area (in square feet) of the building\n",
    "\n",
    "    year_built: year in which the building was constructed\n",
    "\n",
    "    energy_star_rating: the energy star rating of the building\n",
    "\n",
    "    ELEVATION: elevation of the building location\n",
    "\n",
    "    january_min_temp: minimum temperature in January (in Fahrenheit) at the location of the building\n",
    "\n",
    "    january_avg_temp: average temperature in January (in Fahrenheit) at the location of the building\n",
    "\n",
    "    january_max_temp: maximum temperature in January (in Fahrenheit) at the location of the building\n",
    "\n",
    "    cooling_degree_days: cooling degree day for a given day is the number of degrees where the daily average temperature exceeds 65 degrees Fahrenheit. Each month is summed to produce an annual total at the location of the building.\n",
    "\n",
    "    heating_degree_days: heating degree day for a given day is the number of degrees where the daily average temperature falls under 65 degrees Fahrenheit. Each month is summed to produce an annual total at the location of the building.\n",
    "\n",
    "    precipitation_inches: annual precipitation in inches at the location of the building\n",
    "\n",
    "    snowfall_inches: annual snowfall in inches at the location of the building\n",
    "\n",
    "    snowdepth_inches: annual snow depth in inches at the location of the building\n",
    "\n",
    "    avg_temp: average temperature over a year at the location of the building\n",
    "\n",
    "    days_below_30F: total number of days below 30 degrees Fahrenheit at the location of the building\n",
    "\n",
    "    days_below_20F: total number of days below 20 degrees Fahrenheit at the location of the building\n",
    "\n",
    "    days_below_10F: total number of days below 10 degrees Fahrenheit at the location of the building\n",
    "\n",
    "    days_below_0F: total number of days below 0 degrees Fahrenheit at the location of the building\n",
    "\n",
    "    days_above_80F: total number of days above 80 degrees Fahrenheit at the location of the building\n",
    "\n",
    "    days_above_90F: total number of days above 90 degrees Fahrenheit at the location of the building\n",
    "\n",
    "    days_above_100F: total number of days above 100 degrees Fahrenheit at the location of the building\n",
    "\n",
    "    days_above_110F: total number of days above 110 degrees Fahrenheit at the location of the building\n",
    "\n",
    "    direction_max_wind_speed: wind direction for maximum wind speed at the location of the building. Given in 360-degree compass point directions (e.g. 360 = north, 180 = south, etc.).\n",
    "\n",
    "    direction_peak_wind_speed: wind direction for peak wind gust speed at the location of the building. Given in 360-degree compass point directions (e.g. 360 = north, 180 = south, etc.).\n",
    "\n",
    "    max_wind_speed: maximum wind speed at the location of the building\n",
    "\n",
    "    days_with_fog: number of days with fog at the location of the building\n",
    "\n",
    "# Target\n",
    "\n",
    "    site_eui: Site Energy Usage Intensity is the amount of heat and electricity consumed by a building as reflected in utility bills\n",
    "\n",
    "\n",
    "<a style='color:light_blue' href=https://www.kaggle.com/c/widsdatathon2022/data> Source</a>"
   ]
  },
  {
   "cell_type": "code",
   "execution_count": 3,
   "id": "4b73832c",
   "metadata": {
    "execution": {
     "iopub.execute_input": "2022-02-25T10:42:32.252462Z",
     "iopub.status.busy": "2022-02-25T10:42:32.251780Z",
     "iopub.status.idle": "2022-02-25T10:42:33.216130Z",
     "shell.execute_reply": "2022-02-25T10:42:33.216676Z",
     "shell.execute_reply.started": "2022-02-25T10:20:20.836167Z"
    },
    "papermill": {
     "duration": 1.013924,
     "end_time": "2022-02-25T10:42:33.216859",
     "exception": false,
     "start_time": "2022-02-25T10:42:32.202935",
     "status": "completed"
    },
    "tags": []
   },
   "outputs": [],
   "source": [
    "train = pd.read_csv('../input/widsdatathon2022/train.csv')\n",
    "test = pd.read_csv('../input/widsdatathon2022/test.csv')\n",
    "sample_sub= pd.read_csv('../input/widsdatathon2022/sample_solution.csv')\n",
    "\n",
    "\n",
    "cfg.target = 'site_eui' # spcify target\n",
    "cfg.id_col = 'id'    # splecify id "
   ]
  },
  {
   "cell_type": "markdown",
   "id": "8e5feed4",
   "metadata": {
    "papermill": {
     "duration": 0.04648,
     "end_time": "2022-02-25T10:42:33.309719",
     "exception": false,
     "start_time": "2022-02-25T10:42:33.263239",
     "status": "completed"
    },
    "tags": []
   },
   "source": [
    "**Distribution of target**"
   ]
  },
  {
   "cell_type": "code",
   "execution_count": 4,
   "id": "9e0f4ad0",
   "metadata": {
    "_kg_hide-input": true,
    "execution": {
     "iopub.execute_input": "2022-02-25T10:42:33.406060Z",
     "iopub.status.busy": "2022-02-25T10:42:33.405406Z",
     "iopub.status.idle": "2022-02-25T10:42:33.906898Z",
     "shell.execute_reply": "2022-02-25T10:42:33.907413Z",
     "shell.execute_reply.started": "2022-02-25T10:20:22.031198Z"
    },
    "papermill": {
     "duration": 0.551279,
     "end_time": "2022-02-25T10:42:33.907622",
     "exception": false,
     "start_time": "2022-02-25T10:42:33.356343",
     "status": "completed"
    },
    "tags": []
   },
   "outputs": [
    {
     "name": "stdout",
     "output_type": "stream",
     "text": [
      " \n"
     ]
    },
    {
     "data": {
      "image/png": "[encoded data removed]",
      "text/plain": [
       "<Figure size 1152x720 with 1 Axes>"
      ]
     },
     "metadata": {
      "needs_background": "light"
     },
     "output_type": "display_data"
    }
   ],
   "source": [
    "train.site_eui.plot.hist(bins=100,color='blue',title ='Energy Usage Distribution',figsize=(16,10))\n",
    "print(' ')"
   ]
  },
  {
   "cell_type": "code",
   "execution_count": 5,
   "id": "ca059b78",
   "metadata": {
    "_kg_hide-input": true,
    "execution": {
     "iopub.execute_input": "2022-02-25T10:42:34.012590Z",
     "iopub.status.busy": "2022-02-25T10:42:34.011825Z",
     "iopub.status.idle": "2022-02-25T10:42:34.448639Z",
     "shell.execute_reply": "2022-02-25T10:42:34.447910Z",
     "shell.execute_reply.started": "2022-02-25T10:20:22.481369Z"
    },
    "papermill": {
     "duration": 0.491431,
     "end_time": "2022-02-25T10:42:34.448791",
     "exception": false,
     "start_time": "2022-02-25T10:42:33.957360",
     "status": "completed"
    },
    "tags": []
   },
   "outputs": [
    {
     "name": "stdout",
     "output_type": "stream",
     "text": [
      " \n"
     ]
    },
    {
     "data": {
      "image/png": "[encoded data removed]",
      "text/plain": [
       "<Figure size 1152x720 with 1 Axes>"
      ]
     },
     "metadata": {
      "needs_background": "light"
     },
     "output_type": "display_data"
    }
   ],
   "source": [
    "pd.Series(np.log1p(train.site_eui.values)).plot.hist(bins=100,color='g',title ='Energy Usage Distribution (log_scaled)',figsize=(16,10))\n",
    "print(' ')"
   ]
  },
  {
   "cell_type": "markdown",
   "id": "f6e3d652",
   "metadata": {
    "papermill": {
     "duration": 0.050518,
     "end_time": "2022-02-25T10:42:34.548644",
     "exception": false,
     "start_time": "2022-02-25T10:42:34.498126",
     "status": "completed"
    },
    "tags": []
   },
   "source": [
    "**Distribution of average temp**"
   ]
  },
  {
   "cell_type": "code",
   "execution_count": 6,
   "id": "d8a636d9",
   "metadata": {
    "_kg_hide-input": true,
    "execution": {
     "iopub.execute_input": "2022-02-25T10:42:34.682067Z",
     "iopub.status.busy": "2022-02-25T10:42:34.670902Z",
     "iopub.status.idle": "2022-02-25T10:42:35.389288Z",
     "shell.execute_reply": "2022-02-25T10:42:35.389814Z",
     "shell.execute_reply.started": "2022-02-25T10:20:24.237938Z"
    },
    "papermill": {
     "duration": 0.792005,
     "end_time": "2022-02-25T10:42:35.390029",
     "exception": false,
     "start_time": "2022-02-25T10:42:34.598024",
     "status": "completed"
    },
    "tags": []
   },
   "outputs": [
    {
     "data": {
      "image/png": "[encoded data removed]",
      "text/plain": [
       "<Figure size 1152x504 with 2 Axes>"
      ]
     },
     "metadata": {
      "needs_background": "light"
     },
     "output_type": "display_data"
    }
   ],
   "source": [
    "fig,ax=plt.subplots(1,2,figsize=(16,7))\n",
    "\n",
    "train.avg_temp.plot.hist(ax=ax[0],bins=100,color='blue',title ='Avg Temp Distribution',label='train')\n",
    "\n",
    "test.avg_temp.plot.hist(bins=100,color='green',title ='Avg Temp Distribution (test)',ax=ax[1],label='test')\n",
    "\n",
    "plt.legend()\n",
    "plt.show()"
   ]
  },
  {
   "cell_type": "markdown",
   "id": "3c84ed5a",
   "metadata": {
    "papermill": {
     "duration": 0.049976,
     "end_time": "2022-02-25T10:42:35.490663",
     "exception": false,
     "start_time": "2022-02-25T10:42:35.440687",
     "status": "completed"
    },
    "tags": []
   },
   "source": [
    "# Preprocessing Pipelines"
   ]
  },
  {
   "cell_type": "markdown",
   "id": "c1be2bdf",
   "metadata": {
    "papermill": {
     "duration": 0.049918,
     "end_time": "2022-02-25T10:42:35.591742",
     "exception": false,
     "start_time": "2022-02-25T10:42:35.541824",
     "status": "completed"
    },
    "tags": []
   },
   "source": [
    "**Preprocessing steps**\n",
    "\n",
    "* seperate data into features, target and Id columns\n",
    "* encode commercial properties as 1 , residential as 0\n",
    "* Drop Empty columns with missing values > given threshold\n",
    "* Split the data into train , test\n",
    "* specify categorical and numerical values seperately , preprocess seperately\n",
    "* impute missing categoricals using 'constant' strategy\n",
    "* Impute missing numerical columns with iterative imputer \n",
    "* count the number of instances(number of cols) where a point is outlier for numerical columns\n",
    "* cluster the numerical columns using GMM , append the column to list of categorical columns\n"
   ]
  },
  {
   "cell_type": "markdown",
   "id": "9b384257",
   "metadata": {
    "papermill": {
     "duration": 0.049932,
     "end_time": "2022-02-25T10:42:35.691448",
     "exception": false,
     "start_time": "2022-02-25T10:42:35.641516",
     "status": "completed"
    },
    "tags": []
   },
   "source": [
    "**seperate features,target and ID cols**"
   ]
  },
  {
   "cell_type": "code",
   "execution_count": 7,
   "id": "6b3e28ab",
   "metadata": {
    "execution": {
     "iopub.execute_input": "2022-02-25T10:42:35.798195Z",
     "iopub.status.busy": "2022-02-25T10:42:35.795349Z",
     "iopub.status.idle": "2022-02-25T10:42:35.800293Z",
     "shell.execute_reply": "2022-02-25T10:42:35.800906Z",
     "shell.execute_reply.started": "2022-02-25T10:20:29.029099Z"
    },
    "papermill": {
     "duration": 0.059611,
     "end_time": "2022-02-25T10:42:35.801095",
     "exception": false,
     "start_time": "2022-02-25T10:42:35.741484",
     "status": "completed"
    },
    "tags": []
   },
   "outputs": [],
   "source": [
    "def transform_target(y):\n",
    "    '''adding 1 to y and log scale target features.'''\n",
    "    return np.log1p(y)\n",
    "\n",
    "def inverse_transform_target(y):\n",
    "    '''inverse transform log 1p scaled target features'''\n",
    "    return np.exp(y) - 1"
   ]
  },
  {
   "cell_type": "code",
   "execution_count": 8,
   "id": "606d62ad",
   "metadata": {
    "_kg_hide-input": true,
    "execution": {
     "iopub.execute_input": "2022-02-25T10:42:35.911255Z",
     "iopub.status.busy": "2022-02-25T10:42:35.910447Z",
     "iopub.status.idle": "2022-02-25T10:42:35.968762Z",
     "shell.execute_reply": "2022-02-25T10:42:35.969369Z",
     "shell.execute_reply.started": "2022-02-25T10:20:29.376116Z"
    },
    "papermill": {
     "duration": 0.118581,
     "end_time": "2022-02-25T10:42:35.969541",
     "exception": false,
     "start_time": "2022-02-25T10:42:35.850960",
     "status": "completed"
    },
    "tags": []
   },
   "outputs": [],
   "source": [
    "# seperate ids and target cols\n",
    "\n",
    "cfg.train_ids = train.pop(cfg.id_col)\n",
    "cfg.test_ids = test.pop(cfg.id_col)\n",
    "\n",
    "\n",
    "#target\n",
    "y = train.pop(cfg.target)\n",
    "y = transform_target(y)   # log scale\n",
    "\n",
    "\n",
    "building_class_dict = {'Commercial': 1,\n",
    "                       'Residential': 0}\n",
    "\n",
    "# replace values with 1/0\n",
    "train['building_class'].replace(building_class_dict,inplace=True)\n",
    "test['building_class'].replace(building_class_dict,inplace=True)"
   ]
  },
  {
   "cell_type": "markdown",
   "id": "e691c29f",
   "metadata": {
    "papermill": {
     "duration": 0.050675,
     "end_time": "2022-02-25T10:42:36.070221",
     "exception": false,
     "start_time": "2022-02-25T10:42:36.019546",
     "status": "completed"
    },
    "tags": []
   },
   "source": [
    "**split into train/val set**"
   ]
  },
  {
   "cell_type": "code",
   "execution_count": 9,
   "id": "cd7a76bb",
   "metadata": {
    "_kg_hide-input": true,
    "execution": {
     "iopub.execute_input": "2022-02-25T10:42:36.177059Z",
     "iopub.status.busy": "2022-02-25T10:42:36.176337Z",
     "iopub.status.idle": "2022-02-25T10:42:36.179268Z",
     "shell.execute_reply": "2022-02-25T10:42:36.179793Z",
     "shell.execute_reply.started": "2022-02-25T10:20:33.346766Z"
    },
    "papermill": {
     "duration": 0.059488,
     "end_time": "2022-02-25T10:42:36.179961",
     "exception": false,
     "start_time": "2022-02-25T10:42:36.120473",
     "status": "completed"
    },
    "tags": []
   },
   "outputs": [],
   "source": [
    "def split_data(X,y,test_size=0.1):\n",
    "    '''split data into train and test set'''\n",
    "    x_train,x_test,y_train,y_test = train_test_split(X,y,test_size= test_size)\n",
    "    \n",
    "    for df in [x_train,x_test,y_train,y_test]:  # reset index\n",
    "        df.reset_index(drop=True,inplace=True)\n",
    "    \n",
    "    return x_train,x_test,y_train,y_test"
   ]
  },
  {
   "cell_type": "code",
   "execution_count": 10,
   "id": "964d562c",
   "metadata": {
    "_kg_hide-input": true,
    "execution": {
     "iopub.execute_input": "2022-02-25T10:42:36.288218Z",
     "iopub.status.busy": "2022-02-25T10:42:36.287188Z",
     "iopub.status.idle": "2022-02-25T10:42:36.349486Z",
     "shell.execute_reply": "2022-02-25T10:42:36.348931Z",
     "shell.execute_reply.started": "2022-02-25T10:20:33.577096Z"
    },
    "papermill": {
     "duration": 0.1195,
     "end_time": "2022-02-25T10:42:36.349639",
     "exception": false,
     "start_time": "2022-02-25T10:42:36.230139",
     "status": "completed"
    },
    "tags": []
   },
   "outputs": [
    {
     "name": "stdout",
     "output_type": "stream",
     "text": [
      " training shape (68181, 62) \n",
      " test shape (7576, 62)\n"
     ]
    }
   ],
   "source": [
    "x_train,x_val,y_train,y_val = split_data(X=train,y=y,test_size=0.1)\n",
    "\n",
    "print(f' training shape {x_train.shape} \\n test shape {x_val.shape}')"
   ]
  },
  {
   "cell_type": "code",
   "execution_count": 11,
   "id": "033644fc",
   "metadata": {
    "_kg_hide-input": true,
    "execution": {
     "iopub.execute_input": "2022-02-25T10:42:36.459532Z",
     "iopub.status.busy": "2022-02-25T10:42:36.458809Z",
     "iopub.status.idle": "2022-02-25T10:42:36.461858Z",
     "shell.execute_reply": "2022-02-25T10:42:36.461336Z",
     "shell.execute_reply.started": "2022-02-25T10:20:33.886798Z"
    },
    "papermill": {
     "duration": 0.061108,
     "end_time": "2022-02-25T10:42:36.462017",
     "exception": false,
     "start_time": "2022-02-25T10:42:36.400909",
     "status": "completed"
    },
    "tags": []
   },
   "outputs": [],
   "source": [
    "# drop empty cols\n",
    "def drop_columns(df,\n",
    "                 columns_list):\n",
    "    '''drop given columns'''\n",
    "    return df.drop(columns_list,axis=1)\n",
    "\n",
    "def drop_empty_columns(df,\n",
    "                       drop_cols=None,\n",
    "                       threshold=None):\n",
    "    '''drop columns with null values greater than given % threshold value'''\n",
    "    \n",
    "    if threshold :\n",
    "        null = (df.isnull().sum() / len(df)) * 100  # % empty \n",
    "        drop_cols = null[null.values > threshold].index.to_list()     # select columns to be dropped\n",
    "        df = drop_columns(df,\n",
    "                          columns_list=drop_cols)\n",
    "        cfg.dropped_columns = drop_cols\n",
    "        \n",
    "    else:\n",
    "        df = drop_columns(df,columns_list=cfg.dropped_columns)\n",
    "        \n",
    "        \n",
    "#     print(df.head(10))\n",
    "    return df \n",
    "        "
   ]
  },
  {
   "cell_type": "code",
   "execution_count": 12,
   "id": "61020477",
   "metadata": {
    "_kg_hide-input": true,
    "execution": {
     "iopub.execute_input": "2022-02-25T10:42:36.569794Z",
     "iopub.status.busy": "2022-02-25T10:42:36.569106Z",
     "iopub.status.idle": "2022-02-25T10:42:36.571722Z",
     "shell.execute_reply": "2022-02-25T10:42:36.571199Z",
     "shell.execute_reply.started": "2022-02-25T10:20:34.324951Z"
    },
    "papermill": {
     "duration": 0.059,
     "end_time": "2022-02-25T10:42:36.571873",
     "exception": false,
     "start_time": "2022-02-25T10:42:36.512873",
     "status": "completed"
    },
    "tags": []
   },
   "outputs": [],
   "source": [
    "def column_types(df):\n",
    "    cfg.categorical = df.select_dtypes(include = 'object').columns.to_list()\n",
    "    cfg.numerical = df.select_dtypes(exclude = 'object').columns.to_list()\n",
    "    \n",
    "    return None"
   ]
  },
  {
   "cell_type": "markdown",
   "id": "db283508",
   "metadata": {
    "papermill": {
     "duration": 0.050482,
     "end_time": "2022-02-25T10:42:36.673286",
     "exception": false,
     "start_time": "2022-02-25T10:42:36.622804",
     "status": "completed"
    },
    "tags": []
   },
   "source": [
    "**Imputation**"
   ]
  },
  {
   "cell_type": "code",
   "execution_count": 13,
   "id": "9ac8dab0",
   "metadata": {
    "_kg_hide-input": true,
    "execution": {
     "iopub.execute_input": "2022-02-25T10:42:36.783990Z",
     "iopub.status.busy": "2022-02-25T10:42:36.778006Z",
     "iopub.status.idle": "2022-02-25T10:42:36.789320Z",
     "shell.execute_reply": "2022-02-25T10:42:36.789879Z",
     "shell.execute_reply.started": "2022-02-25T10:20:35.282334Z"
    },
    "papermill": {
     "duration": 0.066501,
     "end_time": "2022-02-25T10:42:36.790076",
     "exception": false,
     "start_time": "2022-02-25T10:42:36.723575",
     "status": "completed"
    },
    "tags": []
   },
   "outputs": [],
   "source": [
    "def return_df(array,columns):\n",
    "    '''return a pd dataframe after a transform'''\n",
    "    return pd.DataFrame(array,columns=columns)\n",
    "\n",
    "def iterative_imputer(train,val,test,params={}):\n",
    "    '''iterative imputation for numerical cols'''\n",
    "    from sklearn.experimental import enable_iterative_imputer\n",
    "    from sklearn.impute import IterativeImputer\n",
    "    \n",
    "    \n",
    "    \n",
    "    imp = IterativeImputer(**params)\n",
    "    \n",
    "    \n",
    "    train[cfg.numerical] = return_df(imp.fit_transform(train[cfg.numerical]),\n",
    "                                                        columns=cfg.numerical)\n",
    "    \n",
    "    test[cfg.numerical] = return_df(imp.fit_transform(test[cfg.numerical]),\n",
    "                                                        columns=cfg.numerical)\n",
    "    \n",
    "    \n",
    "    val[cfg.numerical] = return_df(imp.fit_transform(val[cfg.numerical]),\n",
    "                                                    columns=cfg.numerical)\n",
    "\n",
    "    return None\n",
    "\n",
    "\n",
    "def categorical_imputer(train,val,test):\n",
    "    '''impute missing values in categorical cols with constant(missing)'''\n",
    "    \n",
    "    imp = SimpleImputer(strategy = 'constant', fill_value = 'missing')\n",
    "    \n",
    "    train[cfg.categorical] = return_df(imp.fit_transform(train[cfg.categorical]),\n",
    "                                                        columns=cfg.categorical)\n",
    "    \n",
    "    test[cfg.categorical] = return_df(imp.fit_transform(test[cfg.categorical]),\n",
    "                                                        columns=cfg.categorical)\n",
    "    \n",
    "    \n",
    "    val[cfg.categorical] = return_df(imp.fit_transform(val[cfg.categorical]),\n",
    "                                                    columns=cfg.categorical)\n",
    "    \n",
    "    return None\n",
    "\n",
    "    "
   ]
  },
  {
   "cell_type": "markdown",
   "id": "572b856b",
   "metadata": {
    "papermill": {
     "duration": 0.051933,
     "end_time": "2022-02-25T10:42:36.895287",
     "exception": false,
     "start_time": "2022-02-25T10:42:36.843354",
     "status": "completed"
    },
    "tags": []
   },
   "source": [
    "**outliers in numerical data**"
   ]
  },
  {
   "cell_type": "code",
   "execution_count": 14,
   "id": "c9d629ea",
   "metadata": {
    "_kg_hide-input": true,
    "execution": {
     "iopub.execute_input": "2022-02-25T10:42:37.003619Z",
     "iopub.status.busy": "2022-02-25T10:42:37.002885Z",
     "iopub.status.idle": "2022-02-25T10:42:37.014607Z",
     "shell.execute_reply": "2022-02-25T10:42:37.013900Z",
     "shell.execute_reply.started": "2022-02-25T10:20:36.087669Z"
    },
    "papermill": {
     "duration": 0.066917,
     "end_time": "2022-02-25T10:42:37.014746",
     "exception": false,
     "start_time": "2022-02-25T10:42:36.947829",
     "status": "completed"
    },
    "tags": []
   },
   "outputs": [],
   "source": [
    "def specify_outliers(train,val,test):    \n",
    "    '''count of variables in which a particular item(row) is a outlier.'''\n",
    "    train['Is_outlier']=0\n",
    "    test['Is_outlier']=0\n",
    "    val['Is_outlier']=0\n",
    "    for col in cfg.numerical: #iterate over numerical cols\n",
    "                \n",
    "        \n",
    "        Q1=np.percentile(train[col],25)\n",
    "        Q3=np.percentile(train[col],75)\n",
    "        \n",
    "        col_IQR = Q3-Q1\n",
    "        \n",
    "        lower_limit= Q1 - (1.5 * col_IQR)\n",
    "        upper_limit= Q3 + (1.5 * col_IQR)\n",
    "        \n",
    "        outliers_idx=list(np.where(train[col]>upper_limit))  \n",
    "        outliers_idx.extend(np.where(train[col]<lower_limit))\n",
    "        \n",
    "        test_outlier_idx=list(np.where(test[col]>upper_limit))\n",
    "        test_outlier_idx.extend(list(np.where(test[col]<upper_limit)))\n",
    "        \n",
    "\n",
    "        val_outlier_idx=list(np.where(val[col]>upper_limit))\n",
    "        val_outlier_idx.extend(list(np.where(val[col]<upper_limit)))\n",
    "\n",
    "        for i in outliers_idx:\n",
    "            train.loc[i,'Is_outlier'] += 1\n",
    "        \n",
    "        for i in test_outlier_idx:\n",
    "            test.loc[i,'Is_outlier'] += 1\n",
    "            \n",
    "        for i in val_outlier_idx:\n",
    "        \n",
    "            val.loc[i,'Is_outlier'] += 1\n",
    "\n",
    "            \n",
    "    return None\n",
    "    "
   ]
  },
  {
   "cell_type": "markdown",
   "id": "97734ad1",
   "metadata": {
    "papermill": {
     "duration": 0.050256,
     "end_time": "2022-02-25T10:42:37.116437",
     "exception": false,
     "start_time": "2022-02-25T10:42:37.066181",
     "status": "completed"
    },
    "tags": []
   },
   "source": [
    "**Clustering the numerical data**\n",
    "\n",
    "    The strategy is to cluster based on three features,1) temperature features 2) precipitation and snowfall 3) other \"day\" features"
   ]
  },
  {
   "cell_type": "code",
   "execution_count": 15,
   "id": "5a5085e4",
   "metadata": {
    "_kg_hide-input": true,
    "execution": {
     "iopub.execute_input": "2022-02-25T10:42:37.222656Z",
     "iopub.status.busy": "2022-02-25T10:42:37.221838Z",
     "iopub.status.idle": "2022-02-25T10:42:37.223790Z",
     "shell.execute_reply": "2022-02-25T10:42:37.224309Z",
     "shell.execute_reply.started": "2022-02-25T10:20:37.154999Z"
    },
    "papermill": {
     "duration": 0.057611,
     "end_time": "2022-02-25T10:42:37.224487",
     "exception": false,
     "start_time": "2022-02-25T10:42:37.166876",
     "status": "completed"
    },
    "tags": []
   },
   "outputs": [],
   "source": [
    "# K means\n",
    "#finding ideal k by elbow method:\n",
    "\n",
    "# def find_ideal_k(m=15,df,cols):\n",
    "#     '''find ideal k for clustering using elbw method'''\n",
    "    \n",
    "    \n",
    "#     X_temp=scale(df[cols].copy())\n",
    "#     inertia=[]\n",
    "#     K=[i for i in range(2,m)]\n",
    "#     for k in K:\n",
    "#         km=KMeans(n_clusters=k)\n",
    "#         km.fit(X_temp)\n",
    "#         inertia.append(km.inertia_)\n",
    "    \n",
    "#     plt.figure(figsize=(16,8))\n",
    "#     plt.plot(K,inertia)\n",
    "#     plt.xlabel('K')\n",
    "#     plt.ylabel('inertia')\n",
    "#     plt.show()\n",
    "    \n",
    "#     del X_temp;gc.collect()\n",
    "    \n",
    "    # def kmeans_cluster(train,test,val=None,\n",
    "#                 cluster_feature='kmeans',\n",
    "#                 columns=None,\n",
    "#                 n_components=5,\n",
    "#                 standardize=True):"
   ]
  },
  {
   "cell_type": "code",
   "execution_count": 16,
   "id": "637c3bb6",
   "metadata": {
    "_kg_hide-input": true,
    "execution": {
     "iopub.execute_input": "2022-02-25T10:42:37.329358Z",
     "iopub.status.busy": "2022-02-25T10:42:37.328612Z",
     "iopub.status.idle": "2022-02-25T10:42:37.341676Z",
     "shell.execute_reply": "2022-02-25T10:42:37.341048Z",
     "shell.execute_reply.started": "2022-02-25T10:20:37.636036Z"
    },
    "papermill": {
     "duration": 0.066742,
     "end_time": "2022-02-25T10:42:37.341815",
     "exception": false,
     "start_time": "2022-02-25T10:42:37.275073",
     "status": "completed"
    },
    "tags": []
   },
   "outputs": [],
   "source": [
    "\n",
    "    \n",
    "    \n",
    "def gmm_cluster(train,val,test,\n",
    "                cluster_feature='gmm',\n",
    "                columns=None,\n",
    "                n_components=5,\n",
    "                standardize=True):\n",
    "    '''clutser the given column fields using gaussian mixture models'''\n",
    "    \n",
    "    if standardize:\n",
    "        scaler = StandardScaler()\n",
    "\n",
    "        tr_scaled = scaler.fit_transform(train[columns])\n",
    "        ts_scaled = scaler.transform(test[columns])\n",
    "        val_scaled = scaler.transform(val[columns])\n",
    "\n",
    "            \n",
    "    \n",
    "    gmm = GMM(n_components= n_components,\n",
    "              max_iter=1000)\n",
    "    \n",
    "    train[cluster_feature] = gmm.fit_predict(tr_scaled)\n",
    "    test[cluster_feature] = gmm.predict(ts_scaled)\n",
    "    val[cluster_feature] = gmm.predict(val_scaled)\n",
    "    \n",
    "    \n",
    "    return None\n",
    "\n",
    "def get_clusters(train,test,val):\n",
    "    '''cluster data'''\n",
    "    #     1) temp clusters\n",
    "    temp_cols = [c for c in train.columns if 'temp' in c] \n",
    "    _ =gmm_cluster(train,val,test,\n",
    "                cluster_feature='temp_cluster',\n",
    "                columns=temp_cols,\n",
    "                n_components=5,\n",
    "                standardize=True)\n",
    "    \n",
    "    cfg.categorical.append('temp_cluster')\n",
    "    \n",
    "    #     2) other climate / geo data \n",
    "    clm_cols = ['ELEVATION','snowdepth_inches','snowfall_inches','precipitation_inches'] \n",
    "    _ =gmm_cluster(train,val,test,\n",
    "                cluster_feature='clm_cluster',\n",
    "                columns=clm_cols,\n",
    "                n_components=5,\n",
    "                standardize=True)\n",
    "    \n",
    "    \n",
    "    cfg.categorical.append('clm_cluster')\n",
    "    \n",
    "    #     3) days data \n",
    "    days_cols =  [c for c in train.columns if 'days' in c] \n",
    "    _ =gmm_cluster(train,val,test,\n",
    "                cluster_feature='d_cluster',\n",
    "                columns=days_cols,\n",
    "                n_components=5,\n",
    "                standardize=True)\n",
    "    \n",
    "    \n",
    "    cfg.categorical.append('d_cluster')\n",
    "    \n",
    "    \n",
    "    return None"
   ]
  },
  {
   "cell_type": "markdown",
   "id": "8245367b",
   "metadata": {
    "papermill": {
     "duration": 0.051063,
     "end_time": "2022-02-25T10:42:37.445261",
     "exception": false,
     "start_time": "2022-02-25T10:42:37.394198",
     "status": "completed"
    },
    "tags": []
   },
   "source": [
    "**Transformation function**"
   ]
  },
  {
   "cell_type": "code",
   "execution_count": 17,
   "id": "31c0eabe",
   "metadata": {
    "_kg_hide-input": true,
    "execution": {
     "iopub.execute_input": "2022-02-25T10:42:37.549683Z",
     "iopub.status.busy": "2022-02-25T10:42:37.548670Z",
     "iopub.status.idle": "2022-02-25T10:42:37.556819Z",
     "shell.execute_reply": "2022-02-25T10:42:37.557411Z",
     "shell.execute_reply.started": "2022-02-25T10:20:38.919049Z"
    },
    "papermill": {
     "duration": 0.061974,
     "end_time": "2022-02-25T10:42:37.557579",
     "exception": false,
     "start_time": "2022-02-25T10:42:37.495605",
     "status": "completed"
    },
    "tags": []
   },
   "outputs": [],
   "source": [
    "def numerical_transform(train,val,test):\n",
    "    '''transformations for numerical columns'''\n",
    "    \n",
    "    # convert year buuild to difference between least value and year build\n",
    "    train['year_built'] = train['year_built'].apply(lambda x: max(x -1600,0))\n",
    "    val['year_built'] = val['year_built'].apply(lambda x: max(x -1600,0))\n",
    "    test['year_built'] = test['year_built'].apply(lambda x: max(x -1600,0))\n",
    "    \n",
    "    #impute missing with iterative imputer\n",
    "    _ = iterative_imputer(train,test,val)\n",
    "    \n",
    "        \n",
    "    #count outliers in each feature\n",
    "    _ = specify_outliers(train,test,val)\n",
    "    \n",
    "    #cluster features \n",
    "    _ = get_clusters(train,test,val)\n",
    "    \n",
    "    \n",
    "def categorical_transform(train,val,test):\n",
    "    '''transformations to be applied on categorical data.'''\n",
    "    \n",
    "    # impute missing with constant \n",
    "    _=categorical_imputer(train=train,test=test,val=val)\n",
    "    \n",
    "    return None"
   ]
  },
  {
   "cell_type": "markdown",
   "id": "fb70c5ab",
   "metadata": {
    "papermill": {
     "duration": 0.050119,
     "end_time": "2022-02-25T10:42:37.658327",
     "exception": false,
     "start_time": "2022-02-25T10:42:37.608208",
     "status": "completed"
    },
    "tags": []
   },
   "source": [
    "**Preprocessing function**"
   ]
  },
  {
   "cell_type": "code",
   "execution_count": 18,
   "id": "33767342",
   "metadata": {
    "_kg_hide-input": true,
    "execution": {
     "iopub.execute_input": "2022-02-25T10:42:37.762928Z",
     "iopub.status.busy": "2022-02-25T10:42:37.761879Z",
     "iopub.status.idle": "2022-02-25T10:42:37.771080Z",
     "shell.execute_reply": "2022-02-25T10:42:37.771698Z",
     "shell.execute_reply.started": "2022-02-25T10:20:39.955118Z"
    },
    "papermill": {
     "duration": 0.063448,
     "end_time": "2022-02-25T10:42:37.771875",
     "exception": false,
     "start_time": "2022-02-25T10:42:37.708427",
     "status": "completed"
    },
    "tags": []
   },
   "outputs": [],
   "source": [
    "class preprocessor:\n",
    "    def __init__(self,train,val,test):\n",
    "        self.X = train.copy(deep=True)\n",
    "        self.X_val = val.copy(deep=True)\n",
    "        self.test = test.copy(deep=True)\n",
    "    \n",
    "    def transform(self):\n",
    "        '''apply preprocessing transformations'''\n",
    "        \n",
    "        # dropping null columns \n",
    "        self.X = drop_empty_columns(self.X,threshold = 50)\n",
    "        self.test = drop_empty_columns(self.test,threshold = None)\n",
    "        self.X_val = drop_empty_columns(self.X_val,threshold = None)\n",
    "        \n",
    "        # specify numerical and categorical columns\n",
    "        column_types(self.X)\n",
    "        \n",
    "        #apply numerical transforms\n",
    "        _ = numerical_transform(train=self.X,\n",
    "                                test = self.test,\n",
    "                                val = self.X_val)\n",
    "        \n",
    "        #apply categorical transforms\n",
    "        _ = categorical_transform(train=self.X,\n",
    "                                test = self.test,\n",
    "                                val = self.X_val)\n",
    "\n",
    "        \n",
    "        return self.X,self.X_val,self.test"
   ]
  },
  {
   "cell_type": "markdown",
   "id": "49bdd3e9",
   "metadata": {
    "papermill": {
     "duration": 0.058749,
     "end_time": "2022-02-25T10:42:37.881806",
     "exception": false,
     "start_time": "2022-02-25T10:42:37.823057",
     "status": "completed"
    },
    "tags": []
   },
   "source": [
    "**Preprocess inputs**"
   ]
  },
  {
   "cell_type": "code",
   "execution_count": 19,
   "id": "c2500af4",
   "metadata": {
    "execution": {
     "iopub.execute_input": "2022-02-25T10:42:38.004564Z",
     "iopub.status.busy": "2022-02-25T10:42:38.003868Z",
     "iopub.status.idle": "2022-02-25T10:43:22.297304Z",
     "shell.execute_reply": "2022-02-25T10:43:22.298131Z",
     "shell.execute_reply.started": "2022-02-25T10:21:55.855598Z"
    },
    "papermill": {
     "duration": 44.351228,
     "end_time": "2022-02-25T10:43:22.298382",
     "exception": false,
     "start_time": "2022-02-25T10:42:37.947154",
     "status": "completed"
    },
    "tags": []
   },
   "outputs": [
    {
     "name": "stdout",
     "output_type": "stream",
     "text": [
      "CPU times: user 1min 43s, sys: 1min 6s, total: 2min 49s\n",
      "Wall time: 44.2 s\n"
     ]
    }
   ],
   "source": [
    "%%time\n",
    "x_train,x_val,test = preprocessor(train=x_train,\n",
    "                                    val=x_val,\n",
    "                                    test=test).transform()\n",
    "\n",
    "\n",
    "assert (x_train.shape[1] == x_val.shape[1] == test.shape[1]) , 'Columns do not match'"
   ]
  },
  {
   "cell_type": "markdown",
   "id": "dff0163e",
   "metadata": {
    "papermill": {
     "duration": 0.051688,
     "end_time": "2022-02-25T10:43:22.412006",
     "exception": false,
     "start_time": "2022-02-25T10:43:22.360318",
     "status": "completed"
    },
    "tags": []
   },
   "source": [
    "# Simple Feature Selection"
   ]
  },
  {
   "cell_type": "code",
   "execution_count": 20,
   "id": "9bc2efa7",
   "metadata": {
    "_kg_hide-input": true,
    "execution": {
     "iopub.execute_input": "2022-02-25T10:43:22.519418Z",
     "iopub.status.busy": "2022-02-25T10:43:22.518589Z",
     "iopub.status.idle": "2022-02-25T10:43:22.529990Z",
     "shell.execute_reply": "2022-02-25T10:43:22.530662Z",
     "shell.execute_reply.started": "2022-02-25T09:57:13.066212Z"
    },
    "papermill": {
     "duration": 0.067159,
     "end_time": "2022-02-25T10:43:22.530865",
     "exception": false,
     "start_time": "2022-02-25T10:43:22.463706",
     "status": "completed"
    },
    "tags": []
   },
   "outputs": [],
   "source": [
    "# def feature_selection(n_iters):\n",
    "def mutual_info_reg(x_train,y_train,\n",
    "                     n_iters=30,\n",
    "                     include_columns = cfg.numerical,\n",
    "                     sample_size=len(x_train)//4):\n",
    "    scores=[]\n",
    "    n=0\n",
    "    \n",
    "    \n",
    "    \n",
    "    while n<=n_iters:\n",
    "        \n",
    "        sample_idx = x_train.sample(sample_size).index\n",
    "        x=StandardScaler().fit_transform(x_train.loc[sample_idx,include_columns])\n",
    "\n",
    "        mir_data=mutual_info_regression(X=x,\n",
    "                                        y=y_train.iloc[sample_idx],\n",
    "                                       )\n",
    "        scores.append(mir_data)\n",
    "        n+=1\n",
    "        \n",
    "        del x ; gc.collect()\n",
    "        \n",
    "    mean_score=np.mean(a=np.array(scores),\n",
    "                       axis=0)\n",
    "    \n",
    "    mutual_info=pd.DataFrame({'mutual_info':mean_score,\n",
    "                              'cols':include_columns}).sort_values(by='mutual_info',ascending=False)\n",
    "    \n",
    "    \n",
    "    \n",
    "    \n",
    "    return mutual_info"
   ]
  },
  {
   "cell_type": "code",
   "execution_count": 21,
   "id": "438a3073",
   "metadata": {
    "execution": {
     "iopub.execute_input": "2022-02-25T10:43:22.639000Z",
     "iopub.status.busy": "2022-02-25T10:43:22.638267Z",
     "iopub.status.idle": "2022-02-25T11:02:38.264609Z",
     "shell.execute_reply": "2022-02-25T11:02:38.265181Z",
     "shell.execute_reply.started": "2022-02-25T09:57:13.078214Z"
    },
    "papermill": {
     "duration": 1155.681621,
     "end_time": "2022-02-25T11:02:38.265476",
     "exception": false,
     "start_time": "2022-02-25T10:43:22.583855",
     "status": "completed"
    },
    "tags": []
   },
   "outputs": [
    {
     "name": "stdout",
     "output_type": "stream",
     "text": [
      "CPU times: user 16min 11s, sys: 3min 2s, total: 19min 14s\n",
      "Wall time: 19min 14s\n"
     ]
    },
    {
     "data": {
      "text/plain": [
       "<AxesSubplot:title={'center':'Mutual Info Scores'}, ylabel='cols'>"
      ]
     },
     "execution_count": 21,
     "metadata": {},
     "output_type": "execute_result"
    },
    {
     "data": {
      "image/png": "[encoded data removed]",
      "text/plain": [
       "<Figure size 1440x1152 with 1 Axes>"
      ]
     },
     "metadata": {
      "needs_background": "light"
     },
     "output_type": "display_data"
    }
   ],
   "source": [
    "%%time\n",
    "mir=mutual_info_reg(x_train,y_train,\n",
    "                    n_iters=30) # find feature importances\n",
    "\n",
    "mir.plot.barh(x = 'cols',y='mutual_info',figsize=(20,16),title='Mutual Info Scores')"
   ]
  },
  {
   "cell_type": "markdown",
   "id": "38bea78a",
   "metadata": {
    "papermill": {
     "duration": 0.054118,
     "end_time": "2022-02-25T11:02:38.373887",
     "exception": false,
     "start_time": "2022-02-25T11:02:38.319769",
     "status": "completed"
    },
    "tags": []
   },
   "source": [
    "# Hyperparam optimization"
   ]
  },
  {
   "cell_type": "code",
   "execution_count": 22,
   "id": "8ed5c5e9",
   "metadata": {
    "execution": {
     "iopub.execute_input": "2022-02-25T11:02:38.494330Z",
     "iopub.status.busy": "2022-02-25T11:02:38.493533Z",
     "iopub.status.idle": "2022-02-25T11:02:38.504119Z",
     "shell.execute_reply": "2022-02-25T11:02:38.504646Z",
     "shell.execute_reply.started": "2022-02-25T10:23:48.879985Z"
    },
    "papermill": {
     "duration": 0.077013,
     "end_time": "2022-02-25T11:02:38.504835",
     "exception": false,
     "start_time": "2022-02-25T11:02:38.427822",
     "status": "completed"
    },
    "tags": []
   },
   "outputs": [],
   "source": [
    "class catboost_optimization:\n",
    "    def __init__(self,\n",
    "                 X,\n",
    "                 y,\n",
    "                 params=None,\n",
    "                 categorical = cfg.categorical,\n",
    "                 seed=cfg.seed):\n",
    "        self.params = params\n",
    "        self.seed   = seed\n",
    "        self.categorical = categorical\n",
    "        self.X = X\n",
    "        self.y = y\n",
    "        \n",
    "\n",
    "    def objective(self,\n",
    "                  trial:optuna.Trial):\n",
    "        \n",
    "        \n",
    "        \n",
    "        self.params = {\n",
    "                'verbose'        : 1,\n",
    "               'loss_function'  :'RMSE',\n",
    "               'depth'          :trial.suggest_int('depth',4,10),\n",
    "               'learning_rate'  :trial.suggest_loguniform('learning_rate', 1e-4, 1e-1),\n",
    "               'l2_leaf_reg'    :trial.suggest_loguniform('l2_leaf_reg', 1e-2, 10.0),\n",
    "               'random_strength':trial.suggest_uniform('random_strength',1e-2,0.5),\n",
    "               'max_bin'        :trial.suggest_int('max_bin',64,254),\n",
    "               'grow_policy'    :trial.suggest_categorical('grow_policy',\n",
    "                                                           ['SymmetricTree','Depthwise']),\n",
    "               'iterations'     :trial.suggest_int('iterations',1000,2000),\n",
    "#                'max_leaves'     :trial.suggest_int('max_leaves',2,64),\n",
    "               \"colsample_bylevel\": trial.suggest_float(\"colsample_bylevel\", 0.3, 0.7),\n",
    "#                \"boosting_type\": trial.suggest_categorical(\"boosting_type\", [\"Ordered\", \"Plain\"]),\n",
    "               \"bootstrap_type\": trial.suggest_categorical(\"bootstrap_type\",\n",
    "                                                           [\"Bayesian\", \"MVS\",'Bernoulli']),\n",
    "               'eval_metric': 'R2'\n",
    "                }\n",
    "\n",
    "        #splitting training data \n",
    "        x_tr,x_ts,y_tr,y_ts=train_test_split(self.X,\n",
    "                                             self.y,\n",
    "                                             random_state=self.seed,\n",
    "                                             train_size=0.80)\n",
    "        \n",
    "# `\n",
    "        try:\n",
    "            model = CatBoostRegressor(**self.params)\n",
    "            \n",
    "            model.fit(x_tr,y_tr,\n",
    "                     eval_set=[(x_ts,y_ts)],\n",
    "                     verbose=0,\n",
    "                     cat_features=self.categorical,\n",
    "                     early_stopping_rounds=300)\n",
    "  \n",
    "\n",
    "            preds=model.predict(x_ts)\n",
    "\n",
    "            acc= mean_squared_error(y_ts,preds)\n",
    "\n",
    "            return acc\n",
    "\n",
    "        except Exception as e:\n",
    "            print(e)\n",
    "            return None\n",
    "   \n",
    "    def get_best_params(self,\n",
    "                        n_trials = 30,\n",
    "                        time_out=9000,\n",
    "                        direction= 'minimize'):\n",
    "        \n",
    "        print(f'Running optimization for {time_out} seconds / {n_trials} Trials')\n",
    "        \n",
    "        \n",
    "        sampler = optuna.samplers.TPESampler(seed=self.seed)  # Make the sampler behave in a deterministic way.\n",
    "\n",
    "        self.study=optuna.create_study(direction=direction,\n",
    "                                        sampler=sampler)\n",
    "        self.study.optimize(self.objective,\n",
    "                           n_trials=n_trials,\n",
    "                           timeout=time_out)\n",
    "\n",
    "        print(\"Number of finished trials: {}\".format(len(self.study.trials)))\n",
    "\n",
    "        return self.study.best_trial.params\n",
    "\n",
    "    def plot_history(self):\n",
    "        '''plot optimization history :\n",
    "        credits : https://medium.com/databulls/tps-mar21-leaderboard-14-xgb-catboost-lgbm-optuna-cdffb5124368'''\n",
    "        optuna.visualization.plot_optimization_history(self.study)\n",
    "        \n",
    "    def plot_param_importances(self):\n",
    "        '''plot param imp'''\n",
    "        optuna.visualization.plot_param_importances(self.study)"
   ]
  },
  {
   "cell_type": "code",
   "execution_count": 23,
   "id": "2ee50172",
   "metadata": {
    "execution": {
     "iopub.execute_input": "2022-02-25T11:02:38.622699Z",
     "iopub.status.busy": "2022-02-25T11:02:38.621991Z",
     "iopub.status.idle": "2022-02-25T12:29:11.993160Z",
     "shell.execute_reply": "2022-02-25T12:29:11.992432Z",
     "shell.execute_reply.started": "2022-02-25T10:24:01.845702Z"
    },
    "papermill": {
     "duration": 5193.434032,
     "end_time": "2022-02-25T12:29:11.993434",
     "exception": false,
     "start_time": "2022-02-25T11:02:38.559402",
     "status": "completed"
    },
    "tags": []
   },
   "outputs": [
    {
     "name": "stderr",
     "output_type": "stream",
     "text": [
      "\u001b[32m[I 2022-02-25 11:02:38,620]\u001b[0m A new study created in memory with name: no-name-1ca3d92b-e49f-4c1d-8397-a735c897e663\u001b[0m\n"
     ]
    },
    {
     "name": "stdout",
     "output_type": "stream",
     "text": [
      "Running optimization for 9000 seconds / 70 Trials\n"
     ]
    },
    {
     "name": "stderr",
     "output_type": "stream",
     "text": [
      "\u001b[32m[I 2022-02-25 11:02:55,158]\u001b[0m Trial 0 finished with value: 0.19572141470313476 and parameters: {'depth': 4, 'learning_rate': 0.021865347140571728, 'l2_leaf_reg': 0.2066463288698664, 'random_strength': 0.3644979371371612, 'max_bin': 250, 'grow_policy': 'SymmetricTree', 'iterations': 1072, 'colsample_bylevel': 0.40737559204074847, 'bootstrap_type': 'Bernoulli'}. Best is trial 0 with value: 0.19572141470313476.\u001b[0m\n",
      "\u001b[32m[I 2022-02-25 11:03:44,462]\u001b[0m Trial 1 finished with value: 0.36282709052307643 and parameters: {'depth': 6, 'learning_rate': 0.00015769177465114242, 'l2_leaf_reg': 0.07318748070568248, 'random_strength': 0.4557008285826107, 'max_bin': 104, 'grow_policy': 'Depthwise', 'iterations': 1024, 'colsample_bylevel': 0.540219566985649, 'bootstrap_type': 'Bayesian'}. Best is trial 1 with value: 0.36282709052307643.\u001b[0m\n",
      "\u001b[32m[I 2022-02-25 11:05:13,162]\u001b[0m Trial 2 finished with value: 0.31103835485531295 and parameters: {'depth': 10, 'learning_rate': 0.00025090443458586733, 'l2_leaf_reg': 0.3717386710499825, 'random_strength': 0.37770083095999707, 'max_bin': 191, 'grow_policy': 'SymmetricTree', 'iterations': 1491, 'colsample_bylevel': 0.44895387575402357, 'bootstrap_type': 'Bernoulli'}. Best is trial 1 with value: 0.36282709052307643.\u001b[0m\n",
      "\u001b[32m[I 2022-02-25 11:07:26,828]\u001b[0m Trial 3 finished with value: 0.22102830074171873 and parameters: {'depth': 9, 'learning_rate': 0.000874951603967156, 'l2_leaf_reg': 0.5222470529555061, 'random_strength': 0.1452640336820406, 'max_bin': 150, 'grow_policy': 'Depthwise', 'iterations': 1370, 'colsample_bylevel': 0.48363719115657255, 'bootstrap_type': 'Bernoulli'}. Best is trial 1 with value: 0.36282709052307643.\u001b[0m\n",
      "\u001b[32m[I 2022-02-25 11:07:46,854]\u001b[0m Trial 4 finished with value: 0.19583899369052382 and parameters: {'depth': 5, 'learning_rate': 0.01672463385548366, 'l2_leaf_reg': 0.18497887376173783, 'random_strength': 0.21896225061562175, 'max_bin': 185, 'grow_policy': 'SymmetricTree', 'iterations': 1001, 'colsample_bylevel': 0.33690493833870083, 'bootstrap_type': 'Bayesian'}. Best is trial 1 with value: 0.36282709052307643.\u001b[0m\n",
      "\u001b[32m[I 2022-02-25 11:12:18,326]\u001b[0m Trial 5 finished with value: 0.1735000576757699 and parameters: {'depth': 10, 'learning_rate': 0.011187719344910798, 'l2_leaf_reg': 0.014433979096775669, 'random_strength': 0.1613378155832606, 'max_bin': 177, 'grow_policy': 'Depthwise', 'iterations': 1945, 'colsample_bylevel': 0.6393603523350755, 'bootstrap_type': 'MVS'}. Best is trial 1 with value: 0.36282709052307643.\u001b[0m\n",
      "\u001b[32m[I 2022-02-25 11:12:46,790]\u001b[0m Trial 6 finished with value: 0.20677153802275602 and parameters: {'depth': 6, 'learning_rate': 0.002449002240605313, 'l2_leaf_reg': 1.6808989351065449, 'random_strength': 0.24805436206735937, 'max_bin': 90, 'grow_policy': 'SymmetricTree', 'iterations': 1300, 'colsample_bylevel': 0.36620056018631497, 'bootstrap_type': 'Bernoulli'}. Best is trial 1 with value: 0.36282709052307643.\u001b[0m\n",
      "\u001b[32m[I 2022-02-25 11:15:15,207]\u001b[0m Trial 7 finished with value: 0.1899769132969817 and parameters: {'depth': 9, 'learning_rate': 0.0036912238561546446, 'l2_leaf_reg': 0.24093000436241033, 'random_strength': 0.39132466475650934, 'max_bin': 233, 'grow_policy': 'Depthwise', 'iterations': 1940, 'colsample_bylevel': 0.3162623237746743, 'bootstrap_type': 'Bayesian'}. Best is trial 1 with value: 0.36282709052307643.\u001b[0m\n",
      "\u001b[32m[I 2022-02-25 11:17:19,661]\u001b[0m Trial 8 finished with value: 0.17945496006804507 and parameters: {'depth': 9, 'learning_rate': 0.014181647843079237, 'l2_leaf_reg': 0.02763393398878661, 'random_strength': 0.3327866468875313, 'max_bin': 77, 'grow_policy': 'Depthwise', 'iterations': 1428, 'colsample_bylevel': 0.5399417750173785, 'bootstrap_type': 'MVS'}. Best is trial 1 with value: 0.36282709052307643.\u001b[0m\n",
      "\u001b[32m[I 2022-02-25 11:18:03,105]\u001b[0m Trial 9 finished with value: 0.21135588901353575 and parameters: {'depth': 4, 'learning_rate': 0.0018229321357844741, 'l2_leaf_reg': 0.2451368799078092, 'random_strength': 0.03719475652523411, 'max_bin': 167, 'grow_policy': 'Depthwise', 'iterations': 1942, 'colsample_bylevel': 0.3512591416010931, 'bootstrap_type': 'MVS'}. Best is trial 1 with value: 0.36282709052307643.\u001b[0m\n",
      "\u001b[32m[I 2022-02-25 11:19:51,346]\u001b[0m Trial 10 finished with value: 0.3453577151736295 and parameters: {'depth': 7, 'learning_rate': 0.00013528655107209072, 'l2_leaf_reg': 8.30645263261275, 'random_strength': 0.47387729707167275, 'max_bin': 120, 'grow_policy': 'Depthwise', 'iterations': 1680, 'colsample_bylevel': 0.5841259068342454, 'bootstrap_type': 'Bayesian'}. Best is trial 1 with value: 0.36282709052307643.\u001b[0m\n",
      "\u001b[32m[I 2022-02-25 11:21:39,791]\u001b[0m Trial 11 finished with value: 0.3585795195746721 and parameters: {'depth': 7, 'learning_rate': 0.00010246536377434813, 'l2_leaf_reg': 6.9259688645309065, 'random_strength': 0.4858963413479744, 'max_bin': 123, 'grow_policy': 'Depthwise', 'iterations': 1699, 'colsample_bylevel': 0.5737414504044392, 'bootstrap_type': 'Bayesian'}. Best is trial 1 with value: 0.36282709052307643.\u001b[0m\n",
      "\u001b[32m[I 2022-02-25 11:23:39,084]\u001b[0m Trial 12 finished with value: 0.26293210337589407 and parameters: {'depth': 7, 'learning_rate': 0.000423926042822976, 'l2_leaf_reg': 0.04173967339115309, 'random_strength': 0.49719596672531763, 'max_bin': 120, 'grow_policy': 'Depthwise', 'iterations': 1678, 'colsample_bylevel': 0.671241863627173, 'bootstrap_type': 'Bayesian'}. Best is trial 1 with value: 0.36282709052307643.\u001b[0m\n",
      "\u001b[32m[I 2022-02-25 11:25:05,143]\u001b[0m Trial 13 finished with value: 0.3558573333029798 and parameters: {'depth': 6, 'learning_rate': 0.00011117364444806458, 'l2_leaf_reg': 4.6260331833178885, 'random_strength': 0.448690342067126, 'max_bin': 114, 'grow_policy': 'Depthwise', 'iterations': 1700, 'colsample_bylevel': 0.579896580911253, 'bootstrap_type': 'Bayesian'}. Best is trial 1 with value: 0.36282709052307643.\u001b[0m\n",
      "\u001b[32m[I 2022-02-25 11:26:01,272]\u001b[0m Trial 14 finished with value: 0.18581824617559195 and parameters: {'depth': 8, 'learning_rate': 0.06858371800387374, 'l2_leaf_reg': 1.356610252474768, 'random_strength': 0.3189541709887843, 'max_bin': 65, 'grow_policy': 'Depthwise', 'iterations': 1766, 'colsample_bylevel': 0.5381588904280497, 'bootstrap_type': 'Bayesian'}. Best is trial 1 with value: 0.36282709052307643.\u001b[0m\n",
      "\u001b[32m[I 2022-02-25 11:27:05,376]\u001b[0m Trial 15 finished with value: 0.2869476463748705 and parameters: {'depth': 6, 'learning_rate': 0.0004517552646626593, 'l2_leaf_reg': 0.058971175545398054, 'random_strength': 0.4243417332301087, 'max_bin': 144, 'grow_policy': 'Depthwise', 'iterations': 1203, 'colsample_bylevel': 0.6137812414032945, 'bootstrap_type': 'Bayesian'}. Best is trial 1 with value: 0.36282709052307643.\u001b[0m\n",
      "\u001b[32m[I 2022-02-25 11:28:05,622]\u001b[0m Trial 16 finished with value: 0.32154268697156857 and parameters: {'depth': 5, 'learning_rate': 0.00023423634478580982, 'l2_leaf_reg': 0.06997307256239368, 'random_strength': 0.4979458377986328, 'max_bin': 100, 'grow_policy': 'Depthwise', 'iterations': 1594, 'colsample_bylevel': 0.5250268041497567, 'bootstrap_type': 'Bayesian'}. Best is trial 1 with value: 0.36282709052307643.\u001b[0m\n",
      "\u001b[32m[I 2022-02-25 11:29:36,834]\u001b[0m Trial 17 finished with value: 0.2329624620757427 and parameters: {'depth': 8, 'learning_rate': 0.0009115110238165893, 'l2_leaf_reg': 1.058078589918048, 'random_strength': 0.2911873132210277, 'max_bin': 142, 'grow_policy': 'Depthwise', 'iterations': 1183, 'colsample_bylevel': 0.47355097334049706, 'bootstrap_type': 'Bayesian'}. Best is trial 1 with value: 0.36282709052307643.\u001b[0m\n",
      "\u001b[32m[I 2022-02-25 11:30:25,155]\u001b[0m Trial 18 finished with value: 0.3212620990366225 and parameters: {'depth': 5, 'learning_rate': 0.00021152334230252958, 'l2_leaf_reg': 0.10878491891596494, 'random_strength': 0.42487275496103594, 'max_bin': 209, 'grow_policy': 'SymmetricTree', 'iterations': 1802, 'colsample_bylevel': 0.6978997983643114, 'bootstrap_type': 'Bayesian'}. Best is trial 1 with value: 0.36282709052307643.\u001b[0m\n",
      "\u001b[32m[I 2022-02-25 11:32:27,174]\u001b[0m Trial 19 finished with value: 0.2481182055441212 and parameters: {'depth': 8, 'learning_rate': 0.000552754975842702, 'l2_leaf_reg': 3.9588645920347783, 'random_strength': 0.4251549197221515, 'max_bin': 129, 'grow_policy': 'Depthwise', 'iterations': 1558, 'colsample_bylevel': 0.5817688169385273, 'bootstrap_type': 'MVS'}. Best is trial 1 with value: 0.36282709052307643.\u001b[0m\n",
      "\u001b[32m[I 2022-02-25 11:34:08,087]\u001b[0m Trial 20 finished with value: 0.35407505800369654 and parameters: {'depth': 7, 'learning_rate': 0.0001043724214008334, 'l2_leaf_reg': 0.011748401268508788, 'random_strength': 0.19019719076315486, 'max_bin': 98, 'grow_policy': 'Depthwise', 'iterations': 1831, 'colsample_bylevel': 0.43143302338642636, 'bootstrap_type': 'Bayesian'}. Best is trial 1 with value: 0.36282709052307643.\u001b[0m\n",
      "\u001b[32m[I 2022-02-25 11:35:31,517]\u001b[0m Trial 21 finished with value: 0.35284756276278334 and parameters: {'depth': 6, 'learning_rate': 0.00012367646208058284, 'l2_leaf_reg': 9.602322315362073, 'random_strength': 0.45123307538529794, 'max_bin': 110, 'grow_policy': 'Depthwise', 'iterations': 1652, 'colsample_bylevel': 0.5744712354832417, 'bootstrap_type': 'Bayesian'}. Best is trial 1 with value: 0.36282709052307643.\u001b[0m\n",
      "\u001b[32m[I 2022-02-25 11:36:55,125]\u001b[0m Trial 22 finished with value: 0.3629832932104595 and parameters: {'depth': 6, 'learning_rate': 0.00010265401673222286, 'l2_leaf_reg': 3.7586399026689747, 'random_strength': 0.44502954303583114, 'max_bin': 85, 'grow_policy': 'Depthwise', 'iterations': 1548, 'colsample_bylevel': 0.6242778581432346, 'bootstrap_type': 'Bayesian'}. Best is trial 22 with value: 0.3629832932104595.\u001b[0m\n",
      "\u001b[32m[I 2022-02-25 11:38:13,896]\u001b[0m Trial 23 finished with value: 0.31582038188239697 and parameters: {'depth': 6, 'learning_rate': 0.00024798700682263845, 'l2_leaf_reg': 3.656483957592055, 'random_strength': 0.3725295602190074, 'max_bin': 82, 'grow_policy': 'Depthwise', 'iterations': 1475, 'colsample_bylevel': 0.6381066878752066, 'bootstrap_type': 'Bayesian'}. Best is trial 22 with value: 0.3629832932104595.\u001b[0m\n",
      "\u001b[32m[I 2022-02-25 11:39:04,291]\u001b[0m Trial 24 finished with value: 0.2256675567491887 and parameters: {'depth': 5, 'learning_rate': 0.0011435999472700976, 'l2_leaf_reg': 2.634915476176894, 'random_strength': 0.05421779599766244, 'max_bin': 68, 'grow_policy': 'Depthwise', 'iterations': 1371, 'colsample_bylevel': 0.5121152494021478, 'bootstrap_type': 'Bayesian'}. Best is trial 22 with value: 0.3629832932104595.\u001b[0m\n",
      "\u001b[32m[I 2022-02-25 11:40:49,983]\u001b[0m Trial 25 finished with value: 0.3307678585922974 and parameters: {'depth': 7, 'learning_rate': 0.00017777013976700757, 'l2_leaf_reg': 0.6527447521386697, 'random_strength': 0.4626194835045515, 'max_bin': 101, 'grow_policy': 'Depthwise', 'iterations': 1568, 'colsample_bylevel': 0.6257917936682832, 'bootstrap_type': 'Bayesian'}. Best is trial 22 with value: 0.3629832932104595.\u001b[0m\n",
      "\u001b[32m[I 2022-02-25 11:41:52,141]\u001b[0m Trial 26 finished with value: 0.29970799544227195 and parameters: {'depth': 8, 'learning_rate': 0.0003750339527596364, 'l2_leaf_reg': 6.716737258903164, 'random_strength': 0.4194973072296843, 'max_bin': 134, 'grow_policy': 'SymmetricTree', 'iterations': 1237, 'colsample_bylevel': 0.5521671283351143, 'bootstrap_type': 'Bayesian'}. Best is trial 22 with value: 0.3629832932104595.\u001b[0m\n",
      "\u001b[32m[I 2022-02-25 11:44:00,418]\u001b[0m Trial 27 finished with value: 0.190968810771354 and parameters: {'depth': 7, 'learning_rate': 0.005342244400780041, 'l2_leaf_reg': 2.635098075766596, 'random_strength': 0.34136465719242404, 'max_bin': 87, 'grow_policy': 'Depthwise', 'iterations': 1862, 'colsample_bylevel': 0.6798034239626548, 'bootstrap_type': 'Bayesian'}. Best is trial 22 with value: 0.3629832932104595.\u001b[0m\n",
      "\u001b[32m[I 2022-02-25 11:44:48,810]\u001b[0m Trial 28 finished with value: 0.2607993062262129 and parameters: {'depth': 6, 'learning_rate': 0.000686005525438651, 'l2_leaf_reg': 0.11963806121989153, 'random_strength': 0.27237254583464043, 'max_bin': 158, 'grow_policy': 'Depthwise', 'iterations': 1120, 'colsample_bylevel': 0.5964159394159377, 'bootstrap_type': 'Bernoulli'}. Best is trial 22 with value: 0.3629832932104595.\u001b[0m\n",
      "\u001b[32m[I 2022-02-25 11:45:10,723]\u001b[0m Trial 29 finished with value: 0.18827276936504866 and parameters: {'depth': 4, 'learning_rate': 0.05875112600135873, 'l2_leaf_reg': 0.7451875235580881, 'random_strength': 0.40187000458250655, 'max_bin': 110, 'grow_policy': 'SymmetricTree', 'iterations': 1013, 'colsample_bylevel': 0.6575497539098938, 'bootstrap_type': 'MVS'}. Best is trial 22 with value: 0.3629832932104595.\u001b[0m\n",
      "\u001b[32m[I 2022-02-25 11:46:03,079]\u001b[0m Trial 30 finished with value: 0.2858624146405115 and parameters: {'depth': 5, 'learning_rate': 0.0003597160051720171, 'l2_leaf_reg': 0.025395988172074203, 'random_strength': 0.47185454510129765, 'max_bin': 126, 'grow_policy': 'Depthwise', 'iterations': 1760, 'colsample_bylevel': 0.49763132413096534, 'bootstrap_type': 'Bernoulli'}. Best is trial 22 with value: 0.3629832932104595.\u001b[0m\n",
      "\u001b[32m[I 2022-02-25 11:47:23,557]\u001b[0m Trial 31 finished with value: 0.3454091502328647 and parameters: {'depth': 6, 'learning_rate': 0.00014487945046630515, 'l2_leaf_reg': 5.1978134105789975, 'random_strength': 0.4486517716728606, 'max_bin': 110, 'grow_policy': 'Depthwise', 'iterations': 1618, 'colsample_bylevel': 0.5615633902624944, 'bootstrap_type': 'Bayesian'}. Best is trial 22 with value: 0.3629832932104595.\u001b[0m\n",
      "\u001b[32m[I 2022-02-25 11:49:14,160]\u001b[0m Trial 32 finished with value: 0.3573164831782525 and parameters: {'depth': 7, 'learning_rate': 0.00010086770109684026, 'l2_leaf_reg': 2.190161634227135, 'random_strength': 0.3605213881639877, 'max_bin': 76, 'grow_policy': 'Depthwise', 'iterations': 1716, 'colsample_bylevel': 0.5949646986538696, 'bootstrap_type': 'Bayesian'}. Best is trial 22 with value: 0.3629832932104595.\u001b[0m\n",
      "\u001b[32m[I 2022-02-25 11:50:52,341]\u001b[0m Trial 33 finished with value: 0.36268818871904135 and parameters: {'depth': 7, 'learning_rate': 0.00010116672736857614, 'l2_leaf_reg': 1.977596933902107, 'random_strength': 0.36790733606065723, 'max_bin': 73, 'grow_policy': 'Depthwise', 'iterations': 1511, 'colsample_bylevel': 0.6105152168968565, 'bootstrap_type': 'Bayesian'}. Best is trial 22 with value: 0.3629832932104595.\u001b[0m\n",
      "\u001b[32m[I 2022-02-25 11:51:51,293]\u001b[0m Trial 34 finished with value: 0.30537841235659346 and parameters: {'depth': 7, 'learning_rate': 0.0002911118347187243, 'l2_leaf_reg': 6.323424900349546, 'random_strength': 0.39390747221628697, 'max_bin': 94, 'grow_policy': 'SymmetricTree', 'iterations': 1503, 'colsample_bylevel': 0.6160171289732167, 'bootstrap_type': 'Bayesian'}. Best is trial 22 with value: 0.3629832932104595.\u001b[0m\n",
      "\u001b[32m[I 2022-02-25 11:53:31,332]\u001b[0m Trial 35 finished with value: 0.33903374212884985 and parameters: {'depth': 8, 'learning_rate': 0.00016957983472998421, 'l2_leaf_reg': 0.389129047288447, 'random_strength': 0.4955960275408089, 'max_bin': 74, 'grow_policy': 'Depthwise', 'iterations': 1409, 'colsample_bylevel': 0.6513776230659205, 'bootstrap_type': 'Bernoulli'}. Best is trial 22 with value: 0.3629832932104595.\u001b[0m\n",
      "\u001b[32m[I 2022-02-25 11:54:39,537]\u001b[0m Trial 36 finished with value: 0.33395342789507565 and parameters: {'depth': 6, 'learning_rate': 0.00018915395567734044, 'l2_leaf_reg': 1.157071100629139, 'random_strength': 0.08969211832208057, 'max_bin': 85, 'grow_policy': 'Depthwise', 'iterations': 1516, 'colsample_bylevel': 0.4726026093691815, 'bootstrap_type': 'Bayesian'}. Best is trial 22 with value: 0.3629832932104595.\u001b[0m\n",
      "\u001b[32m[I 2022-02-25 11:55:39,186]\u001b[0m Trial 37 finished with value: 0.1929296254462987 and parameters: {'depth': 7, 'learning_rate': 0.0073296966280888085, 'l2_leaf_reg': 3.116027495412848, 'random_strength': 0.36377650922430504, 'max_bin': 101, 'grow_policy': 'SymmetricTree', 'iterations': 1452, 'colsample_bylevel': 0.6078253889822752, 'bootstrap_type': 'Bayesian'}. Best is trial 22 with value: 0.3629832932104595.\u001b[0m\n",
      "\u001b[32m[I 2022-02-25 11:56:30,414]\u001b[0m Trial 38 finished with value: 0.18626358161133233 and parameters: {'depth': 6, 'learning_rate': 0.026320331418484912, 'l2_leaf_reg': 1.859829174252482, 'random_strength': 0.3073348986064859, 'max_bin': 245, 'grow_policy': 'Depthwise', 'iterations': 1277, 'colsample_bylevel': 0.5626596148257369, 'bootstrap_type': 'Bernoulli'}. Best is trial 22 with value: 0.3629832932104595.\u001b[0m\n",
      "\u001b[32m[I 2022-02-25 11:57:12,523]\u001b[0m Trial 39 finished with value: 0.32045786139774085 and parameters: {'depth': 5, 'learning_rate': 0.00029949232465150484, 'l2_leaf_reg': 0.4019250119908264, 'random_strength': 0.2400082287722966, 'max_bin': 197, 'grow_policy': 'Depthwise', 'iterations': 1384, 'colsample_bylevel': 0.3853324430624335, 'bootstrap_type': 'MVS'}. Best is trial 22 with value: 0.3629832932104595.\u001b[0m\n",
      "\u001b[32m[I 2022-02-25 12:00:00,210]\u001b[0m Trial 40 finished with value: 0.33983986888962914 and parameters: {'depth': 10, 'learning_rate': 0.00017120204182116336, 'l2_leaf_reg': 0.1488928599062319, 'random_strength': 0.4076887805136685, 'max_bin': 65, 'grow_policy': 'Depthwise', 'iterations': 1324, 'colsample_bylevel': 0.5249607073711529, 'bootstrap_type': 'Bayesian'}. Best is trial 22 with value: 0.3629832932104595.\u001b[0m\n",
      "\u001b[32m[I 2022-02-25 12:01:41,004]\u001b[0m Trial 41 finished with value: 0.3622296168232757 and parameters: {'depth': 7, 'learning_rate': 0.00010089115419593752, 'l2_leaf_reg': 2.1317621127611988, 'random_strength': 0.3577242917885861, 'max_bin': 80, 'grow_policy': 'Depthwise', 'iterations': 1536, 'colsample_bylevel': 0.6027345020413757, 'bootstrap_type': 'Bayesian'}. Best is trial 22 with value: 0.3629832932104595.\u001b[0m\n",
      "\u001b[32m[I 2022-02-25 12:03:55,063]\u001b[0m Trial 42 finished with value: 0.34469734124974455 and parameters: {'depth': 8, 'learning_rate': 0.00013922637649655664, 'l2_leaf_reg': 1.6884286737515892, 'random_strength': 0.35323052888530804, 'max_bin': 88, 'grow_policy': 'Depthwise', 'iterations': 1539, 'colsample_bylevel': 0.6318601192483321, 'bootstrap_type': 'Bayesian'}. Best is trial 22 with value: 0.3629832932104595.\u001b[0m\n",
      "\u001b[32m[I 2022-02-25 12:05:35,609]\u001b[0m Trial 43 finished with value: 0.3600439372831263 and parameters: {'depth': 7, 'learning_rate': 0.00010129577435984918, 'l2_leaf_reg': 0.9363606842371794, 'random_strength': 0.4443176559965863, 'max_bin': 76, 'grow_policy': 'Depthwise', 'iterations': 1629, 'colsample_bylevel': 0.5462287791152128, 'bootstrap_type': 'Bayesian'}. Best is trial 22 with value: 0.3629832932104595.\u001b[0m\n",
      "\u001b[32m[I 2022-02-25 12:08:34,896]\u001b[0m Trial 44 finished with value: 0.19785169057947674 and parameters: {'depth': 9, 'learning_rate': 0.0014413051339646622, 'l2_leaf_reg': 0.62369487010215, 'random_strength': 0.38710627856863006, 'max_bin': 74, 'grow_policy': 'Depthwise', 'iterations': 1638, 'colsample_bylevel': 0.6046476577742839, 'bootstrap_type': 'Bayesian'}. Best is trial 22 with value: 0.3629832932104595.\u001b[0m\n",
      "\u001b[32m[I 2022-02-25 12:10:04,274]\u001b[0m Trial 45 finished with value: 0.31757611046890766 and parameters: {'depth': 7, 'learning_rate': 0.00023783825893128313, 'l2_leaf_reg': 0.8175143511890921, 'random_strength': 0.44026872798448574, 'max_bin': 79, 'grow_policy': 'Depthwise', 'iterations': 1459, 'colsample_bylevel': 0.5451530465116384, 'bootstrap_type': 'Bayesian'}. Best is trial 22 with value: 0.3629832932104595.\u001b[0m\n",
      "\u001b[32m[I 2022-02-25 12:11:18,890]\u001b[0m Trial 46 finished with value: 0.3471731862055535 and parameters: {'depth': 6, 'learning_rate': 0.00014154483350368432, 'l2_leaf_reg': 1.4483831397520284, 'random_strength': 0.32831855241764185, 'max_bin': 91, 'grow_policy': 'Depthwise', 'iterations': 1613, 'colsample_bylevel': 0.49513068994632864, 'bootstrap_type': 'Bayesian'}. Best is trial 22 with value: 0.3629832932104595.\u001b[0m\n",
      "\u001b[32m[I 2022-02-25 12:12:31,207]\u001b[0m Trial 47 finished with value: 0.1962465836527142 and parameters: {'depth': 7, 'learning_rate': 0.002755375586160383, 'l2_leaf_reg': 0.9208399434497346, 'random_strength': 0.47302187853800143, 'max_bin': 68, 'grow_policy': 'Depthwise', 'iterations': 1320, 'colsample_bylevel': 0.5284302501250826, 'bootstrap_type': 'MVS'}. Best is trial 22 with value: 0.3629832932104595.\u001b[0m\n",
      "\u001b[32m[I 2022-02-25 12:14:22,378]\u001b[0m Trial 48 finished with value: 0.2501473755551288 and parameters: {'depth': 8, 'learning_rate': 0.0005378714007005156, 'l2_leaf_reg': 0.27161965740635746, 'random_strength': 0.38356524606108966, 'max_bin': 79, 'grow_policy': 'Depthwise', 'iterations': 1584, 'colsample_bylevel': 0.44131948264395804, 'bootstrap_type': 'Bayesian'}. Best is trial 22 with value: 0.3629832932104595.\u001b[0m\n",
      "\u001b[32m[I 2022-02-25 12:15:11,250]\u001b[0m Trial 49 finished with value: 0.3658271156460921 and parameters: {'depth': 6, 'learning_rate': 0.00010154786308385304, 'l2_leaf_reg': 0.5002057789769401, 'random_strength': 0.29561202446029694, 'max_bin': 102, 'grow_policy': 'SymmetricTree', 'iterations': 1524, 'colsample_bylevel': 0.6548083438585686, 'bootstrap_type': 'Bayesian'}. Best is trial 49 with value: 0.3658271156460921.\u001b[0m\n",
      "\u001b[32m[I 2022-02-25 12:15:51,092]\u001b[0m Trial 50 finished with value: 0.3066832803229411 and parameters: {'depth': 6, 'learning_rate': 0.0003056803792313553, 'l2_leaf_reg': 0.49224334058239105, 'random_strength': 0.31495559052239636, 'max_bin': 102, 'grow_policy': 'SymmetricTree', 'iterations': 1432, 'colsample_bylevel': 0.6561550071131175, 'bootstrap_type': 'Bernoulli'}. Best is trial 49 with value: 0.3658271156460921.\u001b[0m\n",
      "\u001b[32m[I 2022-02-25 12:16:40,500]\u001b[0m Trial 51 finished with value: 0.36336742698922353 and parameters: {'depth': 6, 'learning_rate': 0.00010765047579609034, 'l2_leaf_reg': 2.337579937457489, 'random_strength': 0.27497716539980943, 'max_bin': 91, 'grow_policy': 'SymmetricTree', 'iterations': 1519, 'colsample_bylevel': 0.6811367670301762, 'bootstrap_type': 'Bayesian'}. Best is trial 49 with value: 0.3658271156460921.\u001b[0m\n",
      "\u001b[32m[I 2022-02-25 12:17:20,384]\u001b[0m Trial 52 finished with value: 0.35484667251401647 and parameters: {'depth': 5, 'learning_rate': 0.00013820377348105144, 'l2_leaf_reg': 2.1922959106788658, 'random_strength': 0.2905791633468613, 'max_bin': 91, 'grow_policy': 'SymmetricTree', 'iterations': 1524, 'colsample_bylevel': 0.6880655071384019, 'bootstrap_type': 'Bayesian'}. Best is trial 49 with value: 0.3658271156460921.\u001b[0m\n",
      "\u001b[32m[I 2022-02-25 12:18:07,969]\u001b[0m Trial 53 finished with value: 0.3358958804479156 and parameters: {'depth': 6, 'learning_rate': 0.00019267014413868128, 'l2_leaf_reg': 4.544911815720939, 'random_strength': 0.2627634747778359, 'max_bin': 115, 'grow_policy': 'SymmetricTree', 'iterations': 1480, 'colsample_bylevel': 0.6665174129075552, 'bootstrap_type': 'Bayesian'}. Best is trial 49 with value: 0.3658271156460921.\u001b[0m\n",
      "\u001b[32m[I 2022-02-25 12:18:58,180]\u001b[0m Trial 54 finished with value: 0.3428002938164784 and parameters: {'depth': 6, 'learning_rate': 0.00016179059150781667, 'l2_leaf_reg': 0.20056574653672954, 'random_strength': 0.2204478014288531, 'max_bin': 106, 'grow_policy': 'SymmetricTree', 'iterations': 1552, 'colsample_bylevel': 0.6468866877209464, 'bootstrap_type': 'Bayesian'}. Best is trial 49 with value: 0.3658271156460921.\u001b[0m\n",
      "\u001b[32m[I 2022-02-25 12:19:33,641]\u001b[0m Trial 55 finished with value: 0.3637362226810863 and parameters: {'depth': 5, 'learning_rate': 0.0001242668788187762, 'l2_leaf_reg': 0.022825408983547808, 'random_strength': 0.3451009458743286, 'max_bin': 94, 'grow_policy': 'SymmetricTree', 'iterations': 1406, 'colsample_bylevel': 0.6243737810131907, 'bootstrap_type': 'Bayesian'}. Best is trial 49 with value: 0.3658271156460921.\u001b[0m\n",
      "\u001b[32m[I 2022-02-25 12:19:55,429]\u001b[0m Trial 56 finished with value: 0.35633872607242195 and parameters: {'depth': 4, 'learning_rate': 0.00021009475351644615, 'l2_leaf_reg': 0.03829347948359241, 'random_strength': 0.2810541002176976, 'max_bin': 96, 'grow_policy': 'SymmetricTree', 'iterations': 1072, 'colsample_bylevel': 0.6791214986449765, 'bootstrap_type': 'Bayesian'}. Best is trial 49 with value: 0.3658271156460921.\u001b[0m\n",
      "\u001b[32m[I 2022-02-25 12:20:33,069]\u001b[0m Trial 57 finished with value: 0.3616349823310371 and parameters: {'depth': 5, 'learning_rate': 0.00012825824574886523, 'l2_leaf_reg': 0.02566116806350079, 'random_strength': 0.3060409962382163, 'max_bin': 173, 'grow_policy': 'SymmetricTree', 'iterations': 1408, 'colsample_bylevel': 0.6952256592008342, 'bootstrap_type': 'Bayesian'}. Best is trial 49 with value: 0.3658271156460921.\u001b[0m\n",
      "\u001b[32m[I 2022-02-25 12:21:02,084]\u001b[0m Trial 58 finished with value: 0.33453732921922547 and parameters: {'depth': 5, 'learning_rate': 0.00027725613517446925, 'l2_leaf_reg': 0.05376404000402027, 'random_strength': 0.2515004623328335, 'max_bin': 136, 'grow_policy': 'SymmetricTree', 'iterations': 1131, 'colsample_bylevel': 0.6269870823573193, 'bootstrap_type': 'Bayesian'}. Best is trial 49 with value: 0.3658271156460921.\u001b[0m\n",
      "\u001b[32m[I 2022-02-25 12:21:51,997]\u001b[0m Trial 59 finished with value: 0.2596303367775086 and parameters: {'depth': 5, 'learning_rate': 0.00047720208939106077, 'l2_leaf_reg': 0.017819804650131263, 'random_strength': 0.22538191910904026, 'max_bin': 115, 'grow_policy': 'SymmetricTree', 'iterations': 2000, 'colsample_bylevel': 0.6662390997876683, 'bootstrap_type': 'MVS'}. Best is trial 49 with value: 0.3658271156460921.\u001b[0m\n",
      "\u001b[32m[I 2022-02-25 12:22:22,132]\u001b[0m Trial 60 finished with value: 0.2626969697954892 and parameters: {'depth': 4, 'learning_rate': 0.0006986625422276232, 'l2_leaf_reg': 0.08242647460118512, 'random_strength': 0.19328894330080118, 'max_bin': 122, 'grow_policy': 'SymmetricTree', 'iterations': 1497, 'colsample_bylevel': 0.6369142170383354, 'bootstrap_type': 'Bayesian'}. Best is trial 49 with value: 0.3658271156460921.\u001b[0m\n",
      "\u001b[32m[I 2022-02-25 12:23:10,849]\u001b[0m Trial 61 finished with value: 0.3579887918267888 and parameters: {'depth': 6, 'learning_rate': 0.00012117843850058966, 'l2_leaf_reg': 3.305941801877725, 'random_strength': 0.34486480824405974, 'max_bin': 71, 'grow_policy': 'SymmetricTree', 'iterations': 1576, 'colsample_bylevel': 0.591988125093715, 'bootstrap_type': 'Bayesian'}. Best is trial 49 with value: 0.3658271156460921.\u001b[0m\n",
      "\u001b[32m[I 2022-02-25 12:24:15,547]\u001b[0m Trial 62 finished with value: 0.356437781336341 and parameters: {'depth': 7, 'learning_rate': 0.00011224236874808102, 'l2_leaf_reg': 0.010631632871616932, 'random_strength': 0.3344230604205678, 'max_bin': 84, 'grow_policy': 'SymmetricTree', 'iterations': 1660, 'colsample_bylevel': 0.6137600550060176, 'bootstrap_type': 'Bayesian'}. Best is trial 49 with value: 0.3658271156460921.\u001b[0m\n",
      "\u001b[32m[I 2022-02-25 12:25:03,755]\u001b[0m Trial 63 finished with value: 0.32399130599670856 and parameters: {'depth': 6, 'learning_rate': 0.00022482950612035357, 'l2_leaf_reg': 0.01594094444320206, 'random_strength': 0.29742276555285607, 'max_bin': 96, 'grow_policy': 'SymmetricTree', 'iterations': 1539, 'colsample_bylevel': 0.6238022529675794, 'bootstrap_type': 'Bayesian'}. Best is trial 49 with value: 0.3658271156460921.\u001b[0m\n",
      "\u001b[32m[I 2022-02-25 12:25:49,743]\u001b[0m Trial 64 finished with value: 0.3682998753461039 and parameters: {'depth': 6, 'learning_rate': 0.0001021124699335417, 'l2_leaf_reg': 2.131117221008179, 'random_strength': 0.37564433503395767, 'max_bin': 83, 'grow_policy': 'SymmetricTree', 'iterations': 1437, 'colsample_bylevel': 0.6455444258107932, 'bootstrap_type': 'Bayesian'}. Best is trial 64 with value: 0.3682998753461039.\u001b[0m\n",
      "\u001b[32m[I 2022-02-25 12:26:35,345]\u001b[0m Trial 65 finished with value: 0.3504637253671745 and parameters: {'depth': 6, 'learning_rate': 0.00015276020019474172, 'l2_leaf_reg': 1.3424054951018578, 'random_strength': 0.3778180353041353, 'max_bin': 104, 'grow_policy': 'SymmetricTree', 'iterations': 1434, 'colsample_bylevel': 0.640884739963344, 'bootstrap_type': 'Bayesian'}. Best is trial 64 with value: 0.3682998753461039.\u001b[0m\n",
      "\u001b[32m[I 2022-02-25 12:27:09,751]\u001b[0m Trial 66 finished with value: 0.3027484732306442 and parameters: {'depth': 5, 'learning_rate': 0.0003812255701070376, 'l2_leaf_reg': 0.03590555151257775, 'random_strength': 0.4074271146644537, 'max_bin': 88, 'grow_policy': 'SymmetricTree', 'iterations': 1328, 'colsample_bylevel': 0.675028283626237, 'bootstrap_type': 'Bayesian'}. Best is trial 64 with value: 0.3682998753461039.\u001b[0m\n",
      "\u001b[32m[I 2022-02-25 12:27:47,929]\u001b[0m Trial 67 finished with value: 0.36167770545708716 and parameters: {'depth': 5, 'learning_rate': 0.00012515337388757262, 'l2_leaf_reg': 5.740733941462163, 'random_strength': 0.4295229823674503, 'max_bin': 223, 'grow_policy': 'SymmetricTree', 'iterations': 1472, 'colsample_bylevel': 0.6551659803219338, 'bootstrap_type': 'Bayesian'}. Best is trial 64 with value: 0.3682998753461039.\u001b[0m\n",
      "\u001b[32m[I 2022-02-25 12:28:32,684]\u001b[0m Trial 68 finished with value: 0.3390354136613873 and parameters: {'depth': 6, 'learning_rate': 0.00020143878236381083, 'l2_leaf_reg': 8.600150383979031, 'random_strength': 0.2678597520969918, 'max_bin': 109, 'grow_policy': 'SymmetricTree', 'iterations': 1349, 'colsample_bylevel': 0.6872308632121045, 'bootstrap_type': 'Bayesian'}. Best is trial 64 with value: 0.3682998753461039.\u001b[0m\n",
      "\u001b[32m[I 2022-02-25 12:29:11,904]\u001b[0m Trial 69 finished with value: 0.21038191894375857 and parameters: {'depth': 6, 'learning_rate': 0.0020422322633044353, 'l2_leaf_reg': 2.6929437560500955, 'random_strength': 0.46323785452358013, 'max_bin': 150, 'grow_policy': 'SymmetricTree', 'iterations': 1270, 'colsample_bylevel': 0.5818976565857561, 'bootstrap_type': 'Bayesian'}. Best is trial 64 with value: 0.3682998753461039.\u001b[0m\n"
     ]
    },
    {
     "name": "stdout",
     "output_type": "stream",
     "text": [
      "Number of finished trials: 70\n"
     ]
    }
   ],
   "source": [
    "catb_optimizer = catboost_optimization(X=x_train,\n",
    "                                   y=y_train,\n",
    "                                   )\n",
    "\n",
    "\n",
    "best_params = catb_optimizer.get_best_params(n_trials = 70,\n",
    "                                            time_out=9000,\n",
    "                                            direction= 'maximize')  # run hyperparam optimization"
   ]
  },
  {
   "cell_type": "code",
   "execution_count": 24,
   "id": "b27bd232",
   "metadata": {
    "execution": {
     "iopub.execute_input": "2022-02-25T12:29:12.171632Z",
     "iopub.status.busy": "2022-02-25T12:29:12.170684Z",
     "iopub.status.idle": "2022-02-25T12:29:12.174123Z",
     "shell.execute_reply": "2022-02-25T12:29:12.174661Z",
     "shell.execute_reply.started": "2022-02-25T10:30:34.994893Z"
    },
    "papermill": {
     "duration": 0.098121,
     "end_time": "2022-02-25T12:29:12.174841",
     "exception": false,
     "start_time": "2022-02-25T12:29:12.076720",
     "status": "completed"
    },
    "tags": []
   },
   "outputs": [
    {
     "data": {
      "text/plain": [
       "{'depth': 6,\n",
       " 'learning_rate': 0.0001021124699335417,\n",
       " 'l2_leaf_reg': 2.131117221008179,\n",
       " 'random_strength': 0.37564433503395767,\n",
       " 'max_bin': 83,\n",
       " 'grow_policy': 'SymmetricTree',\n",
       " 'iterations': 2500,\n",
       " 'colsample_bylevel': 0.6455444258107932,\n",
       " 'bootstrap_type': 'Bayesian',\n",
       " 'verbose': 0}"
      ]
     },
     "execution_count": 24,
     "metadata": {},
     "output_type": "execute_result"
    }
   ],
   "source": [
    "best_params.update({'iterations':2500,\n",
    "                    'verbose':0})\n",
    "\n",
    "cfg.best_params = best_params\n",
    "\n",
    "best_params"
   ]
  },
  {
   "cell_type": "markdown",
   "id": "03191b32",
   "metadata": {
    "papermill": {
     "duration": 0.081584,
     "end_time": "2022-02-25T12:29:12.338250",
     "exception": false,
     "start_time": "2022-02-25T12:29:12.256666",
     "status": "completed"
    },
    "tags": []
   },
   "source": [
    "# Model fitting and prediction "
   ]
  },
  {
   "cell_type": "code",
   "execution_count": 25,
   "id": "1bb1fb70",
   "metadata": {
    "_kg_hide-input": true,
    "execution": {
     "iopub.execute_input": "2022-02-25T12:29:12.524659Z",
     "iopub.status.busy": "2022-02-25T12:29:12.523822Z",
     "iopub.status.idle": "2022-02-25T12:29:12.526662Z",
     "shell.execute_reply": "2022-02-25T12:29:12.527325Z",
     "shell.execute_reply.started": "2022-02-25T10:30:39.385079Z"
    },
    "papermill": {
     "duration": 0.106965,
     "end_time": "2022-02-25T12:29:12.527502",
     "exception": false,
     "start_time": "2022-02-25T12:29:12.420537",
     "status": "completed"
    },
    "tags": []
   },
   "outputs": [],
   "source": [
    "class my_estimator:\n",
    "    def __init__(self,\n",
    "                 estimator):\n",
    "        self.estimator_obj = estimator\n",
    "        self.estimator_list = []\n",
    "        \n",
    "    def fit(self,\n",
    "            X,\n",
    "            y,\n",
    "            params= {},\n",
    "            categorical=None):\n",
    "        \n",
    "        '''fit X,y to the data'''\n",
    "        \n",
    "        self.params= params\n",
    "        self.estimator = self.estimator_obj(**self.params)\n",
    "        \n",
    "        if categorical:\n",
    "            self.estimator.fit(X,y,\n",
    "                               cat_features = categorical)\n",
    "        else:\n",
    "            self.estimator.fit(X,y)\n",
    "            \n",
    "        return None\n",
    "            \n",
    "    def predict(self,X_test):\n",
    "        '''predict using estimator'''\n",
    "        \n",
    "        if not self.estimator:\n",
    "            print(\"Fit the model using 'model.fit(X,y)' first!\")\n",
    "            \n",
    "        return self.estimator.predict(X_test)\n",
    "    \n",
    "    def fit_in_folds(self,\n",
    "                     X,\n",
    "                     y,\n",
    "                     categorical=None,\n",
    "                     params={},\n",
    "                     eval_metric = mean_squared_error,\n",
    "                     cv=KFold(n_splits=10)):\n",
    "        '''fit multiple models using k-fold cross validation strategy'''\n",
    "        \n",
    "        self.params = params\n",
    "           \n",
    "\n",
    "        for train_idx,val_idx in cv.split(X,y):\n",
    "\n",
    "            x_t,x_v=X.iloc[train_idx],X.iloc[val_idx]\n",
    "            y_t,y_v=y.iloc[train_idx],y.iloc[val_idx]\n",
    "\n",
    "            self.estimator=self.estimator_obj(**self.params)    \n",
    "\n",
    "\n",
    "            if categorical:\n",
    "                self.estimator.fit(x_t,y_t,\n",
    "                                   cat_features = categorical)\n",
    "            else:\n",
    "                self.estimator.fit(x_t,y_t)\n",
    "\n",
    "            n = 0 \n",
    "            print('Validation score for fold {} is {}'.format(n,eval_metric(y_v,\n",
    "                                                                           self.estimator.predict(x_v)\n",
    "                                                                          )\n",
    "                                                              )\n",
    "                 )\n",
    "            \n",
    "            print(f'fitted on {n+1} folds')\n",
    "            \n",
    "            \n",
    "            n+=1\n",
    "\n",
    "            self.estimator_list.append(self.estimator) # store fitted models\n",
    "\n",
    "            \n",
    "\n",
    "        return None\n",
    "\n",
    "    def predict_in_folds(self,\n",
    "                         X_test):\n",
    "        \n",
    "        if len(self.estimator_list) <1:\n",
    "            print(\"Fit the data on multiple folds by calling 'model.fit_in_folds(X,y)' \")\n",
    "        else:\n",
    "            predictions_list = []\n",
    "            for model in self.estimator_list:\n",
    "                pred = model.predict(X_test)\n",
    "                \n",
    "                predictions_list.append(pred)\n",
    "                \n",
    "            predictions = np.array(predictions_list).T  # (n,m) dim array, where n is number of examples and m is number of models\n",
    "        \n",
    "        \n",
    "        return predictions\n",
    "            \n",
    "    def aggregate_predictions(self,\n",
    "                              predictions,\n",
    "                              agg='mean'):\n",
    "        '''aggregate predictions'''\n",
    "        \n",
    "        \n",
    "        if agg == 'mean':\n",
    "            return predictions.mean(axis=1)\n",
    "        elif agg == 'median':\n",
    "            return np.median(a= predictions,\n",
    "                             axis=1)\n",
    "                   \n",
    "        else:\n",
    "            print(\"assign 'agg' to either of ['mean','median']\")\n",
    "            \n",
    "            return None\n",
    "            "
   ]
  },
  {
   "cell_type": "markdown",
   "id": "a797eb7e",
   "metadata": {
    "papermill": {
     "duration": 0.081866,
     "end_time": "2022-02-25T12:29:12.691710",
     "exception": false,
     "start_time": "2022-02-25T12:29:12.609844",
     "status": "completed"
    },
    "tags": []
   },
   "source": [
    "**Fitting model**"
   ]
  },
  {
   "cell_type": "code",
   "execution_count": 26,
   "id": "f59f0177",
   "metadata": {
    "execution": {
     "iopub.execute_input": "2022-02-25T12:29:12.865991Z",
     "iopub.status.busy": "2022-02-25T12:29:12.865247Z",
     "iopub.status.idle": "2022-02-25T12:38:22.875358Z",
     "shell.execute_reply": "2022-02-25T12:38:22.875959Z",
     "shell.execute_reply.started": "2022-02-25T10:31:05.107918Z"
    },
    "papermill": {
     "duration": 550.101144,
     "end_time": "2022-02-25T12:38:22.876176",
     "exception": false,
     "start_time": "2022-02-25T12:29:12.775032",
     "status": "completed"
    },
    "tags": []
   },
   "outputs": [
    {
     "name": "stdout",
     "output_type": "stream",
     "text": [
      "Validation score for fold 0 is 0.33821583771571384\n",
      "fitted on 1 folds\n",
      "Validation score for fold 0 is 0.3511182000977414\n",
      "fitted on 1 folds\n",
      "Validation score for fold 0 is 0.3529750988001731\n",
      "fitted on 1 folds\n",
      "Validation score for fold 0 is 0.36167933798655927\n",
      "fitted on 1 folds\n",
      "Validation score for fold 0 is 0.3386383750479357\n",
      "fitted on 1 folds\n",
      "Validation score for fold 0 is 0.35210389884490695\n",
      "fitted on 1 folds\n",
      "Validation score for fold 0 is 0.352254424245371\n",
      "fitted on 1 folds\n",
      "CPU times: user 33min 42s, sys: 1min 12s, total: 34min 55s\n",
      "Wall time: 9min 9s\n"
     ]
    }
   ],
   "source": [
    "%%time\n",
    "\n",
    "estimator = my_estimator(estimator=CatBoostRegressor)\n",
    "\n",
    "\n",
    "estimator.fit_in_folds(X = x_train,y = y_train,\n",
    "                      categorical=cfg.categorical,\n",
    "                      params=cfg.best_params,\n",
    "                      eval_metric = mean_squared_error,\n",
    "                      cv=KFold(n_splits=7))\n"
   ]
  },
  {
   "cell_type": "code",
   "execution_count": 27,
   "id": "53c8b588",
   "metadata": {
    "_kg_hide-input": true,
    "execution": {
     "iopub.execute_input": "2022-02-25T12:38:23.058036Z",
     "iopub.status.busy": "2022-02-25T12:38:23.050458Z",
     "iopub.status.idle": "2022-02-25T12:38:23.244215Z",
     "shell.execute_reply": "2022-02-25T12:38:23.243472Z",
     "shell.execute_reply.started": "2022-02-25T10:32:55.365231Z"
    },
    "papermill": {
     "duration": 0.283584,
     "end_time": "2022-02-25T12:38:23.244376",
     "exception": false,
     "start_time": "2022-02-25T12:38:22.960792",
     "status": "completed"
    },
    "tags": []
   },
   "outputs": [
    {
     "name": "stdout",
     "output_type": "stream",
     "text": [
      "R2 score of mean value pred on test set is 0.16435435578823987\n",
      "R2 score of median value pred on test set is 0.164333936825669\n"
     ]
    }
   ],
   "source": [
    "# prediction on validation data\n",
    "predictions_val = estimator.predict_in_folds(X_test = x_val)\n",
    "\n",
    "\n",
    "#get mean value of predictions\n",
    "mean_pred_val = estimator.aggregate_predictions(predictions = predictions_val,\n",
    "                                                agg='mean')\n",
    "print(f'R2 score of mean value pred on test set is {r2_score(y_val,mean_pred_val)}')\n",
    "\n",
    "#get median value of predictions\n",
    "med_pred_val = estimator.aggregate_predictions(predictions = predictions_val,\n",
    "                                                agg='median')\n",
    "print(f'R2 score of median value pred on test set is {r2_score(y_val,med_pred_val)}')"
   ]
  },
  {
   "cell_type": "markdown",
   "id": "5340e30c",
   "metadata": {
    "papermill": {
     "duration": 0.086018,
     "end_time": "2022-02-25T12:38:23.419023",
     "exception": false,
     "start_time": "2022-02-25T12:38:23.333005",
     "status": "completed"
    },
    "tags": []
   },
   "source": [
    "# Predictions on test set "
   ]
  },
  {
   "cell_type": "code",
   "execution_count": 28,
   "id": "81475e82",
   "metadata": {
    "execution": {
     "iopub.execute_input": "2022-02-25T12:38:23.593627Z",
     "iopub.status.busy": "2022-02-25T12:38:23.592825Z",
     "iopub.status.idle": "2022-02-25T12:38:23.813405Z",
     "shell.execute_reply": "2022-02-25T12:38:23.812124Z",
     "shell.execute_reply.started": "2022-02-25T10:33:12.853448Z"
    },
    "papermill": {
     "duration": 0.308901,
     "end_time": "2022-02-25T12:38:23.813573",
     "exception": false,
     "start_time": "2022-02-25T12:38:23.504672",
     "status": "completed"
    },
    "tags": []
   },
   "outputs": [],
   "source": [
    "test_pred = estimator.predict_in_folds(X_test = test)\n",
    "\n",
    "mean_test = estimator.aggregate_predictions(predictions = test_pred,\n",
    "                                                agg='mean')\n",
    "\n",
    "med_test = estimator.aggregate_predictions(predictions = test_pred,\n",
    "                                                agg='median')"
   ]
  },
  {
   "cell_type": "code",
   "execution_count": 29,
   "id": "1519cd35",
   "metadata": {
    "execution": {
     "iopub.execute_input": "2022-02-25T12:38:23.998542Z",
     "iopub.status.busy": "2022-02-25T12:38:23.997825Z",
     "iopub.status.idle": "2022-02-25T12:38:24.000767Z",
     "shell.execute_reply": "2022-02-25T12:38:24.001456Z",
     "shell.execute_reply.started": "2022-02-25T10:33:31.556720Z"
    },
    "papermill": {
     "duration": 0.094917,
     "end_time": "2022-02-25T12:38:24.001635",
     "exception": false,
     "start_time": "2022-02-25T12:38:23.906718",
     "status": "completed"
    },
    "tags": []
   },
   "outputs": [],
   "source": [
    "#inv transforming target (inverse of log1p transforms)\n",
    "\n",
    "test_mean_pred = inverse_transform_target(mean_test)\n",
    "test_med_pred = inverse_transform_target(med_test)"
   ]
  },
  {
   "cell_type": "markdown",
   "id": "f5395e28",
   "metadata": {
    "papermill": {
     "duration": 0.084094,
     "end_time": "2022-02-25T12:38:24.171363",
     "exception": false,
     "start_time": "2022-02-25T12:38:24.087269",
     "status": "completed"
    },
    "tags": []
   },
   "source": [
    "# Submissions"
   ]
  },
  {
   "cell_type": "code",
   "execution_count": 30,
   "id": "c1fbc9b4",
   "metadata": {
    "execution": {
     "iopub.execute_input": "2022-02-25T12:38:24.345632Z",
     "iopub.status.busy": "2022-02-25T12:38:24.344918Z",
     "iopub.status.idle": "2022-02-25T12:38:24.400443Z",
     "shell.execute_reply": "2022-02-25T12:38:24.398760Z",
     "shell.execute_reply.started": "2022-02-25T10:35:19.561465Z"
    },
    "papermill": {
     "duration": 0.144858,
     "end_time": "2022-02-25T12:38:24.400638",
     "exception": false,
     "start_time": "2022-02-25T12:38:24.255780",
     "status": "completed"
    },
    "tags": []
   },
   "outputs": [],
   "source": [
    "sub1 = pd.DataFrame({'id':cfg.test_ids,\n",
    "                     'site_eui':test_mean_pred})\n",
    "\n",
    "\n",
    "sub1.to_csv('submission_1.csv',\n",
    "            index=False)"
   ]
  },
  {
   "cell_type": "code",
   "execution_count": 31,
   "id": "3767fd58",
   "metadata": {
    "execution": {
     "iopub.execute_input": "2022-02-25T12:38:24.584250Z",
     "iopub.status.busy": "2022-02-25T12:38:24.583512Z",
     "iopub.status.idle": "2022-02-25T12:38:25.037329Z",
     "shell.execute_reply": "2022-02-25T12:38:25.037850Z",
     "shell.execute_reply.started": "2022-02-25T10:38:14.162604Z"
    },
    "papermill": {
     "duration": 0.550426,
     "end_time": "2022-02-25T12:38:25.038039",
     "exception": false,
     "start_time": "2022-02-25T12:38:24.487613",
     "status": "completed"
    },
    "tags": []
   },
   "outputs": [
    {
     "name": "stdout",
     "output_type": "stream",
     "text": [
      " \n"
     ]
    },
    {
     "data": {
      "image/png": "[encoded data removed]",
      "text/plain": [
       "<Figure size 1152x720 with 1 Axes>"
      ]
     },
     "metadata": {
      "needs_background": "light"
     },
     "output_type": "display_data"
    }
   ],
   "source": [
    "pd.Series(sub1.site_eui.values).plot.hist(bins=100,color='g',title ='Energy Usage Distribution predicted (mean)',figsize=(16,10))\n",
    "print(' ')"
   ]
  },
  {
   "cell_type": "code",
   "execution_count": 32,
   "id": "5b087592",
   "metadata": {
    "execution": {
     "iopub.execute_input": "2022-02-25T12:38:25.220986Z",
     "iopub.status.busy": "2022-02-25T12:38:25.220033Z",
     "iopub.status.idle": "2022-02-25T12:38:25.259241Z",
     "shell.execute_reply": "2022-02-25T12:38:25.258608Z",
     "shell.execute_reply.started": "2022-02-25T10:36:37.415390Z"
    },
    "papermill": {
     "duration": 0.135106,
     "end_time": "2022-02-25T12:38:25.259424",
     "exception": false,
     "start_time": "2022-02-25T12:38:25.124318",
     "status": "completed"
    },
    "tags": []
   },
   "outputs": [],
   "source": [
    "sub2 = pd.DataFrame({'id':cfg.test_ids,\n",
    "                     'site_eui':test_med_pred})\n",
    "\n",
    "\n",
    "sub2.to_csv('submission_2.csv',\n",
    "            index=False)"
   ]
  },
  {
   "cell_type": "code",
   "execution_count": 33,
   "id": "2b04bec7",
   "metadata": {
    "execution": {
     "iopub.execute_input": "2022-02-25T12:38:25.439172Z",
     "iopub.status.busy": "2022-02-25T12:38:25.438135Z",
     "iopub.status.idle": "2022-02-25T12:38:25.835108Z",
     "shell.execute_reply": "2022-02-25T12:38:25.834492Z",
     "shell.execute_reply.started": "2022-02-25T10:38:48.138064Z"
    },
    "papermill": {
     "duration": 0.487941,
     "end_time": "2022-02-25T12:38:25.835285",
     "exception": false,
     "start_time": "2022-02-25T12:38:25.347344",
     "status": "completed"
    },
    "tags": []
   },
   "outputs": [
    {
     "name": "stdout",
     "output_type": "stream",
     "text": [
      " \n"
     ]
    },
    {
     "data": {
      "image/png": "[encoded data removed]",
      "text/plain": [
       "<Figure size 1152x720 with 1 Axes>"
      ]
     },
     "metadata": {
      "needs_background": "light"
     },
     "output_type": "display_data"
    }
   ],
   "source": [
    "pd.Series(sub2.site_eui.values).plot.hist(bins=100,color='g',title ='Energy Usage Distribution Median Predicted',figsize=(16,10))\n",
    "print(' ')"
   ]
  }
 ],
 "metadata": {
  "kernelspec": {
   "display_name": "Python 3",
   "language": "python",
   "name": "python3"
  },
  "language_info": {
   "codemirror_mode": {
    "name": "ipython",
    "version": 3
   },
   "file_extension": ".py",
   "mimetype": "text/x-python",
   "name": "python",
   "nbconvert_exporter": "python",
   "pygments_lexer": "ipython3",
   "version": "3.7.12"
  },
  "papermill": {
   "default_parameters": {},
   "duration": 6969.391785,
   "end_time": "2022-02-25T12:38:27.456924",
   "environment_variables": {},
   "exception": null,
   "input_path": "__notebook__.ipynb",
   "output_path": "__notebook__.ipynb",
   "parameters": {},
   "start_time": "2022-02-25T10:42:18.065139",
   "version": "2.3.3"
  }
 },
 "nbformat": 4,
 "nbformat_minor": 5
}
