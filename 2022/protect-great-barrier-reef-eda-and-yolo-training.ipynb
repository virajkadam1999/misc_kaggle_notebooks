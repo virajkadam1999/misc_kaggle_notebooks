{
 "cells": [
  {
   "cell_type": "markdown",
   "id": "ee2a81b1",
   "metadata": {
    "papermill": {
     "duration": 0.037138,
     "end_time": "2022-02-13T08:34:05.333423",
     "exception": false,
     "start_time": "2022-02-13T08:34:05.296285",
     "status": "completed"
    },
    "tags": []
   },
   "source": [
    "# The Great Barrier Reef:"
   ]
  },
  {
   "cell_type": "markdown",
   "id": "01136478",
   "metadata": {
    "papermill": {
     "duration": 0.038902,
     "end_time": "2022-02-13T08:34:05.408595",
     "exception": false,
     "start_time": "2022-02-13T08:34:05.369693",
     "status": "completed"
    },
    "tags": []
   },
   "source": [
    "![](https://www.worldatlas.com/r/w960-q80/upload/18/9a/e0/shutterstock-642116419.jpg)"
   ]
  },
  {
   "cell_type": "markdown",
   "id": "65613140",
   "metadata": {
    "papermill": {
     "duration": 0.067436,
     "end_time": "2022-02-13T08:34:05.524886",
     "exception": false,
     "start_time": "2022-02-13T08:34:05.457450",
     "status": "completed"
    },
    "tags": []
   },
   "source": [
    "**The Great Barrier Reef is the world’s largest coral reef system located in the Coral Sea off the shore of Queensland, northeastern Australia. It extends over a vast area of approximately 344,4000 sq. km and is is composed of over 2,900 individual reef systems, 760 fringe reefs, 300 coral rays and 900 islands that stretch over 2,300 km.**\n",
    "\n",
    "**The reef system is composed and built by billions of coral polyps and now supports a wide variety of marine life ranging from ancient sea turtles, reef fish and 134 species of sharks, 400 different hard and soft corals in addition to a plethora of seaweeds. The reef has also cultural significance, as it was used by the Aboriginal Australians and Torres Strait Islanders.**\n",
    "\n",
    "\n",
    "**The Great Barrier Reef is a biodiversity hotspot, housing at least 450 species of hard coral aa well as anemones, sponges, worms, gastropods, lobsters, crayfish, prawns and crabs. More than 1,500 species of fish inhabit the reef, such as wrasses, damselfish, triggerfish, angelfish, rays and sharks. Thirty species of crustaceans have been recorded in the reef, such as the dwarf minke whale, Indo-Pacific humpback dolphin and the humpback whale.Fifteen species of seagrass in beds attract the dugongs and turtles, with six species of sea turtles choosing the reef as its breeding spot. These species include the green sea turtle, leatherback sea turtle, hawksbill turtle, loggerhead sea turtle, flatback turtle and the Olive Ridley.**\n",
    "\n",
    "src: https://www.worldatlas.com/heritage-sites/great-barrier-reef.html"
   ]
  },
  {
   "cell_type": "markdown",
   "id": "ca59ceca",
   "metadata": {
    "papermill": {
     "duration": 0.046601,
     "end_time": "2022-02-13T08:34:05.625967",
     "exception": false,
     "start_time": "2022-02-13T08:34:05.579366",
     "status": "completed"
    },
    "tags": []
   },
   "source": [
    "![](https://www.worldatlas.com/r/w960-q80/upload/39/f6/5d/great-barrier-reef-01.png)"
   ]
  },
  {
   "cell_type": "markdown",
   "id": "cf5dcdb5",
   "metadata": {
    "papermill": {
     "duration": 0.040635,
     "end_time": "2022-02-13T08:34:05.712390",
     "exception": false,
     "start_time": "2022-02-13T08:34:05.671755",
     "status": "completed"
    },
    "tags": []
   },
   "source": [
    "# Crown-of-Thorns Starfish\n",
    "   "
   ]
  },
  {
   "cell_type": "markdown",
   "id": "b7f50441",
   "metadata": {
    "papermill": {
     "duration": 0.024058,
     "end_time": "2022-02-13T08:34:05.776854",
     "exception": false,
     "start_time": "2022-02-13T08:34:05.752796",
     "status": "completed"
    },
    "tags": []
   },
   "source": [
    "**In normal numbers on healthy coral reefs, COTS are an important part of the ecosystem. They tend to eat the faster growing corals which gives the slower growing species a chance to catch up, enhancing the coral diversity of our reefs. However, when the coral-eating starfish appear in outbreak proportions, the impact on coral reefs can be disastrous.**\n",
    "\n",
    "![](https://th.bing.com/th/id/OIP.Et2ArvP-eXTAKdkIp7Vc0QHaFj?w=261&h=195&c=7&r=0&o=5&dpr=1.67&pid=1.7)\n",
    "\n",
    "**The crown-of-thorns starfish preys on coral polyps. Large outbreaks of these starfish can devastate reefs. In 2000, an outbreak contributed to a loss of 66% of live coral cover on sampled reefs in a study by the Reef Research Centre (RRC). Outbreaks are believed to occur in natural cycles, worsened by poor water quality and overfishing of the starfish's predators.**"
   ]
  },
  {
   "cell_type": "markdown",
   "id": "22496f7b",
   "metadata": {
    "papermill": {
     "duration": 0.034721,
     "end_time": "2022-02-13T08:34:05.833216",
     "exception": false,
     "start_time": "2022-02-13T08:34:05.798495",
     "status": "completed"
    },
    "tags": []
   },
   "source": [
    "# References and Resources \n",
    "* https://www.kaggle.com/remekkinas/sahi-slicing-aided-hyper-inference-yv5-and-yx\n",
    "* https://www.kaggle.com/awsaf49/great-barrier-reef-yolov5-train\n",
    "* https://www.kaggle.com/remekkinas/yolox-training-pipeline-cots-dataset-lb-0-507?scriptVersionId=81353936\n",
    "* https://www.kaggle.com/julian3833/reef-a-cv-strategy-subsequences\n",
    "* https://www.kaggle.com/andradaolteanu/greatbarrierreef-full-guide-to-bboxaugmentation\n",
    "* https://www.kaggle.com/dschettler8845/tf-find-the-cots-eda-baseline/notebook\n",
    "* https://www.kaggle.com/steamedsheep/yolov5-high-resolution-training\n",
    "* https://www.kaggle.com/remekkinas/yolox-training-pipeline-cots-dataset-lb-0-507?scriptVersionId=81353936"
   ]
  },
  {
   "cell_type": "markdown",
   "id": "58e63576",
   "metadata": {
    "papermill": {
     "duration": 0.0283,
     "end_time": "2022-02-13T08:34:05.896344",
     "exception": false,
     "start_time": "2022-02-13T08:34:05.868044",
     "status": "completed"
    },
    "tags": []
   },
   "source": [
    "# Imports"
   ]
  },
  {
   "cell_type": "code",
   "execution_count": 1,
   "id": "beb7e9d9",
   "metadata": {
    "execution": {
     "iopub.execute_input": "2022-02-13T08:34:05.962877Z",
     "iopub.status.busy": "2022-02-13T08:34:05.961120Z",
     "iopub.status.idle": "2022-02-13T08:34:06.315027Z",
     "shell.execute_reply": "2022-02-13T08:34:06.315429Z",
     "shell.execute_reply.started": "2022-02-13T08:23:34.760233Z"
    },
    "papermill": {
     "duration": 0.383009,
     "end_time": "2022-02-13T08:34:06.315708",
     "exception": false,
     "start_time": "2022-02-13T08:34:05.932699",
     "status": "completed"
    },
    "tags": []
   },
   "outputs": [
    {
     "data": {
      "application/javascript": [
       "IPython.notebook.set_autosave_interval(200000)"
      ]
     },
     "metadata": {},
     "output_type": "display_data"
    },
    {
     "name": "stdout",
     "output_type": "stream",
     "text": [
      "Autosaving every 200 seconds\n"
     ]
    }
   ],
   "source": [
    "%autosave 200\n",
    "import folium\n",
    "import os \n",
    "import numpy \n",
    "import pandas as pd \n",
    "import matplotlib.pyplot as plt \n",
    "import shutil\n",
    "import numpy as np\n",
    "\n",
    "from tqdm import tqdm"
   ]
  },
  {
   "cell_type": "markdown",
   "id": "c1cd022e",
   "metadata": {
    "papermill": {
     "duration": 0.022378,
     "end_time": "2022-02-13T08:34:06.360832",
     "exception": false,
     "start_time": "2022-02-13T08:34:06.338454",
     "status": "completed"
    },
    "tags": []
   },
   "source": [
    "**Weights and Bias Login**"
   ]
  },
  {
   "cell_type": "code",
   "execution_count": 2,
   "id": "5c3aea0c",
   "metadata": {
    "execution": {
     "iopub.execute_input": "2022-02-13T08:34:06.411107Z",
     "iopub.status.busy": "2022-02-13T08:34:06.410382Z",
     "iopub.status.idle": "2022-02-13T08:34:08.838727Z",
     "shell.execute_reply": "2022-02-13T08:34:08.839194Z",
     "shell.execute_reply.started": "2022-02-13T08:23:35.089173Z"
    },
    "papermill": {
     "duration": 2.456214,
     "end_time": "2022-02-13T08:34:08.839353",
     "exception": false,
     "start_time": "2022-02-13T08:34:06.383139",
     "status": "completed"
    },
    "tags": []
   },
   "outputs": [
    {
     "name": "stderr",
     "output_type": "stream",
     "text": [
      "\u001b[34m\u001b[1mwandb\u001b[0m: W&B API key is configured (use `wandb login --relogin` to force relogin)\n",
      "\u001b[34m\u001b[1mwandb\u001b[0m: \u001b[33mWARNING\u001b[0m If you're specifying your api key in code, ensure this code is not shared publically.\n",
      "\u001b[34m\u001b[1mwandb\u001b[0m: \u001b[33mWARNING\u001b[0m Consider setting the WANDB_API_KEY environment variable, or running `wandb login` from the command line.\n",
      "\u001b[34m\u001b[1mwandb\u001b[0m: Appending key for api.wandb.ai to your netrc file: /root/.netrc\n"
     ]
    }
   ],
   "source": [
    "import wandb\n",
    "\n",
    "try:\n",
    "    from kaggle_secrets import UserSecretsClient\n",
    "    user_secrets = UserSecretsClient()\n",
    "    api_key = user_secrets.get_secret(\"wandb_token\")     # get token from kaggle secrets \n",
    "    wandb.login(key=api_key,anonymous=None)                                    # authenticate W and B account\n",
    "    \n",
    "except:\n",
    "    wandb.login(anonymous='must')\n",
    "    print('To use your W&B account,\\nGo to Add-ons -> Secrets and provide your W&B access token. Use the Label name as WANDB. \\nGet your W&B access token from here: https://wandb.ai/authorize')"
   ]
  },
  {
   "cell_type": "markdown",
   "id": "123ae6eb",
   "metadata": {
    "papermill": {
     "duration": 0.023951,
     "end_time": "2022-02-13T08:34:08.887274",
     "exception": false,
     "start_time": "2022-02-13T08:34:08.863323",
     "status": "completed"
    },
    "tags": []
   },
   "source": [
    "# Loading Data"
   ]
  },
  {
   "cell_type": "code",
   "execution_count": 3,
   "id": "600f6d8d",
   "metadata": {
    "execution": {
     "iopub.execute_input": "2022-02-13T08:34:08.943874Z",
     "iopub.status.busy": "2022-02-13T08:34:08.942172Z",
     "iopub.status.idle": "2022-02-13T08:34:08.944546Z",
     "shell.execute_reply": "2022-02-13T08:34:08.945005Z",
     "shell.execute_reply.started": "2022-02-13T08:23:36.882430Z"
    },
    "papermill": {
     "duration": 0.034173,
     "end_time": "2022-02-13T08:34:08.945155",
     "exception": false,
     "start_time": "2022-02-13T08:34:08.910982",
     "status": "completed"
    },
    "tags": []
   },
   "outputs": [],
   "source": [
    "train_dir = '../input/tensorflow-great-barrier-reef/train_images' # training data  directory "
   ]
  },
  {
   "cell_type": "code",
   "execution_count": 4,
   "id": "d6cd34db",
   "metadata": {
    "execution": {
     "iopub.execute_input": "2022-02-13T08:34:09.003263Z",
     "iopub.status.busy": "2022-02-13T08:34:09.002717Z",
     "iopub.status.idle": "2022-02-13T08:34:09.076018Z",
     "shell.execute_reply": "2022-02-13T08:34:09.075542Z",
     "shell.execute_reply.started": "2022-02-13T08:23:36.890777Z"
    },
    "papermill": {
     "duration": 0.104734,
     "end_time": "2022-02-13T08:34:09.076146",
     "exception": false,
     "start_time": "2022-02-13T08:34:08.971412",
     "status": "completed"
    },
    "tags": []
   },
   "outputs": [
    {
     "data": {
      "text/html": [
       "<div>\n",
       "<style scoped>\n",
       "    .dataframe tbody tr th:only-of-type {\n",
       "        vertical-align: middle;\n",
       "    }\n",
       "\n",
       "    .dataframe tbody tr th {\n",
       "        vertical-align: top;\n",
       "    }\n",
       "\n",
       "    .dataframe thead th {\n",
       "        text-align: right;\n",
       "    }\n",
       "</style>\n",
       "<table border=\"1\" class=\"dataframe\">\n",
       "  <thead>\n",
       "    <tr style=\"text-align: right;\">\n",
       "      <th></th>\n",
       "      <th>video_id</th>\n",
       "      <th>sequence</th>\n",
       "      <th>video_frame</th>\n",
       "      <th>sequence_frame</th>\n",
       "      <th>image_id</th>\n",
       "      <th>annotations</th>\n",
       "    </tr>\n",
       "  </thead>\n",
       "  <tbody>\n",
       "    <tr>\n",
       "      <th>0</th>\n",
       "      <td>0</td>\n",
       "      <td>40258</td>\n",
       "      <td>0</td>\n",
       "      <td>0</td>\n",
       "      <td>0-0</td>\n",
       "      <td>[]</td>\n",
       "    </tr>\n",
       "    <tr>\n",
       "      <th>1</th>\n",
       "      <td>0</td>\n",
       "      <td>40258</td>\n",
       "      <td>1</td>\n",
       "      <td>1</td>\n",
       "      <td>0-1</td>\n",
       "      <td>[]</td>\n",
       "    </tr>\n",
       "    <tr>\n",
       "      <th>2</th>\n",
       "      <td>0</td>\n",
       "      <td>40258</td>\n",
       "      <td>2</td>\n",
       "      <td>2</td>\n",
       "      <td>0-2</td>\n",
       "      <td>[]</td>\n",
       "    </tr>\n",
       "    <tr>\n",
       "      <th>3</th>\n",
       "      <td>0</td>\n",
       "      <td>40258</td>\n",
       "      <td>3</td>\n",
       "      <td>3</td>\n",
       "      <td>0-3</td>\n",
       "      <td>[]</td>\n",
       "    </tr>\n",
       "    <tr>\n",
       "      <th>4</th>\n",
       "      <td>0</td>\n",
       "      <td>40258</td>\n",
       "      <td>4</td>\n",
       "      <td>4</td>\n",
       "      <td>0-4</td>\n",
       "      <td>[]</td>\n",
       "    </tr>\n",
       "  </tbody>\n",
       "</table>\n",
       "</div>"
      ],
      "text/plain": [
       "   video_id  sequence  video_frame  sequence_frame image_id annotations\n",
       "0         0     40258            0               0      0-0          []\n",
       "1         0     40258            1               1      0-1          []\n",
       "2         0     40258            2               2      0-2          []\n",
       "3         0     40258            3               3      0-3          []\n",
       "4         0     40258            4               4      0-4          []"
      ]
     },
     "execution_count": 4,
     "metadata": {},
     "output_type": "execute_result"
    }
   ],
   "source": [
    "train = pd.read_csv('../input/tensorflow-great-barrier-reef/train.csv')\n",
    "test = pd.read_csv('../input/tensorflow-great-barrier-reef/test.csv')\n",
    "\n",
    "sample_sub = pd.read_csv('../input/tensorflow-great-barrier-reef/example_sample_submission.csv')\n",
    "\n",
    "#train\n",
    "train.head()"
   ]
  },
  {
   "cell_type": "markdown",
   "id": "d3824b36",
   "metadata": {
    "papermill": {
     "duration": 0.026606,
     "end_time": "2022-02-13T08:34:09.129728",
     "exception": false,
     "start_time": "2022-02-13T08:34:09.103122",
     "status": "completed"
    },
    "tags": []
   },
   "source": [
    "**Basic EDA**"
   ]
  },
  {
   "cell_type": "code",
   "execution_count": 5,
   "id": "00c208a1",
   "metadata": {
    "execution": {
     "iopub.execute_input": "2022-02-13T08:34:09.193690Z",
     "iopub.status.busy": "2022-02-13T08:34:09.192844Z",
     "iopub.status.idle": "2022-02-13T08:34:09.215157Z",
     "shell.execute_reply": "2022-02-13T08:34:09.215674Z",
     "shell.execute_reply.started": "2022-02-13T08:23:36.968516Z"
    },
    "papermill": {
     "duration": 0.059186,
     "end_time": "2022-02-13T08:34:09.215833",
     "exception": false,
     "start_time": "2022-02-13T08:34:09.156647",
     "status": "completed"
    },
    "tags": []
   },
   "outputs": [
    {
     "name": "stdout",
     "output_type": "stream",
     "text": [
      "Number of Videos in train data are : 3\n",
      "Video 0 has 6708 Images, of which 2143 Images have Annotations\n",
      "Video 1 has 8232 Images, of which 2099 Images have Annotations\n",
      "Video 2 has 8561 Images, of which 677 Images have Annotations\n"
     ]
    }
   ],
   "source": [
    "#basic eda \n",
    "print('Number of Videos in train data are :',train.video_id.nunique())\n",
    "\n",
    "for idx,grp in train.groupby('video_id'):\n",
    "    annot= len(grp[grp.annotations!='[]'])\n",
    "    print(f'Video {idx} has {len(grp)} Images, of which {annot} Images have Annotations')\n",
    "\n",
    "\n",
    "    \n",
    "# marking df rows withoout annotations\n",
    "\n",
    "train.loc[train['annotations']=='[]', 'no_annot'] = 1 \n",
    "train.loc[train['no_annot']!=1, 'no_annot'] = 0 "
   ]
  },
  {
   "cell_type": "code",
   "execution_count": 6,
   "id": "f7d0ceaa",
   "metadata": {
    "execution": {
     "iopub.execute_input": "2022-02-13T08:34:09.274590Z",
     "iopub.status.busy": "2022-02-13T08:34:09.274001Z",
     "iopub.status.idle": "2022-02-13T08:34:09.279587Z",
     "shell.execute_reply": "2022-02-13T08:34:09.279073Z",
     "shell.execute_reply.started": "2022-02-13T08:23:37.000323Z"
    },
    "papermill": {
     "duration": 0.036532,
     "end_time": "2022-02-13T08:34:09.279711",
     "exception": false,
     "start_time": "2022-02-13T08:34:09.243179",
     "status": "completed"
    },
    "tags": []
   },
   "outputs": [
    {
     "name": "stdout",
     "output_type": "stream",
     "text": [
      "Number of Images without annotations are 18582.0\n",
      "% of Images without annotations are 0.79\n"
     ]
    }
   ],
   "source": [
    "print(f'Number of Images without annotations are {train.no_annot.sum()}')\n",
    "print(f'% of Images without annotations are {(train.no_annot.sum()/len(train)).round(2)}')\n"
   ]
  },
  {
   "cell_type": "code",
   "execution_count": 7,
   "id": "8f739e6c",
   "metadata": {
    "execution": {
     "iopub.execute_input": "2022-02-13T08:34:09.336330Z",
     "iopub.status.busy": "2022-02-13T08:34:09.335754Z",
     "iopub.status.idle": "2022-02-13T08:34:09.347498Z",
     "shell.execute_reply": "2022-02-13T08:34:09.348100Z",
     "shell.execute_reply.started": "2022-02-13T08:23:37.007187Z"
    },
    "papermill": {
     "duration": 0.042695,
     "end_time": "2022-02-13T08:34:09.348256",
     "exception": false,
     "start_time": "2022-02-13T08:34:09.305561",
     "status": "completed"
    },
    "tags": []
   },
   "outputs": [
    {
     "data": {
      "text/html": [
       "<div>\n",
       "<style scoped>\n",
       "    .dataframe tbody tr th:only-of-type {\n",
       "        vertical-align: middle;\n",
       "    }\n",
       "\n",
       "    .dataframe tbody tr th {\n",
       "        vertical-align: top;\n",
       "    }\n",
       "\n",
       "    .dataframe thead th {\n",
       "        text-align: right;\n",
       "    }\n",
       "</style>\n",
       "<table border=\"1\" class=\"dataframe\">\n",
       "  <thead>\n",
       "    <tr style=\"text-align: right;\">\n",
       "      <th></th>\n",
       "      <th>video_id</th>\n",
       "      <th>sequence</th>\n",
       "      <th>video_frame</th>\n",
       "      <th>sequence_frame</th>\n",
       "      <th>image_id</th>\n",
       "      <th>annotations</th>\n",
       "      <th>no_annot</th>\n",
       "    </tr>\n",
       "  </thead>\n",
       "  <tbody>\n",
       "    <tr>\n",
       "      <th>16</th>\n",
       "      <td>0</td>\n",
       "      <td>40258</td>\n",
       "      <td>16</td>\n",
       "      <td>16</td>\n",
       "      <td>0-16</td>\n",
       "      <td>[{'x': 559, 'y': 213, 'width': 50, 'height': 32}]</td>\n",
       "      <td>0.0</td>\n",
       "    </tr>\n",
       "    <tr>\n",
       "      <th>17</th>\n",
       "      <td>0</td>\n",
       "      <td>40258</td>\n",
       "      <td>17</td>\n",
       "      <td>17</td>\n",
       "      <td>0-17</td>\n",
       "      <td>[{'x': 558, 'y': 213, 'width': 50, 'height': 32}]</td>\n",
       "      <td>0.0</td>\n",
       "    </tr>\n",
       "    <tr>\n",
       "      <th>18</th>\n",
       "      <td>0</td>\n",
       "      <td>40258</td>\n",
       "      <td>18</td>\n",
       "      <td>18</td>\n",
       "      <td>0-18</td>\n",
       "      <td>[{'x': 557, 'y': 213, 'width': 50, 'height': 32}]</td>\n",
       "      <td>0.0</td>\n",
       "    </tr>\n",
       "    <tr>\n",
       "      <th>19</th>\n",
       "      <td>0</td>\n",
       "      <td>40258</td>\n",
       "      <td>19</td>\n",
       "      <td>19</td>\n",
       "      <td>0-19</td>\n",
       "      <td>[{'x': 556, 'y': 214, 'width': 50, 'height': 32}]</td>\n",
       "      <td>0.0</td>\n",
       "    </tr>\n",
       "    <tr>\n",
       "      <th>20</th>\n",
       "      <td>0</td>\n",
       "      <td>40258</td>\n",
       "      <td>20</td>\n",
       "      <td>20</td>\n",
       "      <td>0-20</td>\n",
       "      <td>[{'x': 555, 'y': 214, 'width': 50, 'height': 32}]</td>\n",
       "      <td>0.0</td>\n",
       "    </tr>\n",
       "  </tbody>\n",
       "</table>\n",
       "</div>"
      ],
      "text/plain": [
       "    video_id  sequence  video_frame  sequence_frame image_id  \\\n",
       "16         0     40258           16              16     0-16   \n",
       "17         0     40258           17              17     0-17   \n",
       "18         0     40258           18              18     0-18   \n",
       "19         0     40258           19              19     0-19   \n",
       "20         0     40258           20              20     0-20   \n",
       "\n",
       "                                          annotations  no_annot  \n",
       "16  [{'x': 559, 'y': 213, 'width': 50, 'height': 32}]       0.0  \n",
       "17  [{'x': 558, 'y': 213, 'width': 50, 'height': 32}]       0.0  \n",
       "18  [{'x': 557, 'y': 213, 'width': 50, 'height': 32}]       0.0  \n",
       "19  [{'x': 556, 'y': 214, 'width': 50, 'height': 32}]       0.0  \n",
       "20  [{'x': 555, 'y': 214, 'width': 50, 'height': 32}]       0.0  "
      ]
     },
     "execution_count": 7,
     "metadata": {},
     "output_type": "execute_result"
    }
   ],
   "source": [
    "#checking some annotataions\n",
    "train[train['no_annot'] != 1].head()"
   ]
  },
  {
   "cell_type": "markdown",
   "id": "0d2e196c",
   "metadata": {
    "papermill": {
     "duration": 0.025815,
     "end_time": "2022-02-13T08:34:09.401732",
     "exception": false,
     "start_time": "2022-02-13T08:34:09.375917",
     "status": "completed"
    },
    "tags": []
   },
   "source": [
    "**Taking the data with annotated images**"
   ]
  },
  {
   "cell_type": "code",
   "execution_count": 8,
   "id": "38020188",
   "metadata": {
    "execution": {
     "iopub.execute_input": "2022-02-13T08:34:09.456939Z",
     "iopub.status.busy": "2022-02-13T08:34:09.456134Z",
     "iopub.status.idle": "2022-02-13T08:34:09.465576Z",
     "shell.execute_reply": "2022-02-13T08:34:09.465124Z",
     "shell.execute_reply.started": "2022-02-13T08:23:37.027023Z"
    },
    "papermill": {
     "duration": 0.037947,
     "end_time": "2022-02-13T08:34:09.465684",
     "exception": false,
     "start_time": "2022-02-13T08:34:09.427737",
     "status": "completed"
    },
    "tags": []
   },
   "outputs": [
    {
     "data": {
      "text/plain": [
       "(4919, 7)"
      ]
     },
     "execution_count": 8,
     "metadata": {},
     "output_type": "execute_result"
    }
   ],
   "source": [
    "#only taking images with Annotations for training \n",
    "train_set = train.query(expr = 'no_annot!=1') #drop im without annot \n",
    "\n",
    "train_set.shape"
   ]
  },
  {
   "cell_type": "markdown",
   "id": "ecf93713",
   "metadata": {
    "papermill": {
     "duration": 0.02458,
     "end_time": "2022-02-13T08:34:09.515418",
     "exception": false,
     "start_time": "2022-02-13T08:34:09.490838",
     "status": "completed"
    },
    "tags": []
   },
   "source": [
    "# YOLO Training"
   ]
  },
  {
   "cell_type": "markdown",
   "id": "2088e689",
   "metadata": {
    "papermill": {
     "duration": 0.024644,
     "end_time": "2022-02-13T08:34:09.564750",
     "exception": false,
     "start_time": "2022-02-13T08:34:09.540106",
     "status": "completed"
    },
    "tags": []
   },
   "source": [
    "**Making Directories and copying files to those directories for training.**"
   ]
  },
  {
   "cell_type": "code",
   "execution_count": 9,
   "id": "c795b613",
   "metadata": {
    "execution": {
     "iopub.execute_input": "2022-02-13T08:34:09.618583Z",
     "iopub.status.busy": "2022-02-13T08:34:09.617891Z",
     "iopub.status.idle": "2022-02-13T08:34:09.620627Z",
     "shell.execute_reply": "2022-02-13T08:34:09.620149Z",
     "shell.execute_reply.started": "2022-02-13T08:23:37.041682Z"
    },
    "papermill": {
     "duration": 0.030995,
     "end_time": "2022-02-13T08:34:09.620738",
     "exception": false,
     "start_time": "2022-02-13T08:34:09.589743",
     "status": "completed"
    },
    "tags": []
   },
   "outputs": [],
   "source": [
    "#directories to copy files \n",
    "yolo_train = './yolo_data/fold1/images/train'\n",
    "yolo_val   = './yolo_data/fold1/images/val'\n",
    "\n",
    "yolo_train_labels = './yolo_data/fold1/labels/train'\n",
    "yolo_val_labels   =  './yolo_data/fold1/labels/val'"
   ]
  },
  {
   "cell_type": "code",
   "execution_count": 10,
   "id": "2af2bd12",
   "metadata": {
    "execution": {
     "iopub.execute_input": "2022-02-13T08:34:09.676358Z",
     "iopub.status.busy": "2022-02-13T08:34:09.675671Z",
     "iopub.status.idle": "2022-02-13T08:34:12.316813Z",
     "shell.execute_reply": "2022-02-13T08:34:12.316283Z",
     "shell.execute_reply.started": "2022-02-13T08:23:37.048900Z"
    },
    "papermill": {
     "duration": 2.671594,
     "end_time": "2022-02-13T08:34:12.316954",
     "exception": false,
     "start_time": "2022-02-13T08:34:09.645360",
     "status": "completed"
    },
    "tags": []
   },
   "outputs": [],
   "source": [
    "!mkdir -p $yolo_train\n",
    "!mkdir -p $yolo_val\n",
    "\n",
    "!mkdir -p $yolo_train_labels\n",
    "!mkdir -p $yolo_val_labels"
   ]
  },
  {
   "cell_type": "markdown",
   "id": "c34894d9",
   "metadata": {
    "papermill": {
     "duration": 0.02485,
     "end_time": "2022-02-13T08:34:12.367463",
     "exception": false,
     "start_time": "2022-02-13T08:34:12.342613",
     "status": "completed"
    },
    "tags": []
   },
   "source": [
    "**Functions to Copy Images and Convert the Annotations in the format YOLO expects.**"
   ]
  },
  {
   "cell_type": "code",
   "execution_count": 11,
   "id": "3e666d95",
   "metadata": {
    "execution": {
     "iopub.execute_input": "2022-02-13T08:34:12.425127Z",
     "iopub.status.busy": "2022-02-13T08:34:12.424378Z",
     "iopub.status.idle": "2022-02-13T08:34:12.427764Z",
     "shell.execute_reply": "2022-02-13T08:34:12.427318Z",
     "shell.execute_reply.started": "2022-02-13T08:23:39.787468Z"
    },
    "papermill": {
     "duration": 0.035795,
     "end_time": "2022-02-13T08:34:12.427879",
     "exception": false,
     "start_time": "2022-02-13T08:34:12.392084",
     "status": "completed"
    },
    "tags": []
   },
   "outputs": [],
   "source": [
    "def copy_file(filepath,destination):\n",
    "    '''copy files from source to dest'''\n",
    "    shutil.copy(src=filepath,\n",
    "               dst = destination)\n",
    "    \n",
    "    \n",
    "def get_annotations(annotations,\n",
    "                   image_height = 720,\n",
    "                   image_width = 1280):\n",
    "    '''return annotations formatted in YOLO format ,i.e [x-mid,y-mid,hieght,width], normalized by image height and width'''\n",
    "    \n",
    "    \n",
    "    x_mid = annotations['x'] + annotations['width'] /2\n",
    "    y_mid = annotations['y'] + annotations['height'] /2\n",
    "    \n",
    "    x_mid =x_mid/image_width\n",
    "    y_mid=y_mid/image_height\n",
    "    \n",
    "    width = annotations['width']/image_width\n",
    "    height = annotations['height']/image_height\n",
    "    \n",
    "    return f'0 {x_mid} {y_mid} {width} {height} \\n'\n",
    "\n",
    "def save_annot(path_to_save,\n",
    "               annot):\n",
    "    '''save annotations'''\n",
    "    with open(path_to_save,'w') as f:\n",
    "        f.write(annot)\n",
    "        "
   ]
  },
  {
   "cell_type": "markdown",
   "id": "4b39d32c",
   "metadata": {
    "papermill": {
     "duration": 0.025226,
     "end_time": "2022-02-13T08:34:12.477751",
     "exception": false,
     "start_time": "2022-02-13T08:34:12.452525",
     "status": "completed"
    },
    "tags": []
   },
   "source": [
    "**Moving the data in directories and converting the annotations in YOLO format**"
   ]
  },
  {
   "cell_type": "code",
   "execution_count": 12,
   "id": "3f1b2153",
   "metadata": {
    "execution": {
     "iopub.execute_input": "2022-02-13T08:34:12.534516Z",
     "iopub.status.busy": "2022-02-13T08:34:12.533714Z",
     "iopub.status.idle": "2022-02-13T08:35:03.748503Z",
     "shell.execute_reply": "2022-02-13T08:35:03.748988Z",
     "shell.execute_reply.started": "2022-02-13T08:23:39.800955Z"
    },
    "papermill": {
     "duration": 51.246638,
     "end_time": "2022-02-13T08:35:03.749154",
     "exception": false,
     "start_time": "2022-02-13T08:34:12.502516",
     "status": "completed"
    },
    "tags": []
   },
   "outputs": [
    {
     "name": "stderr",
     "output_type": "stream",
     "text": [
      "Files Copied % :: 100%|██████████| 4919/4919 [00:51<00:00, 96.07it/s]\n"
     ]
    }
   ],
   "source": [
    "#using 2nd video as validation fold :\n",
    "yolo_ims = './yolo_data/fold1/images/'\n",
    "yolo_lbl = './yolo_data/fold1/labels/'\n",
    "\n",
    "use_this_video_as_val = 2 \n",
    "\n",
    "for _,row in tqdm(iterable=train_set.iterrows(),\n",
    "                  total=len(train_set),\n",
    "                  desc = 'Files Copied % :'):        #copy files,convert and save annotations\n",
    "    \n",
    "    if row.video_id == use_this_video_as_val:\n",
    "        set_type = 'val'\n",
    "    else:\n",
    "        set_type = 'train'\n",
    "        \n",
    "    \n",
    "    video_id = row.video_id\n",
    "    video_frame = row.video_frame\n",
    "    img_id =  row.image_id\n",
    "    annot = eval(row.annotations)[0]    # eval the annotations (which are in format str([x,y,width,height]))\n",
    "    \n",
    "    \n",
    "    file_path = train_dir + f'/video_{video_id}/{video_frame}.jpg'  # filepath of img\n",
    "    destination_path = yolo_ims + f'{set_type}/{img_id}.jpg'  #path to copy to \n",
    "    \n",
    "    copy_file(file_path,destination_path) #copy \n",
    "    \n",
    "    #get annot in yolo expected format\n",
    "    yolo_annot = get_annotations(annot)\n",
    "    \n",
    "    #save annotations \n",
    "    save_annot(path_to_save = yolo_lbl + f'{set_type}/{img_id}.txt' ,\n",
    "               annot=yolo_annot)\n",
    "    \n",
    "    \n",
    "    \n"
   ]
  },
  {
   "cell_type": "markdown",
   "id": "0cb8cc9e",
   "metadata": {
    "papermill": {
     "duration": 0.172423,
     "end_time": "2022-02-13T08:35:04.124687",
     "exception": false,
     "start_time": "2022-02-13T08:35:03.952264",
     "status": "completed"
    },
    "tags": []
   },
   "source": [
    "# Cloning YOLO repo"
   ]
  },
  {
   "cell_type": "code",
   "execution_count": 13,
   "id": "02a381da",
   "metadata": {
    "execution": {
     "iopub.execute_input": "2022-02-13T08:35:04.433983Z",
     "iopub.status.busy": "2022-02-13T08:35:04.433203Z",
     "iopub.status.idle": "2022-02-13T08:35:07.352804Z",
     "shell.execute_reply": "2022-02-13T08:35:07.352281Z",
     "shell.execute_reply.started": "2022-02-13T08:24:42.318205Z"
    },
    "papermill": {
     "duration": 3.065891,
     "end_time": "2022-02-13T08:35:07.352947",
     "exception": false,
     "start_time": "2022-02-13T08:35:04.287056",
     "status": "completed"
    },
    "tags": []
   },
   "outputs": [],
   "source": [
    "!git clone https://github.com/ultralytics/yolov5.git -q"
   ]
  },
  {
   "cell_type": "markdown",
   "id": "22687cb5",
   "metadata": {
    "papermill": {
     "duration": 0.141959,
     "end_time": "2022-02-13T08:35:07.638199",
     "exception": false,
     "start_time": "2022-02-13T08:35:07.496240",
     "status": "completed"
    },
    "tags": []
   },
   "source": [
    "# Saving Hyperparm and Config file for yolo"
   ]
  },
  {
   "cell_type": "markdown",
   "id": "0f27ccc0",
   "metadata": {
    "papermill": {
     "duration": 0.141735,
     "end_time": "2022-02-13T08:35:07.921752",
     "exception": false,
     "start_time": "2022-02-13T08:35:07.780017",
     "status": "completed"
    },
    "tags": []
   },
   "source": [
    "**HyperParameters for YOLO:**\n",
    "\n",
    "\n",
    "from : from https://www.kaggle.com/steamedsheep/yolov5-high-resolution-training/notebook"
   ]
  },
  {
   "cell_type": "code",
   "execution_count": 14,
   "id": "40dd4a0a",
   "metadata": {
    "execution": {
     "iopub.execute_input": "2022-02-13T08:35:08.212911Z",
     "iopub.status.busy": "2022-02-13T08:35:08.212198Z",
     "iopub.status.idle": "2022-02-13T08:35:08.214987Z",
     "shell.execute_reply": "2022-02-13T08:35:08.215392Z",
     "shell.execute_reply.started": "2022-02-13T08:24:46.883831Z"
    },
    "papermill": {
     "duration": 0.151663,
     "end_time": "2022-02-13T08:35:08.215540",
     "exception": false,
     "start_time": "2022-02-13T08:35:08.063877",
     "status": "completed"
    },
    "tags": []
   },
   "outputs": [
    {
     "name": "stdout",
     "output_type": "stream",
     "text": [
      "Writing ./yolov5/data/hyps/hyp.heavy.2.yaml\n"
     ]
    }
   ],
   "source": [
    "%%writefile ./yolov5/data/hyps/hyp.heavy.2.yaml\n",
    "\n",
    "\n",
    "# YOLOv5 by Ultralytics, GPL-3.0 license\n",
    "# Hyperparameters for COCO training from scratch\n",
    "# python train.py --batch 40 --cfg yolov5m.yaml --weights '' --data coco.yaml --img 640 --epochs 300\n",
    "# See tutorials for hyperparameter evolution https://github.com/ultralytics/yolov5#tutorials\n",
    "\n",
    "lr0: 0.01  # initial learning rate (SGD=1E-2, Adam=1E-3)\n",
    "lrf: 0.1  # final OneCycleLR learning rate (lr0 * lrf)\n",
    "momentum: 0.937  # SGD momentum/Adam beta1\n",
    "weight_decay: 0.0005  # optimizer weight decay 5e-4\n",
    "warmup_epochs: 2.0  # warmup epochs (fractions ok)   (changed from inital 3)\n",
    "warmup_momentum: 0.8  # warmup initial momentum\n",
    "warmup_bias_lr: 0.1  # warmup initial bias lr\n",
    "box: 0.05  # box loss gain\n",
    "cls: 0.5  # cls loss gain\n",
    "cls_pw: 1.0  # cls BCELoss positive_weight\n",
    "obj: 1.0  # obj loss gain (scale with pixels)\n",
    "obj_pw: 1.0  # obj BCELoss positive_weight\n",
    "iou_t: 0.20  # IoU training threshold\n",
    "anchor_t: 4.0  # anchor-multiple threshold\n",
    "# anchors: 3  # anchors per output layer (0 to ignore)\n",
    "fl_gamma: 0.0  # focal loss gamma (efficientDet default gamma=1.5)\n",
    "hsv_h: 0.015  # image HSV-Hue augmentation (fraction)\n",
    "hsv_s: 0.7  # image HSV-Saturation augmentation (fraction)\n",
    "hsv_v: 0.4  # image HSV-Value augmentation (fraction)\n",
    "degrees: 0.0  # image rotation (+/- deg)\n",
    "translate: 0.1  # image translation (+/- fraction)\n",
    "scale: 0.5  # image scale (+/- gain)\n",
    "shear: 0.0  # image shear (+/- deg)\n",
    "perspective: 0.0  # image perspective (+/- fraction), range 0-0.001\n",
    "flipud: 0.5  # image flip up-down (probability)\n",
    "fliplr: 0.5  # image flip left-right (probability)\n",
    "mosaic: 1.0  # image mosaic (probability)\n",
    "mixup: 0.5  # image mixup (probability)\n",
    "copy_paste: 0.0  # segment copy-paste (probability)"
   ]
  },
  {
   "cell_type": "markdown",
   "id": "90049729",
   "metadata": {
    "papermill": {
     "duration": 0.142746,
     "end_time": "2022-02-13T08:35:08.500403",
     "exception": false,
     "start_time": "2022-02-13T08:35:08.357657",
     "status": "completed"
    },
    "tags": []
   },
   "source": [
    "****"
   ]
  },
  {
   "cell_type": "code",
   "execution_count": 15,
   "id": "299c6cb8",
   "metadata": {
    "execution": {
     "iopub.execute_input": "2022-02-13T08:35:08.791303Z",
     "iopub.status.busy": "2022-02-13T08:35:08.790590Z",
     "iopub.status.idle": "2022-02-13T08:35:08.793884Z",
     "shell.execute_reply": "2022-02-13T08:35:08.794338Z",
     "shell.execute_reply.started": "2022-02-13T08:24:46.897182Z"
    },
    "papermill": {
     "duration": 0.151108,
     "end_time": "2022-02-13T08:35:08.794538",
     "exception": false,
     "start_time": "2022-02-13T08:35:08.643430",
     "status": "completed"
    },
    "tags": []
   },
   "outputs": [
    {
     "name": "stdout",
     "output_type": "stream",
     "text": [
      "Writing ./yolov5/data/reef_f1_naive.yaml\n"
     ]
    }
   ],
   "source": [
    "%%writefile ./yolov5/data/reef_f1_naive.yaml\n",
    "\n",
    "# Train/val/test sets as 1) dir: path/to/imgs, 2) file: path/to/imgs.txt, or 3) list: [path/to/imgs1, path/to/imgs2, ..]\n",
    "path: ../yolo_data/fold1/  # dataset root dir\n",
    "train: images/train  # train images (relative to 'path') 128 images\n",
    "val: images/val  # val images (relative to 'path') 128 images\n",
    "test:  # test images (optional)\n",
    "\n",
    "# Classes\n",
    "nc: 1  # number of classes\n",
    "names: ['reef']  # class names\n",
    "\n",
    "\n",
    "# Download script/URL (optional)\n",
    "# download: https://ultralytics.com/assets/coco128.zip\n"
   ]
  },
  {
   "cell_type": "markdown",
   "id": "1cf95141",
   "metadata": {
    "papermill": {
     "duration": 0.332795,
     "end_time": "2022-02-13T08:35:09.270805",
     "exception": false,
     "start_time": "2022-02-13T08:35:08.938010",
     "status": "completed"
    },
    "tags": []
   },
   "source": [
    "# Training"
   ]
  },
  {
   "cell_type": "code",
   "execution_count": 16,
   "id": "161a44a4",
   "metadata": {
    "execution": {
     "iopub.execute_input": "2022-02-13T08:35:09.666082Z",
     "iopub.status.busy": "2022-02-13T08:35:09.665216Z",
     "iopub.status.idle": "2022-02-13T08:35:09.668794Z",
     "shell.execute_reply": "2022-02-13T08:35:09.668352Z",
     "shell.execute_reply.started": "2022-02-13T08:24:46.906001Z"
    },
    "papermill": {
     "duration": 0.151107,
     "end_time": "2022-02-13T08:35:09.668920",
     "exception": false,
     "start_time": "2022-02-13T08:35:09.517813",
     "status": "completed"
    },
    "tags": []
   },
   "outputs": [
    {
     "name": "stdout",
     "output_type": "stream",
     "text": [
      "/kaggle/working/yolov5\n"
     ]
    }
   ],
   "source": [
    "#change current working dir to yolo \n",
    "\n",
    "%cd yolov5/"
   ]
  },
  {
   "cell_type": "code",
   "execution_count": 17,
   "id": "b3d7b1e8",
   "metadata": {
    "execution": {
     "iopub.execute_input": "2022-02-13T08:35:09.966441Z",
     "iopub.status.busy": "2022-02-13T08:35:09.961026Z",
     "iopub.status.idle": "2022-02-13T14:52:28.991297Z",
     "shell.execute_reply": "2022-02-13T14:52:28.990800Z",
     "shell.execute_reply.started": "2022-02-13T08:24:46.917764Z"
    },
    "papermill": {
     "duration": 22639.18,
     "end_time": "2022-02-13T14:52:28.991452",
     "exception": false,
     "start_time": "2022-02-13T08:35:09.811452",
     "status": "completed"
    },
    "tags": []
   },
   "outputs": [
    {
     "name": "stdout",
     "output_type": "stream",
     "text": [
      "\u001b[34m\u001b[1mwandb\u001b[0m: Currently logged in as: \u001b[33mvirajkadam\u001b[0m (use `wandb login --relogin` to force relogin)\r\n",
      "\u001b[34m\u001b[1mwandb\u001b[0m: wandb version 0.12.10 is available!  To upgrade, please run:\r\n",
      "\u001b[34m\u001b[1mwandb\u001b[0m:  $ pip install wandb --upgrade\r\n",
      "\u001b[34m\u001b[1mwandb\u001b[0m: Tracking run with wandb version 0.12.7\r\n",
      "\u001b[34m\u001b[1mwandb\u001b[0m: Syncing run \u001b[33ml6_3600_uflip_vm5_f1\u001b[0m\r\n",
      "\u001b[34m\u001b[1mwandb\u001b[0m: ⭐️ View project at \u001b[34m\u001b[4mhttps://wandb.ai/virajkadam/YOLOv5\u001b[0m\r\n",
      "\u001b[34m\u001b[1mwandb\u001b[0m: 🚀 View run at \u001b[34m\u001b[4mhttps://wandb.ai/virajkadam/YOLOv5/runs/2o2nvy8o\u001b[0m\r\n",
      "\u001b[34m\u001b[1mwandb\u001b[0m: Run data is saved locally in /kaggle/working/yolov5/wandb/run-20220213_083522-2o2nvy8o\r\n",
      "\u001b[34m\u001b[1mwandb\u001b[0m: Run `wandb offline` to turn off syncing.\r\n",
      "\r\n",
      "\r\n",
      "\r\n",
      "\r\n",
      "\r\n",
      "\r\n",
      "\r\n",
      "\r\n",
      "\r\n",
      "\r\n",
      "\r\n",
      "\r\n",
      "\r\n",
      "\r\n",
      "\r\n",
      "\r\n",
      "\r\n",
      "\r\n",
      "\r\n",
      "\r\n",
      "\r\n",
      "\r\n",
      "\r\n",
      "\r\n",
      "\r\n",
      "\r\n",
      "\r\n",
      "\r\n",
      "\r\n",
      "\r\n",
      "\r\n",
      "\r\n",
      "\r\n",
      "\r\n",
      "\r\n",
      "\r\n",
      "\r\n",
      "\u001b[34m\u001b[1mwandb\u001b[0m: Waiting for W&B process to finish, PID 153... (failed 1). Press ctrl-c to abort syncing.\r\n",
      "\u001b[34m\u001b[1mwandb\u001b[0m:                                                                                \r\n",
      "\u001b[34m\u001b[1mwandb\u001b[0m: Run history:\r\n",
      "\u001b[34m\u001b[1mwandb\u001b[0m:        metrics/mAP_0.5 ▁▅▆██▇▇█\r\n",
      "\u001b[34m\u001b[1mwandb\u001b[0m:   metrics/mAP_0.5:0.95 ▁▄▆█▇▇▇█\r\n",
      "\u001b[34m\u001b[1mwandb\u001b[0m:      metrics/precision ▁▄▅▇█▇▇▇\r\n",
      "\u001b[34m\u001b[1mwandb\u001b[0m:         metrics/recall ▁▅▇█▆▆▆▇\r\n",
      "\u001b[34m\u001b[1mwandb\u001b[0m:         train/box_loss █▄▃▃▂▂▁▁\r\n",
      "\u001b[34m\u001b[1mwandb\u001b[0m:         train/cls_loss ▁▁▁▁▁▁▁▁\r\n",
      "\u001b[34m\u001b[1mwandb\u001b[0m:         train/obj_loss █▄▃▂▂▁▁▁\r\n",
      "\u001b[34m\u001b[1mwandb\u001b[0m:           val/box_loss █▅▂▁▂▂▁▁\r\n",
      "\u001b[34m\u001b[1mwandb\u001b[0m:           val/cls_loss ▁▁▁▁▁▁▁▁\r\n",
      "\u001b[34m\u001b[1mwandb\u001b[0m:           val/obj_loss █▂▂▁▂▂▂▂\r\n",
      "\u001b[34m\u001b[1mwandb\u001b[0m:                  x/lr0 ▄█▇▇▆▄▂▁\r\n",
      "\u001b[34m\u001b[1mwandb\u001b[0m:                  x/lr1 ▄█▇▇▆▄▂▁\r\n",
      "\u001b[34m\u001b[1mwandb\u001b[0m:                  x/lr2 █▂▂▂▂▁▁▁\r\n",
      "\u001b[34m\u001b[1mwandb\u001b[0m: \r\n",
      "\u001b[34m\u001b[1mwandb\u001b[0m: Run summary:\r\n",
      "\u001b[34m\u001b[1mwandb\u001b[0m:             best/epoch 7\r\n",
      "\u001b[34m\u001b[1mwandb\u001b[0m:           best/mAP_0.5 0.22297\r\n",
      "\u001b[34m\u001b[1mwandb\u001b[0m:      best/mAP_0.5:0.95 0.11959\r\n",
      "\u001b[34m\u001b[1mwandb\u001b[0m:         best/precision 0.28925\r\n",
      "\u001b[34m\u001b[1mwandb\u001b[0m:            best/recall 0.54948\r\n",
      "\u001b[34m\u001b[1mwandb\u001b[0m:        metrics/mAP_0.5 0.22297\r\n",
      "\u001b[34m\u001b[1mwandb\u001b[0m:   metrics/mAP_0.5:0.95 0.11959\r\n",
      "\u001b[34m\u001b[1mwandb\u001b[0m:      metrics/precision 0.28925\r\n",
      "\u001b[34m\u001b[1mwandb\u001b[0m:         metrics/recall 0.54948\r\n",
      "\u001b[34m\u001b[1mwandb\u001b[0m:         train/box_loss 0.0321\r\n",
      "\u001b[34m\u001b[1mwandb\u001b[0m:         train/cls_loss 0.0\r\n",
      "\u001b[34m\u001b[1mwandb\u001b[0m:         train/obj_loss 0.02473\r\n",
      "\u001b[34m\u001b[1mwandb\u001b[0m:           val/box_loss 0.02578\r\n",
      "\u001b[34m\u001b[1mwandb\u001b[0m:           val/cls_loss 0.0\r\n",
      "\u001b[34m\u001b[1mwandb\u001b[0m:           val/obj_loss 0.02273\r\n",
      "\u001b[34m\u001b[1mwandb\u001b[0m:                  x/lr0 0.00232\r\n",
      "\u001b[34m\u001b[1mwandb\u001b[0m:                  x/lr1 0.00232\r\n",
      "\u001b[34m\u001b[1mwandb\u001b[0m:                  x/lr2 0.00232\r\n",
      "\u001b[34m\u001b[1mwandb\u001b[0m: \r\n",
      "\u001b[34m\u001b[1mwandb\u001b[0m: Synced 5 W&B file(s), 261 media file(s), 0 artifact file(s) and 0 other file(s)\r\n",
      "\u001b[34m\u001b[1mwandb\u001b[0m: Synced \u001b[33ml6_3600_uflip_vm5_f1\u001b[0m: \u001b[34mhttps://wandb.ai/virajkadam/YOLOv5/runs/2o2nvy8o\u001b[0m\r\n",
      "\u001b[34m\u001b[1mwandb\u001b[0m: Find logs at: ./wandb/run-20220213_083522-2o2nvy8o/logs/debug.log\r\n",
      "\u001b[34m\u001b[1mwandb\u001b[0m: \r\n"
     ]
    }
   ],
   "source": [
    "\n",
    "!python train.py --img 3000 --batch 4 --epochs 8 --data reef_f1_naive.yaml --weights yolov5s6.pt --name l6_3600_uflip_vm5_f1 --hyp data/hyps/hyp.heavy.2.yaml"
   ]
  },
  {
   "cell_type": "markdown",
   "id": "6ad109d4",
   "metadata": {
    "papermill": {
     "duration": 2.714941,
     "end_time": "2022-02-13T14:52:34.475400",
     "exception": false,
     "start_time": "2022-02-13T14:52:31.760459",
     "status": "completed"
    },
    "tags": []
   },
   "source": [
    "**Delete Copied files after training**"
   ]
  },
  {
   "cell_type": "code",
   "execution_count": 18,
   "id": "0850b7ba",
   "metadata": {
    "execution": {
     "iopub.execute_input": "2022-02-13T14:52:39.901665Z",
     "iopub.status.busy": "2022-02-13T14:52:39.900824Z",
     "iopub.status.idle": "2022-02-13T14:52:41.118930Z",
     "shell.execute_reply": "2022-02-13T14:52:41.118194Z",
     "shell.execute_reply.started": "2022-02-13T08:31:52.717170Z"
    },
    "papermill": {
     "duration": 4.040265,
     "end_time": "2022-02-13T14:52:41.119098",
     "exception": false,
     "start_time": "2022-02-13T14:52:37.078833",
     "status": "completed"
    },
    "tags": []
   },
   "outputs": [],
   "source": [
    "\n",
    "!rm -r ../yolo_data/"
   ]
  },
  {
   "cell_type": "code",
   "execution_count": 19,
   "id": "d5dc4c3d",
   "metadata": {
    "execution": {
     "iopub.execute_input": "2022-02-13T14:52:46.668233Z",
     "iopub.status.busy": "2022-02-13T14:52:46.667418Z",
     "iopub.status.idle": "2022-02-13T14:52:47.329311Z",
     "shell.execute_reply": "2022-02-13T14:52:47.328836Z"
    },
    "papermill": {
     "duration": 3.277258,
     "end_time": "2022-02-13T14:52:47.329476",
     "exception": false,
     "start_time": "2022-02-13T14:52:44.052218",
     "status": "completed"
    },
    "tags": []
   },
   "outputs": [
    {
     "name": "stdout",
     "output_type": "stream",
     "text": [
      "CONTRIBUTING.md  __pycache__  hubconf.py\tsetup.cfg\tval.py\r\n",
      "Dockerfile\t data\t      models\t\ttrain.py\twandb\r\n",
      "LICENSE\t\t detect.py    requirements.txt\ttutorial.ipynb\tyolov5s6.pt\r\n",
      "README.md\t export.py    runs\t\tutils\r\n"
     ]
    }
   ],
   "source": [
    "!ls"
   ]
  }
 ],
 "metadata": {
  "kernelspec": {
   "display_name": "Python 3",
   "language": "python",
   "name": "python3"
  },
  "language_info": {
   "codemirror_mode": {
    "name": "ipython",
    "version": 3
   },
   "file_extension": ".py",
   "mimetype": "text/x-python",
   "name": "python",
   "nbconvert_exporter": "python",
   "pygments_lexer": "ipython3",
   "version": "3.7.12"
  },
  "papermill": {
   "default_parameters": {},
   "duration": 22733.55184,
   "end_time": "2022-02-13T14:52:50.586416",
   "environment_variables": {},
   "exception": null,
   "input_path": "__notebook__.ipynb",
   "output_path": "__notebook__.ipynb",
   "parameters": {},
   "start_time": "2022-02-13T08:33:57.034576",
   "version": "2.3.3"
  }
 },
 "nbformat": 4,
 "nbformat_minor": 5
}
